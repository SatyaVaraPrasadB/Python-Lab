{
  "nbformat": 4,
  "nbformat_minor": 0,
  "metadata": {
    "colab": {
      "name": "Python lab",
      "provenance": [],
      "collapsed_sections": [],
      "authorship_tag": "ABX9TyNufsvitWZ5ESxwcTE9APIZ",
      "include_colab_link": true
    },
    "kernelspec": {
      "name": "python3",
      "display_name": "Python 3"
    },
    "language_info": {
      "name": "python"
    }
  },
  "cells": [
    {
      "cell_type": "markdown",
      "metadata": {
        "id": "view-in-github",
        "colab_type": "text"
      },
      "source": [
        "<a href=\"https://colab.research.google.com/github/SatyaVaraPrasadB/Python-Lab/blob/main/Python_lab.ipynb\" target=\"_parent\"><img src=\"https://colab.research.google.com/assets/colab-badge.svg\" alt=\"Open In Colab\"/></a>"
      ]
    },
    {
      "cell_type": "markdown",
      "metadata": {
        "id": "engXac6s5sFm"
      },
      "source": [
        " NAME:B.Satya VaraPrasad\n",
        " \n",
        "REG NO:19A21A0571\n",
        " \n",
        "SECTION: CSE-B"
      ]
    },
    {
      "cell_type": "markdown",
      "metadata": {
        "id": "0LFxyvbW57bo"
      },
      "source": [
        "**EXCERSICE-1**    **(BASICS)**\n",
        "\n",
        "*A.Write a program in interactive, interpreter, Python script mode.*\n",
        "\n",
        "*B.Write a program to purposefully raise Indentation Error and Correct\n",
        "it*\n",
        "\n",
        "**AIM:**   \n",
        "    Running instructions in Interactive interpreter and a Python Script\n",
        "\n",
        "  **DESCRIPTION:**\n",
        "\n",
        "   Python is a high-level, interpreted, interactive and object-oriented scripting language. Python is designed to be highly readable. It uses English keywords frequently where as other languages use punctuation, and it has fewer syntactical constructions than other languages.\n",
        "   \n",
        "\n",
        "*   Python is Interpreted\n",
        "*   Python is Interactive\n",
        "*   Python is Object-Oriented\n",
        "*  Python is a Beginner's Language\n",
        "\n",
        "**Python Programming Running Python Scripts:**\n",
        "\n",
        "Running Python in THREE ways:\n",
        "\n",
        "a) Running Python Interpreter \n",
        "\n",
        "b) Running Python Scripts in IDLE\n",
        "\n",
        "\n",
        "c) Running python scripts in Command Prompt\n",
        "\n",
        "**a) Running Python Interpreter:**\n",
        "Python comes with an interactive interpreter. When you typepython in your shell or command prompt, the python interpreter becomes active with a >>>prompt and waits for your commands\n",
        "\n",
        "**b)\n",
        "Running Python Scripts in IDLE:**\n",
        ". Go to File menu click on New File (CTRL+N) and write thecode and save fi rst.py\n",
        "\n",
        "**c)**\n",
        "**Running python scripts in Command Prompt:**\n",
        "· Before going to run we have tocheck the PATH in environment variables.\n"
      ]
    },
    {
      "cell_type": "code",
      "metadata": {
        "colab": {
          "base_uri": "https://localhost:8080/"
        },
        "id": "8ZuaV9Fd6fe1",
        "outputId": "ab0e932a-c82b-4f5e-e952-74b4a90b0294"
      },
      "source": [
        "a=34\n",
        "b=76\n",
        "a,b=b,a\n",
        "print(a,b)"
      ],
      "execution_count": null,
      "outputs": [
        {
          "output_type": "stream",
          "text": [
            "76 34\n"
          ],
          "name": "stdout"
        }
      ]
    },
    {
      "cell_type": "markdown",
      "metadata": {
        "id": "eZBVOa68bCN5"
      },
      "source": [
        "\n",
        "\n",
        "**AIM:**To Write a program to purposefully raise Indentation Error and Correct it\n",
        "**DESCRIPTION:**\n",
        "\n",
        "**Intendation:**\n",
        "\n",
        "*   Python does not support braces to indicate blocks of code for class and function definitions or flow control. \n",
        "*   Blocks of code are denoted by line indentation.\n",
        "*   All the continuous lines indented with same number of spaces would form a block.\n",
        "*   Python strictly follow indentation rules to indicate the blocks.\n",
        "\n",
        "\n"
      ]
    },
    {
      "cell_type": "code",
      "metadata": {
        "colab": {
          "base_uri": "https://localhost:8080/"
        },
        "id": "Iwo7u8LM6nQp",
        "outputId": "b887d70c-01d2-45eb-9a72-4074f0365945"
      },
      "source": [
        "a=input(\"enter a value:\")\n",
        "b=input(\"enter b value:\")\n",
        "c=a+b;\n",
        "print(\"sum is \",c,sep=\"\\t\")\n",
        "c=int(a)+int(b)\n",
        "print(\"sum of {} and {} is : {}\".format(a,b,c))\n",
        "print(\"sum of %s and %s is:%d\"%(a,b,c))\n",
        "x=10\n",
        "y=123\n",
        "z=x+y;\n",
        "print(\"sum is\",z,sep='\\t' )"
      ],
      "execution_count": null,
      "outputs": [
        {
          "output_type": "stream",
          "text": [
            "enter a value:10\n",
            "enter b value:30\n",
            "sum is \t1030\n",
            "sum of 10 and 30 is : 40\n",
            "sum of 10 and 30 is:40\n",
            "sum is\t133\n"
          ],
          "name": "stdout"
        }
      ]
    },
    {
      "cell_type": "code",
      "metadata": {
        "colab": {
          "base_uri": "https://localhost:8080/"
        },
        "id": "Qimezwzf7QyD",
        "outputId": "28e6243b-4e96-471f-f1a1-f4606e697a10"
      },
      "source": [
        "print(\"welcome to python\")\n",
        "a=41\n",
        "b=40\n",
        "print(\"the value of a:\",a)\n",
        "print(\"the value of b :\",b)\n",
        "if(a>b):\n",
        "       print(\"a is big\");\n",
        "       print(\"ifbblock ends\")\n",
        "else:\n",
        "            print(\"b is big\")\n",
        "            print(\"elseblock ends\")"
      ],
      "execution_count": null,
      "outputs": [
        {
          "output_type": "stream",
          "text": [
            "welcome to python\n",
            "the value of a: 41\n",
            "the value of b : 40\n",
            "a is big\n",
            "ifbblock ends\n"
          ],
          "name": "stdout"
        }
      ]
    },
    {
      "cell_type": "markdown",
      "metadata": {
        "id": "JeWux6-_7WbK"
      },
      "source": [
        "**EXERCISE-2**\n",
        "\n",
        "\n",
        "*A) COMPUTE DISTANCE BETWEEN TWO POINTS.*\n",
        "\n",
        "*B) TAKE TWO NUMBERS ON COMMAND LINE ARGUMENTS AND PRINT THE SUM.*\n",
        "\n",
        "**AIM:**To compute distance between two points.\n",
        "\n",
        "**DESCRIPTION:**\n",
        "\n",
        "**Taking input from the User:**A function is defi ned as a block of organized, reusable code used toperform a single, related action. Python has many built-in functions; you can also create yourown.\n",
        "\n",
        "Python has an input function which lets you ask a user for some text input. You call this functionto tell the program to stop and wait for the user to key in the data.\n",
        "\n",
        "In Python 2, you have a built-in function raw_input(), whereas in Python 3, you have input(). Theprogram will resume once the user presses the ENTER or RETURN key.\n",
        "\n",
        "**Input Function:**   input(prompt=None,/).\n",
        "\n",
        "Read a string from standard input. The trailing newline is stripped.\n",
        "\n",
        "The prompt string, if given, is printed to standard output without a trailing new line before reading input.\n",
        "\n",
        "If the user hits EOF (*nix: Ctrl-D, Windows: Ctrl Z+Return), raise EOFError."
      ]
    },
    {
      "cell_type": "code",
      "metadata": {
        "colab": {
          "base_uri": "https://localhost:8080/"
        },
        "id": "831nVqCY7gXy",
        "outputId": "124d9bae-b863-4b44-9eb3-83701d4966e4"
      },
      "source": [
        "x1=10\n",
        "x2=80\n",
        "y1=12\n",
        "y2=20\n",
        "z=(pow((x2-x1),2)+pow((y2-y1),2))**0.5\n",
        "print(z)"
      ],
      "execution_count": null,
      "outputs": [
        {
          "output_type": "stream",
          "text": [
            "70.45565981523414\n"
          ],
          "name": "stdout"
        }
      ]
    },
    {
      "cell_type": "code",
      "metadata": {
        "colab": {
          "base_uri": "https://localhost:8080/"
        },
        "id": "VChtvWNn7nQx",
        "outputId": "7f54be62-f6a5-4f14-d5ff-dee1344118e9"
      },
      "source": [
        "60\n",
        "import math\n",
        "x1=int(input(\"enter  x1 value:\"))\n",
        "x2=int(input(\"enter  x2 value:\"))\n",
        "y1=int(input(\"enter  y1 value:\"))\n",
        "y2=int(input(\"enter  y2 value:\"))\n",
        "z=math.sqrt((x2-x1)**2+(y2-y1)**2)\n",
        "print(\"the distance between two points is :\",z)\n",
        "print(\"the distance between two points is :\",z,sep='\\t')\n",
        "print(\"the distance between ({}, {})and ({},{}) is  :{}\".format(x1,y1,x2,y2,z))\n",
        " \n",
        "print(\"the distance between (%d, %d)and (%d,%d) is  :%f\"%(x1,y1,x2,y2,z))"
      ],
      "execution_count": null,
      "outputs": [
        {
          "output_type": "stream",
          "text": [
            "enter  x1 value:10\n",
            "enter  x2 value:30\n",
            "enter  y1 value:2\n",
            "enter  y2 value:4\n",
            "the distance between two points is : 20.09975124224178\n",
            "the distance between two points is :\t20.09975124224178\n",
            "the distance between (10, 2)and (30,4) is  :20.09975124224178\n",
            "the distance between (10, 2)and (30,4) is  :20.099751\n"
          ],
          "name": "stdout"
        }
      ]
    },
    {
      "cell_type": "markdown",
      "metadata": {
        "id": "FBoxzYCadYVv"
      },
      "source": [
        "\n",
        "\n",
        "**AIM:**To take two numbers on command line arguments and print the sum.\n",
        "\n",
        "**DESCRIPTION:**The arguments that are given after the name of the program in the command line shell of theoperating system are known as Command Line Arguments. Python provides various ways ofdealing with these types of arguments. The three most common are:\n",
        "\n",
        "Using sys.argv\n",
        "\n",
        "Using getopt module\n",
        "\n",
        "Using argparse module\n",
        "\n",
        "Using sys.argv\n",
        "\n",
        "The sys module provides functions and variables used to manipulate different parts of the Python runtime environment. This module provides access to some variables used or maintained by the interpreter and to functions that interact strongly with the interpreter.\n",
        "One such variable is sys.argv which is a simple list structure. It’s main purpose are:\n",
        "\n",
        "It is a list of command line arguments.\n",
        "\n",
        "len(sys.argv) provides the number of command line arguments.\n",
        "\n",
        "sys.argv[0] is the name of the current Python script.\n"
      ]
    },
    {
      "cell_type": "code",
      "metadata": {
        "id": "tIgLWEcK7yvO"
      },
      "source": [
        "import sys\n",
        "a=sys.argv[1]\n",
        "b=sys.argv[2]\n",
        "sum=int(a)+int(b)\n",
        "print(\"sum of two number is:\",sum)"
      ],
      "execution_count": null,
      "outputs": []
    },
    {
      "cell_type": "markdown",
      "metadata": {
        "id": "YotdigVU8H1w"
      },
      "source": [
        "**EXCERSCISE-3**\n",
        "\n",
        "\n",
        " *A) Write a Program for checking whether the given number is an even number or not.*\n",
        "\n",
        "*B)USING A FOR LOOP, WRITE A PROGRAM THAT PRINTS OUT THE DECIMAL EQUIVALENTS OF 1/2,1/3,1/4,......1/10.*\n",
        "\n",
        "*C) TO WRITE A PROGRAM USING FOR LOOP THAT LOOPS OVER A SEQUENCE.WHAT IS SEQUENCE?*\n",
        "\n",
        "*D)TO WRITE A PROGRAM USING WHILE LOOP THAT ASKS THE USER FOR A NUMBER , AND PRINTS A COUNTDOWN FROM THAT NUMBER TO ZERO.*\n",
        "\n",
        "**AIM:**To write a rogram for checking whether the given number is an even number or not.\n",
        "\n",
        "**DESCRIPTION:**if..else Statement When there is an alternate operation in control fl ow, use an else statementalongside with if statement. The general format is\n",
        "\n",
        "if condition:\n",
        "\n",
        "     true statement\n",
        "\n",
        "else:\n",
        "\n",
        "    false statement"
      ]
    },
    {
      "cell_type": "code",
      "metadata": {
        "colab": {
          "base_uri": "https://localhost:8080/"
        },
        "id": "xBJwxgIH8S1c",
        "outputId": "91e9b4da-1e2e-4974-e30f-eaaa08278fc4"
      },
      "source": [
        "n=int(input(\"enter a number:\"))\n",
        "if (n%2)==0:\n",
        "        print(\"given number is even\")\n",
        "else:\n",
        "      print(\"given number is odd\")"
      ],
      "execution_count": null,
      "outputs": [
        {
          "output_type": "stream",
          "text": [
            "enter a number:6\n",
            "given number is even\n"
          ],
          "name": "stdout"
        }
      ]
    },
    {
      "cell_type": "markdown",
      "metadata": {
        "id": "DOW_fxR2hqvU"
      },
      "source": [
        "\n",
        "**AIM\n",
        ":**\n",
        "By  Using a for loop, write a program that prints out the decimal equivalents of 1/2, 1/3, 1/4, . ..1/10\n",
        "\n",
        "**DESCRIPTION:**For Loop: For loops can iterate over a sequence of numbers using the \"range\" and \"xrange\"functions. The difference between range and xrange is that the range function returns a new listwith numbers of that specified range, whereas xrange returns an iterator, which is more efficient.\n",
        "\n",
        "The general format is\n",
        "\n",
        "for x in range(start,stop,step):\n",
        "\n",
        "statements"
      ]
    },
    {
      "cell_type": "code",
      "metadata": {
        "colab": {
          "base_uri": "https://localhost:8080/"
        },
        "id": "YIByjO9p8Ywt",
        "outputId": "0c991de6-5127-4fdc-fef4-8273eaf44960"
      },
      "source": [
        "  n=int(input(\"enter a number:\"))\n",
        "for i in range(2,n):\n",
        "    de=1/i;\n",
        "    print(\"1/\",i,\"=\",de)"
      ],
      "execution_count": null,
      "outputs": [
        {
          "output_type": "stream",
          "text": [
            "enter a number:5\n",
            "1/ 2 = 0.5\n",
            "1/ 3 = 0.3333333333333333\n",
            "1/ 4 = 0.25\n"
          ],
          "name": "stdout"
        }
      ]
    },
    {
      "cell_type": "markdown",
      "metadata": {
        "id": "O1ONEdk45vOE"
      },
      "source": [
        "\n",
        "\n",
        "**AIM\n",
        ":**\n",
        "To Write a program using a for loop that loops over a sequence. What is sequence?\n",
        "\n",
        "**DESCRIPTION\n",
        ":**\n",
        "\n",
        "**For Loop:** For loops can iterate over a sequence of numbers using the \"range\" and \"xrange\"functions. The difference between range and xrange is that the range function returns a new listwith numbers of that specified range, whereas x range returns an iterator, which is more efficient.\n",
        "\n",
        "The general format is\n",
        "\n",
        "for x in range(start,stop,step):\n",
        "\n",
        "statements"
      ]
    },
    {
      "cell_type": "code",
      "metadata": {
        "colab": {
          "base_uri": "https://localhost:8080/"
        },
        "id": "C-t_JqjM8f1z",
        "outputId": "0c2be2a1-617f-41a9-a02f-61f58637447a"
      },
      "source": [
        " #program using a for a loop that loops over a sequence\n",
        "print(\"loop sequence\")\n",
        "num=[48,29,2,78,3,95]\n",
        "for i in num:\n",
        "    print(i)\n",
        " \n",
        "#string sequence\n",
        "print(\"string sequence\")\n",
        "days=[\"sun\",\"mon\",\"tue\",\"wed\",\"thur\",\"fri\",\"st\"]\n",
        "for d in days:\n",
        "    print(d)\n",
        "    \n",
        "#both sequence\n",
        "print(\"sequence\")\n",
        "arr=[563,\"rst\",7.4,'h',-8,\"xy\",True]\n",
        "for x in arr:\n",
        "      print(x)"
      ],
      "execution_count": null,
      "outputs": [
        {
          "output_type": "stream",
          "text": [
            "loop sequence\n",
            "48\n",
            "29\n",
            "2\n",
            "78\n",
            "3\n",
            "95\n",
            "string sequence\n",
            "sun\n",
            "mon\n",
            "tue\n",
            "wed\n",
            "thur\n",
            "fri\n",
            "st\n",
            "sequence\n",
            "563\n",
            "rst\n",
            "7.4\n",
            "h\n",
            "-8\n",
            "xy\n",
            "True\n"
          ],
          "name": "stdout"
        }
      ]
    },
    {
      "cell_type": "markdown",
      "metadata": {
        "id": "jpt4bfg76WrX"
      },
      "source": [
        "\n",
        "\n",
        "**AIM\n",
        ":**\n",
        "To Write a program using a while loop that asks the user for a number, and prints a countdown from that number to zero.\n",
        "\n",
        "**DESCRIPTION\n",
        ":**\n",
        "While Loop is used to execute a block of statements repeatedly until a given condition is satisfi ed. And when the condition becomes false, the line immediately after the loop in the program is executed. While loop falls under the category of indefinite iteration\n",
        "\n",
        "The syntax for a while loop is:\n",
        "\n",
        "while [ condition]"
      ]
    },
    {
      "cell_type": "code",
      "metadata": {
        "colab": {
          "base_uri": "https://localhost:8080/"
        },
        "id": "6JZ9tf1o8mz3",
        "outputId": "9d0d98c1-3e41-461e-a741-397347e4fa05"
      },
      "source": [
        "#countdown seq\n",
        "n=int(input(\"enter the number:\"))\n",
        "while n>0:\n",
        "      print(n)\n",
        "      n=n-1"
      ],
      "execution_count": null,
      "outputs": [
        {
          "output_type": "stream",
          "text": [
            "enter the number:10\n",
            "10\n",
            "9\n",
            "8\n",
            "7\n",
            "6\n",
            "5\n",
            "4\n",
            "3\n",
            "2\n",
            "1\n"
          ],
          "name": "stdout"
        }
      ]
    },
    {
      "cell_type": "markdown",
      "metadata": {
        "id": "nKKYwbEr8smW"
      },
      "source": [
        "**EXCERCISE-4**\n",
        "\n",
        "*A) TO FIND THE SUM OF ALL THE PRIMES BELOW TWO MILLION.EACH NEW TERMM IN THE FIBONACCI SEQUENCE IS GENERATED BY ADDING THE PREVIOUS TWO TERMS.BY STARTING WITH 1 AND 2,THE FIRST 10 TERMS WILL BE :1,2,3,5,8,13,21,34,55,89,..........*\n",
        "\n",
        "*B) BY CONSIDERING THE TERMS IN THE FIBONACCI SEQUENCE WHOSE VALUES DO NOT EXCEED FOUR MILLION , FIND THE SUM OF THE EVEN-VALUED TERMS.*\n",
        "\n",
        "**AIM\n",
        ":**\n",
        "To Find the sum of all the primes below two million. Each new term in the Fibonacci sequence is generated by adding the previous two terms. By starting with 1 and 2, the first 10 terms will be: 1,2, 3, 5, 8, 13, 21, 34, 55, 89, ...\n",
        "\n",
        "**DESCRIPTION\n",
        ":**\n",
        "A Fibonacci sequence is the integer sequence of 0, 1, 1, 2, 3, 5, 8....\n",
        "The fi rst two terms are 0 and 1. All other terms are obtained by adding the preceding two terms.This means to say the nth term is the sum of (n-1)th and (n-2)th term\n",
        "\n",
        "Here, we store the number of terms in nterms. We initialize the fi rst term to 0 and the secondterm to 1.\n",
        "\n",
        "If the number of terms is more than 2, we use a while loop to fi nd the next term in the sequenceby adding the preceding two terms. We then interchange the variables (update it) and continueon with the process."
      ]
    },
    {
      "cell_type": "code",
      "metadata": {
        "colab": {
          "base_uri": "https://localhost:8080/"
        },
        "id": "Y5CZk3J_81ow",
        "outputId": "332c526d-b807-44b2-9cd7-418128f3781c"
      },
      "source": [
        " n=int(input(\"enter a num:\"))\n",
        "a=0\n",
        "b=1\n",
        "c=a+b\n",
        "st=\"\"\n",
        "sum=0\n",
        "con=0\n",
        "while con<=n:\n",
        "    st+=\"\"+str(c)\n",
        "    sum+=c        \n",
        "    a=b\n",
        "    b=c \n",
        "    c=a+b\n",
        "    con+=1\n",
        "print(st)\n",
        "print(\"sum of fibonacii series:\",sum)"
      ],
      "execution_count": null,
      "outputs": [
        {
          "output_type": "stream",
          "text": [
            "enter a num:7\n",
            "12358132134\n",
            "sum of fibonacii series: 87\n"
          ],
          "name": "stdout"
        }
      ]
    },
    {
      "cell_type": "markdown",
      "metadata": {
        "id": "lQTfrHfD8N0i"
      },
      "source": [
        "\n",
        "\n",
        "**AIM\n",
        ":**\n",
        " By considering the terms in the Fibonacci sequence whose values do not exceed four million,find the sum of the even-valued terms.\n",
        " \n",
        "**DESCRIPTION\n",
        ":**\n",
        "A Fibonacci sequence is the integer sequence of 0, 1, 1, 2, 3, 5, 8....\n",
        "\n",
        "The first two terms are 0 and 1. All other terms are obtained by adding the preceding two terms.This means to say the nth term is the sum of (n-1)th and (n-2)th term\n",
        "\n",
        "Here, we store the number of terms in n terms. We initialize the fi rst term to 0 and the secondterm to 1.\n",
        "\n",
        "If the number of terms is more than 2, we use a while loop to fi nd the next term in the sequenceby adding the preceding two terms. We then interchange the variables (update it) and continue on with the process."
      ]
    },
    {
      "cell_type": "code",
      "metadata": {
        "id": "F4Zzpc1X8-BG"
      },
      "source": [
        " n=int(input(\"enter a number:\"))\n",
        "c=0\n",
        " \n",
        " \n",
        "st=\"\"\n",
        "sum=0\n",
        " \n",
        "for i in range(2,n):\n",
        " state=True\n",
        "for j in range(2,i):\n",
        " if(i%j==0):\n",
        "        state=False\n",
        "        break;\n",
        "if state==True:\n",
        "            st+=\"\"+str(i)\n",
        "            c+=1\n",
        "            sum+=i\n",
        " \n",
        "print(\"prime numbers\")\n",
        "print(st)\n",
        " \n",
        "print(\"total count of the prime numbers:\",c)\n",
        "print(\"sum of all prime nums:\",sum)"
      ],
      "execution_count": null,
      "outputs": []
    },
    {
      "cell_type": "markdown",
      "metadata": {
        "id": "Fh3OIib_9Ocx"
      },
      "source": [
        "**EXCERCISE-5**\n",
        "\n",
        "\n",
        "*  DS\n",
        "\n",
        "*A)WRITE A PROGRAM TO COUNT THE NUMBERS OF CHARACTERS IN THE STRING AND STORE THEM IN A DICTIONARY DATA STRUCTURE.*\n",
        "\n",
        "*B) TO WRITE A PROGRAM TO USE SPLIT AND JOIN METHODS IN THE STRING AND TRACE A BIRTHDAY WITH A DICTIONARY DATA STRUCTURE.*\n",
        "\n",
        "**AIM\n",
        ":**\n",
        "a) Write a program to count the numbers of characters in the string and store them in a dictionary data structure\n",
        "\n",
        "**DESCRIPTION\n",
        ":**\n",
        "Given a string, the task is to fi nd the frequencies of all the characters in that string and return a dictionary with key as the character and its value as its frequency in the given string.\n",
        "\n",
        "*Method #1 :* Naive method\n",
        "\n",
        "Simply iterate through the string and form a key in dictionary of newly occurred element or if element is already occurred, increase its value by 1.\n",
        "\n",
        "*Method #2 :* Using collections.Counter()\n",
        "\n",
        "The most suggested method that could be used to find all occurrences is this method, this actually gets all element frequency and could also be used to print single element frequency if required."
      ]
    },
    {
      "cell_type": "code",
      "metadata": {
        "colab": {
          "base_uri": "https://localhost:8080/"
        },
        "id": "MOTkx2GA9YTJ",
        "outputId": "6f00e603-f68f-4665-c96e-8e53ff771dd2"
      },
      "source": [
        " name=input(\"enter a name:\")\n",
        "dic={}\n",
        "for ch in name:\n",
        "    keys=dic.keys()\n",
        " \n",
        "    if(ch in keys):\n",
        "        dic[ch]=dic[ch]+1\n",
        "    else:\n",
        "        dic[ch]=1\n",
        " \n",
        "print(\"dictinarry is:\",dic)"
      ],
      "execution_count": null,
      "outputs": [
        {
          "output_type": "stream",
          "text": [
            "enter a name:Prasad\n",
            "dictinarry is: {'P': 1, 'r': 1, 'a': 2, 's': 1, 'd': 1}\n"
          ],
          "name": "stdout"
        }
      ]
    },
    {
      "cell_type": "markdown",
      "metadata": {
        "id": "Ds-Egryy-OTu"
      },
      "source": [
        "\n",
        "\n",
        "**AIM\n",
        ":**\n",
        "To Write a program to use split and join methods in the string and trace a birthday with a dictionary data structure.\n",
        "\n",
        "**DESCRIPTION\n",
        ":**\n",
        "Python program to Split a string based on a delimiter and join the string using another delimiter.\n",
        "\n",
        "Split a string can be quite useful sometimes, especially when you need only certain parts ofstrings. A simple yet effective example is splitting the First-name and Last-name of a person.Another application is CSV(Comma Separated Files). We use split to get data from CSV and jointo write data to CSV.\n",
        "\n",
        "In Python, we can use the function split() to split a string and join() to join a string."
      ]
    },
    {
      "cell_type": "code",
      "metadata": {
        "colab": {
          "base_uri": "https://localhost:8080/"
        },
        "id": "EXlw1rDW9f-i",
        "outputId": "a1713e7f-13f3-4754-c12e-1eebe093b481"
      },
      "source": [
        " dob={\"Prasad\":\"27-06-2001\",\"Mani\":\"25-05-1999\"}\n",
        "name=input(\"enter which person dob u want:\")\n",
        "l=name.split()\n",
        "birth=\"\"\n",
        "for i in l:\n",
        "    if i in dob.keys():\n",
        "        pers=i\n",
        " \n",
        "print(\"\".join([pers,\"'s birthday is:\",dob[pers]]))"
      ],
      "execution_count": null,
      "outputs": [
        {
          "output_type": "stream",
          "text": [
            "enter which person dob u want:Prasad\n",
            "Prasad's birthday is:27-06-2001\n"
          ],
          "name": "stdout"
        }
      ]
    },
    {
      "cell_type": "markdown",
      "metadata": {
        "id": "27qP3YN3-D03"
      },
      "source": [
        "**EXERCISE-6**\n",
        "\n",
        "\n",
        "* DS - Continued\n",
        "\n",
        "A)WRITE A PROGRAM COMBINE LISTS THAT COMBINES THESE LISTS INTO A DICTIONARY.\n",
        "\n",
        " B) WRITE A PROGRAM TO COUNT FREQUENCY OF CHARACTERS IN AGIVEN FILE.CAN YOU USE CHARACTER FREQUENCY TO TELL WHETHER THE GIVEN FILE IS A PYTHON PROGRAM FILE, C PROGRAM FILE OR A TEXT FILE?\n",
        "\n",
        "**AIM\n",
        ":**\n",
        "To write a program combinelists that combines these lists into a dictionary.\n",
        "\n",
        "**DESCRIPTION\n",
        ":**\n",
        "For this, simply declare a dictionary, and then run nested loop for both the lists and assign keyand value pairs to from list values to dictionary.\n",
        "\n",
        "Most pythonic and generic method to perform this very task is by using zip(). This function pairsthe list element with other list element at corresponding index in form of key-value pairs."
      ]
    },
    {
      "cell_type": "code",
      "metadata": {
        "colab": {
          "base_uri": "https://localhost:8080/"
        },
        "id": "GgLj59wu-KwI",
        "outputId": "78e61f44-7929-4842-d896-fae26404aad0"
      },
      "source": [
        "sub=[\"daa\",\"os\",\"dbms\",\"p&s\",\"ppl\",\"se\"]\n",
        "marks=[94,96,73,65,97,45]\n",
        "print(sub)\n",
        "print(marks)\n",
        "dic=dict(zip(sub,marks))\n",
        "print(dic)"
      ],
      "execution_count": null,
      "outputs": [
        {
          "output_type": "stream",
          "text": [
            "['daa', 'os', 'dbms', 'p&s', 'ppl', 'se']\n",
            "[94, 96, 73, 65, 97, 45]\n",
            "{'daa': 94, 'os': 96, 'dbms': 73, 'p&s': 65, 'ppl': 97, 'se': 45}\n"
          ],
          "name": "stdout"
        }
      ]
    },
    {
      "cell_type": "markdown",
      "metadata": {
        "id": "4XidUV6a_cJM"
      },
      "source": [
        "\n",
        "\n",
        "**AIM:**To write a program to count frequency of characters in a given file. Can you use character frequency to tell whether the given file is a Python program file, C program file or a text file?\n",
        "\n",
        "**DESCRIPTION\n",
        ":**\n",
        "approaches to count the number of times a letter appears in a text fi le in Python.\n",
        "\n",
        "Method 1: Using the in-built count() method.\n",
        "\n",
        "Approach:\n",
        "Read the file.\n",
        "\n",
        "Store the content of the fi le in a variable.\n",
        "\n",
        "Use the count() method with theargument as a letter whose frequency is required.\n",
        "\n",
        "Display the count of the letter."
      ]
    },
    {
      "cell_type": "code",
      "metadata": {
        "id": "tCnAvk2J-VWB"
      },
      "source": [
        "filetypes=['.py','.c','.txt']\n",
        "fn=input(\"enter a file name:\")\n",
        "f=open(fn,\"r\")\n",
        "count=dict()\n",
        "for  ft in filetypes:\n",
        "     if(ft in  fn):\n",
        "           if(ft==\".py\"):\n",
        "             print(\"python file\")\n",
        "           elif(ft==\".c\"):\n",
        "             print(\"cfile\")\n",
        "           elif(ft==\".txt\"):\n",
        "             print(\"text file\")\n",
        " \n",
        " \n",
        "for line in f:\n",
        "     for ch in line:\n",
        "          if ch in count:\n",
        "               count[ch]=count[ch]+1\n",
        " \n",
        "          else:\n",
        "              count[ch]=1\n",
        " \n",
        " \n",
        "print(count)\n",
        "f.close()"
      ],
      "execution_count": null,
      "outputs": []
    },
    {
      "cell_type": "markdown",
      "metadata": {
        "id": "eiyaKGWH-q4L"
      },
      "source": [
        "**EXCERCISE-7**\n",
        "\n",
        "\n",
        "* 7 files\n",
        "\n",
        "\n",
        "a) WRITE A PROGRAM TO PRINT EACH LINE OF A FILE IN REVERSE ORDER.\n",
        "\n",
        "\n",
        "b) WRITE A PROGRAM TO COMPUTE THE NUMBER OF CHARACTERS , WORDS AND LINES IN A FILE."
      ]
    },
    {
      "cell_type": "markdown",
      "metadata": {
        "id": "zE5iMmIGCdAY"
      },
      "source": [
        "**AIM:**\n",
        "To write a program to print each line of a fi le in reverse order.\n",
        "**DESCRIPTION\n",
        ":**The file handling plays an important role when the data needs to be stored permanently into the file. A fi le is a named location on disk to store related information. We can access the stored information (non-volatile) after the program termination. In Python, fi les are treated in two modes as text or binary. The file may be in the text or binary format, and each line of a file isended with the special character. Hence, a file operation can be done in the following order.\n",
        "\n",
        " Open a file\n",
        "\n",
        " Read or write - Performing operation\n",
        "\n",
        " Close the file"
      ]
    },
    {
      "cell_type": "code",
      "metadata": {
        "id": "zOR013RU-00R"
      },
      "source": [
        "obj=open(\"prasad.txt\",\"r\")\n",
        "if obj:\n",
        "    st=obj.read()\n",
        "    print(\"file content is:\")\n",
        "obj.close()\n",
        "print()\n",
        "lines=st.split('\\n')\n",
        "for ln in lines:\n",
        "    i=len(ln)-1\n",
        "    while(i>=0):\n",
        "      print(ln[i],end='')\n",
        "      i=i-1\n",
        "    print()"
      ],
      "execution_count": null,
      "outputs": []
    },
    {
      "cell_type": "markdown",
      "metadata": {
        "id": "Dy9BWD9PDLWm"
      },
      "source": [
        "**AIM\n",
        ":**\n",
        "To write a program to compute the number of characters, words and lines in a file.\n",
        "\n",
        "**DESCRIPTION\n",
        ":**\n",
        "Given a text file fname, the task is to count the total number of characters, words, spaces andlines in the file.\n",
        "\n",
        "As we know, Python provides multiple in-built features and modules for handling files. Let’s discuss different ways to calculate total number of characters, words, spaces and lines in a file using Python.\n",
        "\n",
        "Method #1: Naive approach\n",
        "\n",
        "In this approach, the idea is to solve the task by developing our own logic. Without using anybuilt-in function of Python, the total number of characters, words, spaces and lines of the file willbe calculated.\n",
        "\n",
        "Method #2: Using some built-in functions and OS module functions.\n",
        "\n",
        "In this approach, the idea is to use the os.linesep() method of OS module to separate the lineson the current platform. When the interpreter’s scanner encounter os.linesep it replaces it with\\n character. After that strip() and split() functions will be used to carry out the task."
      ]
    },
    {
      "cell_type": "code",
      "metadata": {
        "id": "Gh8IZi0O_IjC"
      },
      "source": [
        "obj=open(\"prasad.txt\",\"r\")\n",
        "if obj:\n",
        "    st=obj.read()\n",
        "    print(\"file content is:\")\n",
        "obj.close()\n",
        "print()\n",
        "nc=nw=nl=0\n",
        "for ch in st:\n",
        "    if(ch):\n",
        "        nc=nc+1\n",
        "    if(ch==''):\n",
        "        nw=nw+1\n",
        "    if(ch=='\\n'):\n",
        "        nl=nl+1\n",
        " \n",
        "print(\"number of characters in a file:\",nc)\n",
        "print(\"number of words in file is:\",nw)\n",
        "print(\"number of lines ins file:\",nl)"
      ],
      "execution_count": null,
      "outputs": []
    },
    {
      "cell_type": "markdown",
      "metadata": {
        "id": "rM85a5wJ_PqF"
      },
      "source": [
        "**EXCERCISE-8**\n",
        "\n",
        "\n",
        "* 8 Functions\n",
        "\n",
        "A)WRITE A FUNCTION BALL COLLIDE THAT TAKES TWO BALLS AS PARAMETERS AND COMPUTES IF THEY ARE COLLIDING. YOUR FUNCTION SHOULD RETURN A BOOLEAN REPRESENTING WHETHER OR NOT THE BALLS ARE COLLIDING.\n",
        "   \n",
        "   HINT: Represent a ball on a plane as a tuple of (x, y, r), r being the radius If (distance between two balls centers) <= (sum of their radii) then (they are colliding)\n",
        "\n",
        "\n",
        "b) FIND MEAN,MEDIAN,MODE FOR THE GIVEN SET OF NUMBERS IN A LIST.\n",
        "\n",
        "**AIM\n",
        ":**\n",
        "To write a function ball collide that takes two balls as parameters and computes if they are colliding. Your function should return a Boolean representing whether or not the balls are colliding.\n",
        "Hint: Represent a ball on a plane as a tuple of (x, y, r), r being the radius If (distance between two balls centers) <= (sum of their radii) then (they are colliding)\n",
        "\n",
        "**DESCRIPTION:**\n",
        "Functions A function in python is a block of code that is defi ned for doing frequent operations ina particular task. The general format is\n",
        "def Functionname(arguments):\n",
        "\n",
        "Statements\n",
        "\n",
        "Calling a Function:\n",
        "\n",
        "A function can be called by its name followed by arguments within parenthesis.\n",
        "\n",
        "function()"
      ]
    },
    {
      "cell_type": "code",
      "metadata": {
        "colab": {
          "base_uri": "https://localhost:8080/"
        },
        "id": "P4277CZH_bIw",
        "outputId": "fbb8e961-0c86-4e1f-a36c-bb908c98b2b1"
      },
      "source": [
        "import math\n",
        "def ballcollide(b1tup,b2tup):\n",
        "    x1=b1tup[0]\n",
        "    y1=b1tup[1]\n",
        "    x2=b2tup[0]\n",
        "    y2=b2tup[1]\n",
        "    r1=b1tup[2]\n",
        "    r2=b2tup[2]\n",
        " \n",
        " \n",
        "    d=math.sqrt((x2-x1)**2+(y2-y1)**2)\n",
        "    if(d<=r1+r2):\n",
        "      return True\n",
        "    else:\n",
        "        return False\n",
        " \n",
        " \n",
        "ball1=(1,2,3)\n",
        "ball2=(3,2,1)\n",
        "c=ballcollide(ball1,ball2)\n",
        "if(c):\n",
        "    print(\"balls are collided\")\n",
        "else:\n",
        "    print(\"ball are not collided\")"
      ],
      "execution_count": null,
      "outputs": [
        {
          "output_type": "stream",
          "text": [
            "balls are collided\n"
          ],
          "name": "stdout"
        }
      ]
    },
    {
      "cell_type": "markdown",
      "metadata": {
        "id": "iEob9rN7FGs2"
      },
      "source": [
        "**AIM\n",
        ":**\n",
        "To find mean, median, mode for the given set of numbers in a list\n",
        "**DESCRIPTION:**\n",
        "\n",
        "**Mean\n",
        ":**The mean is the average of all numbers and is sometimes called the arithmetic mean.This code calculates Mean or Average of a list containing numbers.\n",
        "**Median\n",
        ":** The median is the middle number in a group of numbers. This code calculates Median of a list containing numbers.\n",
        "\n",
        "**Mode\n",
        ":** The mode is the number that occurs most often within a set of numbers. This codecalculates Mode of a list containing numbers.\n",
        "\n",
        "We will import Counter from collections library which is a built-in module in Python 2 and 3. Thismodule will help us count duplicate elements in a list. We defi ne a list of numbers and calculatethe length of the list. We then call Counter (a dict subclass) which helps to count hashableobjects, and we then convert it to dict object. We then initialize a list with a For Loop to compareall the dict values (Number of elements) to the max of all dict values (count of most occurringelement) and it returns all the elements equal to max count. If the elements returned are equal tothe number of total elements in a list then we print out ‘No mode’, else we print out the modesreturned."
      ]
    },
    {
      "cell_type": "code",
      "metadata": {
        "id": "UtIWMEVa_ho6"
      },
      "source": [
        "def mean(numlist):\n",
        "    return sum(numlist)/len(numlist)\n",
        "def median(numlist):\n",
        "    numlist.sort()\n",
        "    print(numlist)\n",
        "    n=len(numlist)\n",
        "    print(\"total\",n)\n",
        "    mid=n//2\n",
        "    print(\"mid:\",mid)\n",
        "    if(n%2==0):\n",
        "        return numlist[mid]\n",
        "    else:\n",
        "        return (numlist[mid-1]+numlist[mid])/2\n",
        "def mode(numlist):\n",
        "    numlist.sort()\n",
        "    temp=[]\n",
        "    i=0\n",
        "    while i<len(numlist):\n",
        "        temp.append(numlist.count(numlist[i]))\n",
        "        i+=1\n",
        "    dic=dict(zip(numlist,temp))\n",
        "    modes={k for k, v in dic.items() if(v==max(temp))}\n",
        "\n",
        "    return modes\n",
        "list=[1,1,2,2,3,4,5,3,3]\n",
        "print(\"mean of guive list:\",mean(list))\n",
        "print(\"median of guive list:\",median(list))\n",
        " \n",
        "print(\"mode of guive list:\",mode(list))"
      ],
      "execution_count": null,
      "outputs": []
    },
    {
      "cell_type": "markdown",
      "metadata": {
        "id": "TmHdsRon_mbP"
      },
      "source": [
        "**Exercise - 9**\n",
        "\n",
        "\n",
        "* Functions - Continued\n",
        "\n",
        "\n",
        "A) WRITE A FUNCTION NEARLY EQUAL TO TEST WHETHER TWO STRINGS ARE NEARLY EQUAL. TWO STRINGS A AND B ARE NEARLY EQUAL WHEN A CAN BE GENERATED BY A SINGLE MUTATION ON B.\n",
        "\n",
        "B) WRITE A FUNCTION DUP TO FIND ALL DUPLICATES IN THE LIST.\n",
        "\n",
        "C) WRITE A FUNCTION UNIQUE TO FIND ALL THE UNIQUE ELEMENTS OF A LIST.\n",
        "\n",
        "**AIM\n",
        ":**\n",
        "To write a function nearly equal to test whether two strings are nearlyequal. Two strings a andbare\n",
        "nearly equal when a can be generated by a single mutation on b.\n",
        "\n",
        "**DESCRIPTION\n",
        ":**\n",
        "**strlen\n",
        "()** function is used to check wether the two string are nearly equal or not by basis of theLength of those Strings\n",
        "\n",
        "**len()** function is an inbuilt function in Python programming language that returns the length of the string.\n",
        "\n",
        "len\n",
        "() is a built-in function in python.You can use the len() to get the length of the given string,array, list, tuple, dictionary, etc.\n",
        "\n",
        "**Value\n",
        ":**the given value you want the length of.\n",
        "Return value a return an integer value i.e. the length of the given string, or array, or list, or collections.\n",
        "\n",
        "Syntax:\n",
        "\n",
        "len(string)"
      ]
    },
    {
      "cell_type": "code",
      "metadata": {
        "colab": {
          "base_uri": "https://localhost:8080/"
        },
        "id": "PeegwDIj_uBF",
        "outputId": "e783a8a0-fa68-4fc0-a364-e20830cec272"
      },
      "source": [
        "def nearlyeq(str1,str2):\n",
        "    count=0\n",
        "    i=j=0\n",
        "    ss=0\n",
        "    while(i<len(str1)and j<len(str2)):\n",
        "        if(str1[i]!=str2[j]):\n",
        "            count+=1\n",
        "        if(len(str1)>len(str2)):\n",
        "            i+=1\n",
        " \n",
        "        elif(len(str1)==len(str2)):\n",
        "            pass\n",
        "        else:\n",
        "            i-=1     \n",
        "        if(count>1):\n",
        "             ss-=1\n",
        "             \n",
        "        i+=1\n",
        "        j+=1\n",
        "        if(count<2):\n",
        "             ss+=1\n",
        " \n",
        "    return ss\n",
        "s1=input(\"enter a string 1:\")\n",
        "s2=input(\"enter the string2:\")\n",
        "t=nearlyeq(s1,s2)\n",
        "if(t>1):\n",
        "    print(\"nearly equal\")\n",
        "else:\n",
        "    print(\"not nearly equal\")"
      ],
      "execution_count": null,
      "outputs": [
        {
          "output_type": "stream",
          "text": [
            "enter a string 1:Prasad\n",
            "enter the string2:Naraspur\n",
            "not nearly equal\n"
          ],
          "name": "stdout"
        }
      ]
    },
    {
      "cell_type": "markdown",
      "metadata": {
        "id": "ItMotUKKHEGK"
      },
      "source": [
        "**AIM\n",
        ":**\n",
        "To write a function dup to find all duplicates in the list.\n",
        "\n",
        "**DESCRIPTION\n",
        ":**\n",
        "To check if a list contains any duplicate element follow the following steps,\n",
        "Add the contents of list in a set.\n",
        "\n",
        "As set contains only unique elements, so no duplicates will be added the the set.\n",
        "\n",
        "Compare thesize of set and list.\n",
        "\n",
        "If size of list & set is equal then it means no duplicates in list.\n",
        "\n",
        "If size of list & set are different then it means yes, there are duplicates in list."
      ]
    },
    {
      "cell_type": "code",
      "metadata": {
        "colab": {
          "base_uri": "https://localhost:8080/"
        },
        "id": "TcS-xMdt_7Ex",
        "outputId": "acdc0009-a6a2-435c-dc0a-bdd80a2b3a23"
      },
      "source": [
        "def dup(list):\n",
        "  list1=[]\n",
        "  for i in list:\n",
        "    count=list.count(i)\n",
        "    if(count>1 and (i not in list1)):\n",
        "        list1.append(i)\n",
        "        \n",
        "  print(\"the dups int he list are:\",list1)        \n",
        "list2=[1,2,1,2]\n",
        " \n",
        "dup(list2)"
      ],
      "execution_count": null,
      "outputs": [
        {
          "output_type": "stream",
          "text": [
            "the dups int he list are: [1, 2]\n"
          ],
          "name": "stdout"
        }
      ]
    },
    {
      "cell_type": "markdown",
      "metadata": {
        "id": "SLZzReRVHbOc"
      },
      "source": [
        "**AIM\n",
        ":**\n",
        "To write a function unique to find all the unique elements of a list.\n",
        "\n",
        "**DESCRIPTION\n",
        ":**\n",
        "To find the unique in the list .There is a Specific Method i.e.,\n",
        "\n",
        "Method : Traversal of list\n",
        "\n",
        "Using traversal, we can traverse for every element in the list and check if the element is in theunique_list already if it is not over there, then we can append it in the unique_list.\n",
        "\n",
        "This is done using one for loop and other if statement which check if the value is in the uniquelist or not which is equivalent to another for loop."
      ]
    },
    {
      "cell_type": "code",
      "metadata": {
        "colab": {
          "base_uri": "https://localhost:8080/"
        },
        "id": "Ee8A-8usAClx",
        "outputId": "258dd0f1-93f5-4fa8-e6b4-93d49731ec53"
      },
      "source": [
        "def unique(list1):\n",
        "  list2={}\n",
        " \n",
        "  for i in list1:\n",
        "    c=list1.count(i)\n",
        "    if c==1:\n",
        "      list2[i]=c\n",
        "  print(\"the unique elements in the list are:\",list2)\n",
        " \n",
        "list=[1,2,3,45,45,6,88,88,9]\n",
        "unique(list)"
      ],
      "execution_count": null,
      "outputs": [
        {
          "output_type": "stream",
          "text": [
            "the unique elements in the list are: {1: 1, 2: 1, 3: 1, 6: 1, 9: 1}\n"
          ],
          "name": "stdout"
        }
      ]
    },
    {
      "cell_type": "markdown",
      "metadata": {
        "id": "mKjeaX87AHgC"
      },
      "source": [
        "**Exercise - 10**\n",
        "\n",
        "\n",
        "* Functions - Problem Solving\n",
        "\n",
        "\n",
        "A) WRITE A FUNCTION CUMULATIVE PRODUCT TO COMPUTE CUMULATIVE PRODUCT OF A LIST OF NUMBERS.\n",
        "\n",
        "B) WRITE A FUNCTION REVERSE TO REVERSE A LIST. WITHOUT USING THE REVERSE FUNCTION.\n",
        "\n",
        "C) WRITE FUNCTION TO COMPUTE GCD, LCM OF TWO NUMBERS. EACH FUNCTION SHOULDN’T EXCEED ONE LINE\n",
        "\n",
        "**AIM\n",
        ":**\n",
        "To write a function cumulative product to compute cumulative product of a list of numbers.\n",
        "\n",
        "**DESCRIPTION\n",
        ":**\n",
        "A cumulative product is a sequence of partial products of a given sequence. For example, the cumulative products of the sequence. , are , , .. Cumulative products can be implemented in the Wolfram Language as Rest[FoldList[Times, 1, list]]\n",
        "\n",
        "cumprod(A,1) works on successive elements in the columns of A and returns the cumulative products of each column. cumprod(A,2) works on successive elements in the rows of A and returns the cumulative products of each row.\n",
        "\n",
        "umprod() function is used when we want to compute the cumulative product of array elementsover a given axis. Syntax : numpy.cumprod(arr, axis=None, dtype=None, out=None) Parameters :arr : [array_like] Array containing numbers whose cumulative product is desired."
      ]
    },
    {
      "cell_type": "code",
      "metadata": {
        "colab": {
          "base_uri": "https://localhost:8080/"
        },
        "id": "W7rGvys-AP-J",
        "outputId": "734622d5-5ddb-4186-b6bf-9e0ebbb907f0"
      },
      "source": [
        "def cumulative_product(list1,n):\n",
        "    list2=[]\n",
        "    i=0\n",
        "    list2.append(list1[i])\n",
        "    for i in range(1,n):\n",
        "        v=list1[i]*list2[i-1]\n",
        "        list2.append(v)\n",
        "        \n",
        "    print(list2)\n",
        "list3=[]\n",
        "n=int(input(\"enter size :\"))\n",
        "print(\"enter the data:\")\n",
        "for i in range(0,n):\n",
        "    x=int(input())\n",
        "    list3.append(x)\n",
        "cumulative_product(list3,n)"
      ],
      "execution_count": null,
      "outputs": [
        {
          "output_type": "stream",
          "text": [
            "enter size :5\n",
            "enter the data:\n",
            "10\n",
            "20\n",
            "30\n",
            "60\n",
            "5\n",
            "[10, 200, 6000, 360000, 1800000]\n"
          ],
          "name": "stdout"
        }
      ]
    },
    {
      "cell_type": "markdown",
      "metadata": {
        "id": "UFTvwvGXIdPJ"
      },
      "source": [
        "**AIM\n",
        ":**\n",
        "To write a function reverse to reverse a list. Without using the reverse function.\n",
        "**DESCRIPTION\n",
        ":**\n",
        "In this Python code snippet post, we are going to implement a list reverse function from thescratch without using any builtin functions.\n",
        "\n",
        "Let us see how…\n",
        "Iterative solution\n",
        "\n",
        "We can use a for loop to swap the fi rst and last items, the second and the one before the lastitem and so on until the list is reversed in place. The number of iterations needed is half the listsize. If the list has an odd number of items then the middle item will stay in its place."
      ]
    },
    {
      "cell_type": "code",
      "metadata": {
        "colab": {
          "base_uri": "https://localhost:8080/"
        },
        "id": "ulAnoitMAbqR",
        "outputId": "37a5994f-98fa-4d07-f90e-e2b6b62bc01f"
      },
      "source": [
        "def reverse_list(numlist):\n",
        "    temp=list1[::-1]\n",
        "    numlist=temp\n",
        "    return temp\n",
        "list1=[1,2,3,4]\n",
        "print(\"giiven list is :\",list1)\n",
        "print(\"after reverse function:\",reverse_list(list1))\n",
        "print(\"after list is:\",list1)"
      ],
      "execution_count": null,
      "outputs": [
        {
          "output_type": "stream",
          "text": [
            "giiven list is : [1, 2, 3, 4]\n",
            "after reverse function: [4, 3, 2, 1]\n",
            "after list is: [1, 2, 3, 4]\n"
          ],
          "name": "stdout"
        }
      ]
    },
    {
      "cell_type": "markdown",
      "metadata": {
        "id": "z5vgiv_QIrXx"
      },
      "source": [
        "**AIM\n",
        ":**\n",
        "To write function to compute gcd, lcm of two numbers. Each function shouldn’t exceed one line.\n",
        "\n",
        "**DESCRIPTION:**Python provides you an anonymous function called lambda. It can takeany number of arguments, but can only have one expression. It can be used to fi nd LCM andGCD values without exceeding each from from one line.\n",
        "\n",
        "The general format is\n",
        "\n",
        "lambda arguments: expression\n",
        "\n",
        "The expression is executed during the function call and the result is returned.\n",
        "\n",
        "Lambda as a Function\n",
        "\n",
        "The power of using a lambda expression is implementing it using a function"
      ]
    },
    {
      "cell_type": "code",
      "metadata": {
        "colab": {
          "base_uri": "https://localhost:8080/"
        },
        "id": "nxVJiBp_AfvF",
        "outputId": "dcdf3813-8016-4cd4-a2d1-bd7e53da76b6"
      },
      "source": [
        " gcd=lambda a,b: a if b==0 else gcd(a,a%b)\n",
        "lcm=lambda a,b: (a*b)/gcd(a,b)\n",
        " \n",
        "x=4\n",
        "y=24\n",
        "print(\"gcd=\",gcd(x,y))\n",
        "print(\"lcm=\",lcm(x,y))"
      ],
      "execution_count": null,
      "outputs": [
        {
          "output_type": "stream",
          "text": [
            "gcd= 4\n",
            "lcm= 24.0\n"
          ],
          "name": "stdout"
        }
      ]
    },
    {
      "cell_type": "markdown",
      "metadata": {
        "id": "ws9Zo3vNkShj"
      },
      "source": [
        " **Exercise 11: Multi-D Lists**\n",
        "\n",
        "A)WRITE A PROGRAM THAT DEFINES A MATRIX AND PRINTS.\n",
        "\n",
        "B) WRITE A PROGRAM TO PERFORM ADDITION OF TWO SQUARE MATRICES\n",
        "\n",
        "C) WRITE A PROGRAM TO PERFORM MULTIPLICATION OF TWO SQUARE MATRICES\n",
        "\n",
        "**AIM\n",
        ":**\n",
        "To write a program that defines a matrix and prints\n",
        "\n",
        "**DESCRIPTION\n",
        ":**\n",
        "Lists are a very widely use data structure in python. They contain a list of elements separated by comma. But sometimes lists can also contain lists within them. These are called nested lists or multi-dimensional lists. In this article we will see how to create and access elements in a multi-dimensional list.\n",
        "\n",
        "Methods on Multidimensional lists\n",
        "\n",
        "append(): Adds an element at the end of the list.\n",
        "\n",
        "extend(): Add the elements of a list (or any iterable), to the end of the current list.\n",
        "\n",
        "reverse(): Reverses the order of the list."
      ]
    },
    {
      "cell_type": "code",
      "metadata": {
        "colab": {
          "base_uri": "https://localhost:8080/"
        },
        "id": "Jm8VE3ZfkfCx",
        "outputId": "f16dd9cc-7a6a-4894-fe88-2411602e092b"
      },
      "source": [
        "1\n",
        "matA=[[]]\n",
        "rows=int(input(\"Enter row size of matrix: \"))\n",
        "cols=int(input(\"Enter column size of matrix: \"))\n",
        "matA=[[int(input(\"Enter[%d,%d] value: \"%(i,j)))for j in range(cols)]for i in range(rows)]\n",
        "print(\"matrix is: \")\n",
        "for i in range(rows):\n",
        "  for j in range(cols):\n",
        "    print(matA[i][j],end='\\t')\n",
        "  print()"
      ],
      "execution_count": null,
      "outputs": [
        {
          "output_type": "stream",
          "text": [
            "Enter row size of matrix: 3\n",
            "Enter column size of matrix: 3\n",
            "Enter[0,0] value: 3\n",
            "Enter[0,1] value: 4\n",
            "Enter[0,2] value: 6\n",
            "Enter[1,0] value: 6\n",
            "Enter[1,1] value: 9\n",
            "Enter[1,2] value: 8\n",
            "Enter[2,0] value: 7\n",
            "Enter[2,1] value: 5\n",
            "Enter[2,2] value: 2\n",
            "matrix is: \n",
            "3\t4\t6\t\n",
            "6\t9\t8\t\n",
            "7\t5\t2\t\n"
          ],
          "name": "stdout"
        }
      ]
    },
    {
      "cell_type": "markdown",
      "metadata": {
        "id": "pnCVYZhdJ1co"
      },
      "source": [
        "**AIM\n",
        ":**\n",
        "To write a program to perform addition of two square matrices.\n",
        "\n",
        "**DESCRIPTION\n",
        ":**\n",
        "We can perform matrix addition in following ways in Python.\n",
        "\n",
        "Using for loop:\n",
        "Explanation :- In this program we have used nested for loops to iterate througheach row and each column. At each point we add the corresponding elements in the twomatrices and store it in the result.\n",
        "\n",
        "Using nested list comprehension :\n",
        "In Python, we can implement a matrix as nested list (list inside a list). We can treat each elementas a row of the matrix.\n",
        "\n",
        "Explanation :-\n",
        "The output of this program is the same as above. We have used nested list comprehension toiterate through each element in the matrix. List comprehension allows us to write concise codesand we must try to use them frequently in Python. They are very helpful.\n",
        "\n",
        "uising zip function\n",
        "\n",
        "Explanation :\n",
        "The zip function accepts iterator i of each element(list) of matrix, mapping them, adding themusing sum() and storing them in the map form."
      ]
    },
    {
      "cell_type": "code",
      "metadata": {
        "colab": {
          "base_uri": "https://localhost:8080/"
        },
        "id": "XFhV-uHwk7iI",
        "outputId": "327cf589-be77-45d2-b3a4-663436edea32"
      },
      "source": [
        "94\n",
        "def matRead(r,c):\n",
        "  return[[int(input(\"[%d,%d]value:\"%(i,j)))for j in range(c)]for i in range(r)]\n",
        "def matDisp(mat,r,c):\n",
        "  for i in range(r):\n",
        "    for j in range(c):\n",
        "      print(mat[i][j],end='\\t')\n",
        "    print()\n",
        "matA=[[]]\n",
        "matB=[[]]       \n",
        "matSum=[[]]\n",
        "rows=int(input(\"Enter row size of the matrix: \"))\n",
        "cols=int(input(\"Enter column size of the matrix: \"))\n",
        "if rows==cols:\n",
        "  print(\"Enter Matrix-A elements: \")\n",
        "  matA=matRead(rows,cols)\n",
        " \n",
        "  print(\"Enter Matrix-B elements: \")\n",
        "  matB=matRead(rows,cols)\n",
        " \n",
        "  print(\"Matrix-A is: \")\n",
        "  matDisp(matA,rows,cols)\n",
        " \n",
        "  print(\"Matrix-B is: \")\n",
        "  matDisp(matB,rows,cols)\n",
        "  matSum=[[matA[i][j]+matB[i][j]for j in range(cols)]for i in range(rows)]\n",
        "  print(\"sum of matrices is: \")\n",
        "  matDisp(matSum,rows,cols)\n",
        "else:\n",
        "  print(\"Matrices addition is not possible\")"
      ],
      "execution_count": null,
      "outputs": [
        {
          "output_type": "stream",
          "text": [
            "Enter row size of the matrix: 2\n",
            "Enter column size of the matrix: 2\n",
            "Enter Matrix-A elements: \n",
            "[0,0]value:4\n",
            "[0,1]value:8\n",
            "[1,0]value:9\n",
            "[1,1]value:2\n",
            "Enter Matrix-B elements: \n",
            "[0,0]value:1\n",
            "[0,1]value:3\n",
            "[1,0]value:4\n",
            "[1,1]value:8\n",
            "Matrix-A is: \n",
            "4\t8\t\n",
            "9\t2\t\n",
            "Matrix-B is: \n",
            "1\t3\t\n",
            "4\t8\t\n",
            "sum of matrices is: \n",
            "5\t11\t\n",
            "13\t10\t\n"
          ],
          "name": "stdout"
        }
      ]
    },
    {
      "cell_type": "markdown",
      "metadata": {
        "id": "IV-S0auyKPe4"
      },
      "source": [
        "**AIM\n",
        ":**\n",
        "To write a program to perform multiplication of two square.\n",
        "\n",
        "**DESCRIPTION\n",
        ":**\n",
        "In Python, we can implement a matrix as nested list (list inside a list).\n",
        "\n",
        "We can treat each element as a row of the matrix.\n",
        "\n",
        "For example X = [[1, 2], [4, 5], [3, 6]] would represent a 3x2 matrix.\n",
        "The fi rst row can be selected as X[0]. And, the element in fi rst row, fi rst column can be selectedas X[0][0].\n",
        "\n",
        "Multiplication of two matrices X and Y is defined only if the number of columns in X is equal to the number of rows Y.\n",
        "\n",
        "If X is a n x m matrix and Y is a m x l matrix then, XY is defined and has the dimension n x l (but YX is not defined). Here are a couple of ways to implement matrix multiplication in Python."
      ]
    },
    {
      "cell_type": "code",
      "metadata": {
        "colab": {
          "base_uri": "https://localhost:8080/"
        },
        "id": "pxDDi5xClda8",
        "outputId": "dd84bfc0-7618-4f72-bdfb-9d8b35ebcd3c"
      },
      "source": [
        " \n",
        "def  matRead(r,c):  \n",
        "  return[[int(input(\"[%d,%d]value: \"%(i,j)))for j in range(c)]for i in range(r)]\n",
        "def matDisp(mat,r,c):\n",
        "  for i in range(r):\n",
        "    for j in range(c):\n",
        "      print(mat[i][j],end='\\t')\n",
        "matA=[[]]\n",
        "matB=[[]]\n",
        "matMul=[[]]\n",
        "rows=int(input(\"Enter row size of the Matrix: \"))\n",
        "cols=int(input(\"Enter column size of the Matrix: \"))\n",
        " \n",
        "if rows==cols:\n",
        "  print(\"Enter Matrix-A: \")\n",
        "  matA=matRead(rows,cols)\n",
        "  print(\" Enter Matrix-B: \")\n",
        "  matB=matRead(rows,cols)\n",
        " \n",
        "  matMul=[[0 for j in range(cols)]for i in range(rows)]\n",
        "  for i in range(rows):\n",
        "    for j in range(cols):\n",
        "      for k in range(cols):\n",
        "        matMul[i][j]+=matA[i][k]*matB[k][j]\n",
        "  print(\"Matrix-A is: \")\n",
        "  matDisp(matA,rows,cols)\n",
        " \n",
        "  print(\"Matrix-B is: \")\n",
        "  matDisp(matB,rows,cols)\n",
        " \n",
        "  print(\"Multiplication of matrices is: \")\n",
        "  matDisp(matMul,rows,cols)\n",
        "else:\n",
        "  print(\"Matrices Multiplication is not possible is\")"
      ],
      "execution_count": null,
      "outputs": [
        {
          "output_type": "stream",
          "text": [
            "Enter row size of the Matrix: 2\n",
            "Enter column size of the Matrix: 2\n",
            "Enter Matrix-A: \n",
            "[0,0]value: 6\n",
            "[0,1]value: 7\n",
            "[1,0]value: 2\n",
            "[1,1]value: 1\n",
            " Enter Matrix-B: \n",
            "[0,0]value: 8\n",
            "[0,1]value: 6\n",
            "[1,0]value: 2\n",
            "[1,1]value: 1\n",
            "Matrix-A is: \n",
            "6\t7\t2\t1\tMatrix-B is: \n",
            "8\t6\t2\t1\tMultiplication of matrices is: \n",
            "62\t43\t18\t13\t"
          ],
          "name": "stdout"
        }
      ]
    },
    {
      "cell_type": "markdown",
      "metadata": {
        "id": "GXmb6aMPl0tj"
      },
      "source": [
        "**Exercise 12-Modules**\n",
        "\n",
        "\n",
        "A) INSTALL PACKAGE REQUESTS,FLASKS AND EXPLORE THEM.USING(PIP)\n",
        "\n",
        "B) WRITE A SCRIPT THAT IMPORTS REQUESTS AND FETCH CONTENT FROM THE PAGE.EG(WIKI)\n",
        "\n",
        "C) WRITE A SIMPLE SCRIPT THAT SERVES A SIMPLE HTTPRESPONSE AND SIMPLE HTML PAGE\n",
        "\n",
        "**AIM\n",
        ":**\n",
        "To install packages requests,flask and explore them using(pip).\n",
        "\n",
        "**DESCRIPTION\n",
        ":**\n",
        "Installing the pip Python package manager on Windows If you are on Windows, and your installed Python the current version, you already have pip! If your Python installation is not themost recent, the easiest thing to do is to simply reinstall it. Download the Python Windowsinstaller at\n",
        "https://www.python.org/downloads/\n",
        "\n",
        "In Windows, the variable that controls which programs are accessible from the command line ispath. To modify your path to include Python and pip, we have to add C:\\Python27 andC:\\Python27\\Tools. Edit the Windows path by opening the Windows menu, right-clicking onComputer and clicking on Properties. Under Advanced system settings, click EnvironmentVariables.... Scroll down until you fi nd Path, double-click it, and add;C:\\Python27;C:\\Python27\\Tools to the end.\n",
        "\n",
        "Installing packages:\n",
        "\n",
        "Suppose you want to install a package called requests (which is used to make HTTP requests).You need to issue the following command.\n",
        "\n",
        "pip install requests\n",
        "\n",
        "show installed packages\n",
        "\n",
        "You can use the following command to get information about a installed package, i.e Packagename, version, location, dependencies.\n",
        "\n",
        "pip show package_name\n",
        "\n",
        "install flask\n",
        "\n",
        "On Mac and Linux, because you are installing programs outside the user-owned folders, youmight have to prepend sudo to the install commands. To install Flask, simply run this:\n",
        "\n",
        "$ pip install flask\n",
        "\n",
        "show installed flask\n",
        "\n",
        "You can use the following command to get information about a installed fl ask, i.e Packagename, version, location, dependencies\n",
        "\n",
        "$ pip show flask\n",
        "\n",
        "PROGRAM:\n",
        "\n",
        "    The requests and flask packages are download from internet using the \n",
        "    following commands.\n",
        "\n",
        "    C:\\python3.9\\scripts>pip install requests\n",
        "\n",
        "    C:\\python3.9\\scripts>pip show requests\n",
        "\n",
        "    C:\\python3.9\\scripts>pip install flask\n",
        "\n",
        "    C:\\python3.9\\scripts>pip show flask\n",
        "\n",
        " **AIM\n",
        ":**\n",
        "To write a scripts that imports requests and fetch content from the page.Eg. (Wiki)code:\n",
        "\n",
        "**DESCRIPTION\n",
        ":**\n",
        "The Hypertext Transfer Protocol (HTTP) is an application protocol for distributed, collaborative,hypermedia information systems. HTTP is the foundation of data communication for the WorldWide Web.\n",
        "\n",
        "Python requests:\n",
        "\n",
        "Requests is a simple and elegant Python HTTP library. It provides methods for accessing Webresources via HTTP.\n",
        "\n",
        "Python requests reading a web page\n",
        "\n",
        "The get() method issues a GET request; it fetches documents identifi ed by the given URL.\n",
        "\n",
        "**PROGRAM:**\n",
        "\n",
        "    import requests\n",
        "    r=requests.get('https://www.google.com')\n",
        "    print(\"status coed:\",r.status_code)\n",
        "    print(\"header content:\",r.headers['content-type'])\n",
        "    print(r.text)\n",
        "              status coed: 200\n",
        "              header content: text/html; charset=ISO-8859-1\n",
        "              <!doctype html><html itemscope=\"\" itemtype=\"\n",
        "              http://schema.org/WebPage\n",
        "              \" lang=\"en\"><hea\n",
        "              var f=this||self;var h,k=[];function l(a){for(var b;a&&(!a.getAttribute||!(b=a.getAttfunction n(a,b,c,d,g){var e=\"\";c||-1!==b.\n",
        "              search(\"&ei=\")||(e=\"&ei=\"+l(d),-1===b.searchgoogle.y={};\n",
        "              google.sy=[];google.x=function(a,b){if(a)var c=a.id;else{do c=Math.randomdocument.documentElement.addEventListener(\"submit\",\n",
        "              function(b){var a;if(a=b.target){v</style><style>body,td,a,p,.h{font-family:arial,\n",
        "              sans-serif}body{margin:0;overflow-y:sif (!iesg){document.f&&document.f.q.focus();document.gbqf&&document.gbqf.q.focus();}}})();</script><div id=\"mngb\"><div id=gbar><nobr><b class=gb1>Search</b> \n",
        "              <a class=gb1\n",
        "              else top.location='/doodles/';};})();</script><input value=\"ALs-wAMAAAAAYTTdmWUn9RtgGvar a,b=\"1\";if(document&&document.getElementById)\n",
        "              if(\"undefined\"!=typeof XMLHttpRequesvar a=window.innerWidth,b=window.innerHeight;if(!a||!b){var c=window.document,d=\"CSS1var \n",
        "              e=this||self,f=function(a){return a};var g;var l=function(a,b){this.g=b===h?a:\"\"}function n(a){google.timers&&google.timers.load&&google.tick&&google.tick\n",
        "              (\"load\",\"xjsfunction _F_installCss(c){}\n",
        "              (function(){google.jl={attn:false,blt:'none',chnk:0,dw:false,emtn:0,end:0,ine:false,l\n",
        "\n",
        "\n",
        "**AIM\n",
        ":**\n",
        "To write a simple script that serves a simple HTTP Response and Simple HTML page.\n",
        "\n",
        "**DESCRIPTION\n",
        ":**\n",
        "HTTP Protocol\n",
        "\n",
        "The most important part of a web server is HTTP protocol.So now we will see what exactly this is –\n",
        "It stands for Hyper Text Transfer Protocol.\n",
        "\n",
        "It is an application layer protocol that allows web based applications to communicate andexchange data.\n",
        "\n",
        "The HTTP is the messenger of web.\n",
        "\n",
        "The computer that communicate via the HTTP must speak the HTTP protocol.\n",
        "It is a TCP/IP based protocol.\n",
        "\n",
        "It is used to deliver contents, for eg. images, audios, videos, documents etc.\n",
        "\n",
        "Using HTTP is the most convenient way to quickly and reliably move data on the web.\n",
        "\n",
        "HTML stands for hypertext markup language. It is the standard markup language for web pagesthat from flask import Flask,render_template\n",
        "\n",
        "    app=Flask(__name__)\n",
        "    print(app)\n",
        "    @app.route(\"/\")\n",
        "    def main():\n",
        "    return render_template('login.html')\n",
        "    if __name__==\"__main__\":\n",
        "    app.run(host=\"127.0.0.1\",port=2500)\n",
        "    <Flask '__main__'>\n"
      ]
    },
    {
      "cell_type": "markdown",
      "metadata": {
        "id": "i41_eOH5RrYZ"
      },
      "source": [
        "**EXERCISE 13- OOP**\n",
        "\n",
        "A)CLASS VARIABLES AND INSTANCE VARIABLES AND ILLSUSTRATION OF THE SELF VARIABLE\n",
        "\n",
        "1)ROBOT 2)ATM MACHINE \n",
        "\n",
        "**AIM\n",
        ":**\n",
        "class variables and instance variable and illustration of the self -variable.\n",
        "\n",
        "**DESCRIPTION\n",
        ":**\n",
        "Variables are named storage location. In python variables are not defi ned by its type instead itwill be automatically determined by the value assigned to it. To determine the type of a variablea function called type () is used.\n",
        "\n",
        "class variableis shared by all object instances of a class. ... They are not defi ned inside anymethods of a class. Because a class variable is shared by instances of a class, the Python class owns the variable. As a result, all instances of the class will be able to access that variable\n",
        "\n",
        "Instance variables are owned by instances of the class. This means that for each object orinstance of a class, the instance variables are different. ... Instance variables, owned by objects of the class, allow for each object or instance to have different values assigned to those variablesself variable is used to bind the instance of the class to the instance method. We have toexplicitly declare it as the fi rst method argument to access the instance variables and methods.This variable is used only with the instance methods.\n",
        "\n",
        "**PROGRAM:**\n",
        "\n",
        "i)ROBOT  ii)ATM MACHINE\n",
        "\n"
      ]
    },
    {
      "cell_type": "code",
      "metadata": {
        "colab": {
          "base_uri": "https://localhost:8080/"
        },
        "id": "wuajAzpFl-JF",
        "outputId": "4f639bc9-5870-48f3-a733-5530998e1a7d"
      },
      "source": [
        " \n",
        " \n",
        "class Robot:\n",
        "    what=\"Machine\"\n",
        "    name=\"Chitti\"\n",
        "    version=1.0\n",
        "    speed=\"1THz\"\n",
        "    memory=\"1ZB\"\n",
        " \n",
        "    def update(upd):\n",
        "        upd.version=2.0\n",
        "        upd.speed=\"2THz\"\n",
        "        upd.memory=\"2ZB\"\n",
        " \n",
        "    def disp(self):\n",
        "        print(\"Myself is a\",robj.what)\n",
        "        print(\"MyName is a\",robj.name)\n",
        "        print(\"Version :\",robj.version)\n",
        "        print(\"Speed : \",robj.speed)\n",
        "        print(\"Memory: \",robj.memory)\n",
        " \n",
        "robj=Robot()\n",
        "robj.disp()\n",
        " \n",
        "print(\"---------------Update---------\")\n",
        "robj.update()\n",
        "robj.disp()"
      ],
      "execution_count": null,
      "outputs": [
        {
          "output_type": "stream",
          "text": [
            "Myself is a Machine\n",
            "MyName is a Chitti\n",
            "Version : 1.0\n",
            "Speed :  1THz\n",
            "Memory:  1ZB\n",
            "---------------Update---------\n",
            "Myself is a Machine\n",
            "MyName is a Chitti\n",
            "Version : 2.0\n",
            "Speed :  2THz\n",
            "Memory:  2ZB\n"
          ],
          "name": "stdout"
        }
      ]
    },
    {
      "cell_type": "markdown",
      "metadata": {
        "id": "OjVTFL9ImDks"
      },
      "source": [
        "2)ATM Machine"
      ]
    },
    {
      "cell_type": "code",
      "metadata": {
        "colab": {
          "base_uri": "https://localhost:8080/"
        },
        "id": "9LgYH3-YmJ-b",
        "outputId": "bbae1956-2a37-4ac0-a094-7cc6c3f8d841"
      },
      "source": [
        " \n",
        "class ATM:\n",
        "    def __init__(self):\n",
        "        self.balance=0\n",
        "        print(\"New Account\")\n",
        "        \n",
        "    def enquire(self):\n",
        "        print(\"Balance: \",self.balance)\n",
        "        \n",
        "    def deposit(self):\n",
        "        amount=int(input(\"Enter the Deposit Amount:\"))\n",
        "        self.balance+=amount\n",
        "        self.enquire()\n",
        " \n",
        "    def withdraw(self):\n",
        "        amount=int(input(\"Enter the Withdraw Amount: \"))\n",
        "        if self.balance<amount:\n",
        "            print(\"Insufficient Balance.....!\")\n",
        "        else:\n",
        "            self.balance-=amount\n",
        "            self.enquire()\n",
        " \n",
        "aobj=ATM()\n",
        "while(True):\n",
        "    print(\"*****Menu****\")\n",
        "    print(\"1.Deposit\")\n",
        "    print(\"2.Withdarw\")\n",
        "    print(\"3.Balance\")\n",
        "    print(\"0.Exit\")\n",
        "    ch=int(input(\"Enter Your Choice: \"))\n",
        "    if ch==0:\n",
        "        break\n",
        "    elif ch==1:\n",
        "        aobj.deposit()\n",
        "    elif ch==2:\n",
        "        aobj.withdraw()\n",
        "    elif ch==3:\n",
        "        aobj.enquire()\n",
        "    else:\n",
        "        print(\"Invalid choice:\")\n",
        "        pass"
      ],
      "execution_count": null,
      "outputs": [
        {
          "output_type": "stream",
          "text": [
            "New Account\n",
            "*****Menu****\n",
            "1.Deposit\n",
            "2.Withdarw\n",
            "3.Balance\n",
            "0.Exit\n",
            "Enter Your Choice: 1\n",
            "Enter the Deposit Amount:10000\n",
            "Balance:  10000\n",
            "*****Menu****\n",
            "1.Deposit\n",
            "2.Withdarw\n",
            "3.Balance\n",
            "0.Exit\n",
            "Enter Your Choice: 2\n",
            "Enter the Withdraw Amount: 5000\n",
            "Balance:  5000\n",
            "*****Menu****\n",
            "1.Deposit\n",
            "2.Withdarw\n",
            "3.Balance\n",
            "0.Exit\n",
            "Enter Your Choice: 3\n",
            "Balance:  5000\n",
            "*****Menu****\n",
            "1.Deposit\n",
            "2.Withdarw\n",
            "3.Balance\n",
            "0.Exit\n",
            "Enter Your Choice: 0\n"
          ],
          "name": "stdout"
        }
      ]
    },
    {
      "cell_type": "markdown",
      "metadata": {
        "id": "KcR829_tmhW1"
      },
      "source": [
        "**EXERCISE-14: GUI,GRAPHICS**\n",
        "\n",
        "1.WRITE A GUI FOR AN EXPRESSION CALCULATOR USING TK.\n",
        "\n",
        "2.WRITE A PROGRAM TO IMPLEMENT THE FOLLOWING FIGURES USING TURTLE\n",
        "\n",
        "\n",
        "**AIM\n",
        ":**To write a GUI for an Expression Calculator using tk.\n",
        "\n",
        "**DESCRIPTION\n",
        ":**\n",
        "Tkinter is a Python package which comes with many functions and methods that can be used tocreate an application. In order to create a tkinter application, we generally create an instance oftkinter frame, i.e., Tk(). \n",
        "\n",
        "It helps to display the root window and manages all the othercomponents of the tkinter application. We can initialize the tkinter instance by assigning thevariable to it.\n"
      ]
    },
    {
      "cell_type": "code",
      "metadata": {
        "id": "a1n6t0WBTBAo"
      },
      "source": [
        "from tkinter import *\n",
        "win = Tk() # to create a basic window\n",
        "win.geometry(\"312x324\") #for the size of the window\n",
        "win.resizable(0, 0) # to prevent from resizing the window\n",
        "win.title(\"Calculator\")\n",
        "# 'btn_click' Function continuously updates the\n",
        "# input field whenever you enters a number\n",
        "def btn_click(item):\n",
        "global expression\n",
        "expression = expression + str(item)\n",
        "input_text.set(expression)\n",
        "# 'bt_clear' function : used to clear the input field\n",
        "def bt_clear():\n",
        "global expression\n",
        "expression = \"\"\n",
        "input_text.set(\"\")\n",
        "# 'bt_equal':calculates the expression present in input field\n",
        "def bt_equal():\n",
        "global expression\n",
        "result = str(eval(expression)) # 'eval':This function is used to evaluates the string\n",
        "input_text.set(result)\n",
        "expression = \"\"\n",
        "expression = \"\"\n",
        "# 'StringVar()' :used to get the instance of input field\n",
        "input_text = StringVar()\n",
        "# creating a frame for the input field\n",
        "input_frame = Frame(win, width=312, height=50, bd=0, highlightbackground=\"black\", highligh\n",
        "input_frame.pack(side=TOP)\n",
        "#create a input field inside the 'Frame'\n",
        "input_field = Entry(input_frame, font=('arial', 18, 'bold'), textvariable=input_text, widt\n",
        "input_field.grid(row=0, column=0)\n",
        "input_field.pack(ipady=10)\n",
        "# 'ipady' is internal padding to increase the height of input field\n",
        "#creating another 'Frame' for the button below the 'input_frame'\n",
        "btns_frame = Frame(win, width=312, height=272.5, bg=\"grey\")\n",
        "btns_frame.pack()\n",
        "# first row\n",
        "clear = Button(btns_frame, text = \"C\", fg = \"black\", width = 32, height = 3, bd = 0, bg =\n",
        "divide = Button(btns_frame, text = \"/\", fg = \"black\", width = 10, height = 3, bd = 0, bg =\n",
        "# second row\n",
        "seven = Button(btns_frame, text = \"7\", fg = \"black\", width = 10, height = 3, bd = 0, bg =\n",
        "eight = Button(btns_frame, text = \"8\", fg = \"black\", width = 10, height = 3, bd = 0, bg =\n",
        "nine = Button(btns_frame, text = \"9\", fg = \"black\", width = 10, height = 3, bd = 0, bg = \"#\n",
        "multiply = Button(btns_frame, text = \"\", fg = \"black\", width = 10, height = 3, bd = 0, bg\n",
        "# third row\n",
        "four = Button(btns_frame, text = \"4\", fg = \"black\", width = 10, height = 3, bd = 0, bg = \"#\n",
        "five = Button(btns_frame, text = \"5\", fg = \"black\", width = 10, height = 3, bd = 0, bg = \"#\n",
        "six = Button(btns_frame, text = \"6\", fg = \"black\", width = 10, height = 3, bd = 0, bg = \"#\n",
        "minus = Button(btns_frame, text = \"-\", fg = \"black\", width = 10, height = 3, bd = 0, bg =\n",
        "# fourth row\n",
        "one = Button(btns_frame, text = \"1\", fg = \"black\", width = 10, height = 3, bd = 0, bg = \"#\n",
        "two = Button(btns_frame, text = \"2\", fg = \"black\", width = 10, height = 3, bd = 0, bg = \"#\n",
        "three = Button(btns_frame, text = \"3\", fg = \"black\", width = 10, height = 3, bd = 0, bg =\n",
        "plus = Button(btns_frame, text = \"+\", fg = \"black\", width = 10, height = 3, bd = 0, bg = \"#\n",
        "# fifth row\n",
        "zero = Button(btns_frame, text = \"0\", fg = \"black\", width = 21, height = 3, bd = 0, bg = \"#\n",
        "point = Button(btns_frame, text = \".\", fg = \"black\", width = 10, height = 3, bd = 0, bg =\n",
        "equals = Button(btns_frame, text = \"=\", fg = \"black\", width = 10, height = 3, bd = 0, bg =\n",
        "win.mainloop()"
      ],
      "execution_count": null,
      "outputs": []
    },
    {
      "cell_type": "markdown",
      "metadata": {
        "id": "TOoFMOoVTWrM"
      },
      "source": [
        "**AIM:**To write a program to implement the following fi gures using turtle.\n",
        "\n",
        "**DESCRIPTION\n",
        ":**\n",
        "The turtle module is an extended re-implementation of the same-named module from the Python standard distribution up to version Python 2.5.\n",
        "It tries to keep the merits of the old turtle module and to be (nearly) 100% compatible with it.This means in the first place to enable the learning programmer to use all the commands,classes and methods interactively when using the module from within IDLE run with the -nswitch.\n",
        "\n",
        "The turtle module provides turtle graphics primitives, in both object-oriented and procedure-oriented ways. Because it uses tkinter for the underlying graphics, it needs a version of Pythoninstalled with Tk support."
      ]
    },
    {
      "cell_type": "code",
      "metadata": {
        "id": "xOiQ1wGRmnw_"
      },
      "source": [
        "import turtle\n",
        "c=[\"red\",\"green\",\"blue\"]\n",
        "i=0\n",
        "turtle.pensize(5)\n",
        " \n",
        "for angle in range(0,360,30):\n",
        "    if i>2:\n",
        "        i=0\n",
        "    turtle.color(c[i])\n",
        "    turtle.seth(angle)\n",
        "    turtle.circle(50)\n",
        "    i+=1"
      ],
      "execution_count": null,
      "outputs": []
    },
    {
      "cell_type": "markdown",
      "metadata": {
        "id": "HGLBZIYxTtMz"
      },
      "source": [
        "**OUTPUT:**\n",
        "\n",
        "https://drive.google.com/file/d/1eO7D9QdEhvpJ361AQ27u-3vayjNk-W1M/view?usp=sharing"
      ]
    },
    {
      "cell_type": "code",
      "metadata": {
        "id": "5EuhMlYfmvTM"
      },
      "source": [
        "import turtle\n",
        "turtle.pensize(1)\n",
        " \n",
        "for i in range(36):\n",
        "    for j in range(4):\n",
        "        turtle.forward(70)\n",
        "        turtle.left(90)\n",
        "    turtle.left(10)"
      ],
      "execution_count": null,
      "outputs": []
    },
    {
      "cell_type": "markdown",
      "metadata": {
        "id": "DezHHvuBT7IR"
      },
      "source": [
        "**OUTPUT\n",
        ":**\n",
        "https://drive.google.com/file/d/1oiosPXpdD-ioDpquXQ0RRgthFwmt1MIj/view?usp=sharing"
      ]
    },
    {
      "cell_type": "markdown",
      "metadata": {
        "id": "c0rXIT3Fmy3v"
      },
      "source": [
        "**EXERCISE 15: TESTING**\n",
        "\n",
        "A)WRITE A TEST CASE TO CHECK THE FUNCTION EVEN NUMBERS WHICH RETURN TRUE ON PASSING A LIST OF ALL EVEN NUMBERS.\n",
        "\n",
        "B) WRITE A TEST-CASE TO CHECK THE FUNCTION REVERSE STRING WHICH RETURNS THE REVERSED STRING\n",
        "\n",
        "**AIM\n",
        ":**\n",
        "To write a test-case to check the function even numbers which return True on passing a list of all even numbers.\n",
        "\n",
        "**DESCRIPTION\n",
        ":**\n",
        "TestCase is used to create test cases by subclassing it. The last block of the code at the bottomallows us to run all the tests just by running the file. Basic terms used in the code : assertEqual()– This statement is used to check if the result obtained is equal to the expected result\n",
        "test case:\n",
        "\n",
        "A test case is a set of conditions which is used to determine whether a system under test workscorrectly.\n",
        "\n",
        "\n"
      ]
    },
    {
      "cell_type": "code",
      "metadata": {
        "colab": {
          "base_uri": "https://localhost:8080/"
        },
        "id": "zmxcoVHXm5r6",
        "outputId": "22c4cb9d-5cb9-4083-eda4-4a0e8cf567f1"
      },
      "source": [
        "def evnNo(num):\n",
        "    stat=True\n",
        " \n",
        "    for i in num:\n",
        "        if i%2 ==1:\n",
        "            stat=False\n",
        "            break\n",
        "    return stat\n",
        "        \n",
        "numbers=[]\n",
        "for i in range(0,2):\n",
        "    numbers.append(int(input(\"Enter a value\")))\n",
        "print(evnNo(numbers))"
      ],
      "execution_count": null,
      "outputs": [
        {
          "output_type": "stream",
          "text": [
            "Enter a value10\n",
            "Enter a value20\n",
            "True\n"
          ],
          "name": "stdout"
        }
      ]
    },
    {
      "cell_type": "markdown",
      "metadata": {
        "id": "lnD8CdjwUeUn"
      },
      "source": [
        "**AIM\n",
        ":**\n",
        "To write a test-case to check the function reverse string which returns the reversed string\n",
        "\n",
        "**DESCRIPTION\n",
        ":**\n",
        "Python string library does’nt support the in-built “reverse()” as done by other python containerslike list, hence knowing other methods to reverse string can prove to be useful. This articlediscusses several ways to achieve it.\n",
        "\n",
        "The reversed() returns the reversed iterator of the given string and then its elements are joinedempty string separated using join(). And reversed order string is formed."
      ]
    },
    {
      "cell_type": "code",
      "metadata": {
        "colab": {
          "base_uri": "https://localhost:8080/"
        },
        "id": "LUdKGO72nBbw",
        "outputId": "c99de344-aff0-4f2b-eb08-5373e26e7858"
      },
      "source": [
        " \n",
        " \n",
        "def rev_str(st):\n",
        "    return st[::-1]\n",
        " \n",
        "st=\"swarnandhra\"\n",
        "print(\"Given String is: \",st)\n",
        " \n",
        "print(\"Reverse is: \",rev_str(st))"
      ],
      "execution_count": null,
      "outputs": [
        {
          "output_type": "stream",
          "text": [
            "Given String is:  swarnandhra\n",
            "Reverse is:  arhdnanraws\n"
          ],
          "name": "stdout"
        }
      ]
    },
    {
      "cell_type": "markdown",
      "metadata": {
        "id": "rP1nc80St9Ee"
      },
      "source": [
        "**EXERCISE - 16 - ADVANCED**\n",
        "\n",
        "A) BUILD ANY ONE CLASSICAL DATA STRUCTURE.\n",
        "\n",
        "B) WRITE A PROGRAM TO SOLVE KNAPSACK PROBLEM\n",
        "\n",
        "**AIM\n",
        ":**\n",
        "To build any one classical data structure.\n",
        "\n",
        "**DESCRIPTION\n",
        ":**\n",
        "What is a Data Structure\n",
        "Organizing, managing and storing data is important as it enables easieraccess and efficient modifications. Data Structures allows you to organize your data in such away that enables you to store collections of data, relate them and perform operations on them accordingly.\n",
        "\n",
        "Stack Stacks are linear Data Structures which are based on the principle of Last-In-First-Out(LIFO) where data which is entered last will be the first to get accessed. It is built using the array structure and has operations namely, pushing (adding) elements, popping (deleting) elements and accessing elements only from one point in the stack called as the TOP. This TOP is thepointer to the current position of the stack. Stacks are prominently used in applications such asRecursive Programming, reversing words, undo mechanisms in word editors and so forth.\n",
        "\n"
      ]
    },
    {
      "cell_type": "code",
      "metadata": {
        "id": "WDmTdc0nuFDY"
      },
      "source": [
        " \n",
        "import sys\n",
        "a=[]\n",
        "while True: \n",
        "print(\"1.PUSH 2.POP 3.DISPLAY 4.EXIT\")\n",
        " ch=int(input(\"Enter Your Choice: \"))\n",
        "if ch==1:\n",
        "    ele=int(input(\"Enter element: \"))\n",
        "    a.append(ele).\n",
        "    print (\"Inserted\") \n",
        "elif ch==2:\n",
        "  if len(a)==0: \n",
        "     print(\"\\t STACK IS EMPTY\")\n",
        "  else:\n",
        "     print(\"Deleted element is: \", a[len(a)-1])\n",
        "     a.remove (a [len (a) -1])\n",
        "elif ch==3:\n",
        "  if len(a)==0:\n",
        "     print(\"\\t STACK IS EMPTY\")\n",
        "  else:\n",
        "     print(\"\\tThe Elements in Stack is: \") \n",
        "     for i in reversed(a):\n",
        "       print (i)\n",
        "elif ch==4: \n",
        "   sys.exit()\n",
        "else: \n",
        "   print(\"\\tINVALID CHOICE\")"
      ],
      "execution_count": null,
      "outputs": []
    },
    {
      "cell_type": "markdown",
      "metadata": {
        "id": "1zN89AaAVH-u"
      },
      "source": [
        "**AIM\n",
        ":**\n",
        "To write a program to solve knapsack problem.\n",
        "\n",
        "**DESCRIPTION\n",
        ":**\n",
        "Python Program for 0-1 Knapsack Problem\n",
        "\n",
        "Problem statement − We are given weights and values of n items, we need to put these items ina bag of capacity W up to the maximum capacity w. We need to carry a maximum number ofitems and return its value.\n",
        "\n",
        "Brute-force approach.\n",
        "\n",
        "dynamic approach."
      ]
    },
    {
      "cell_type": "code",
      "metadata": {
        "id": "1gtoyTQXuS0i"
      },
      "source": [
        " \n",
        "def knapSack(W,wt,val,n): \n",
        " K=[[0 for x in range(W+1)] for x in range(n+1)]\n",
        "for i in range(n+1):\n",
        "  for w in range(W+1):\n",
        "   if i==0orw==0:\n",
        "      K[i][w]=0\n",
        "   elif wt[i-1]<=w:\n",
        "      K[i][w]=max(val[i-1]+ K[i-1][w-wt[i-1]],K[i-1][w]) \n",
        "   else:\n",
        "      K[i][w]=K[i-1][w]\n",
        "return K[n][W]\n",
        "val= [5,3,4]\n",
        "wt=[3,2,1]\n",
        "W=5\n",
        "n=len(val)\n",
        "print(\"Maximum value knapsack of capacity W: \",knapSack(W, wt, val, n))"
      ],
      "execution_count": null,
      "outputs": []
    },
    {
      "cell_type": "markdown",
      "metadata": {
        "id": "vQnAFwePuby1"
      },
      "source": [
        "**EXERCISE 17 & 18**\n",
        "\n",
        "*DATA ANALYSIS DATA ANALYSIS OR MANIPULATION USING THE FOLLOWING PACKAGES* \n",
        "\n",
        "A) NUMPY B) PANDAS A) SCIPY B) MATPLOTLIB\n",
        "\n",
        "**AIM\n",
        ":**\n",
        "Data analysis or manipulation using the following packages\n",
        "a) Numpy b) Pandas a) Scipy b)matplotlib\n",
        "\n",
        "**DESCRIPTION\n",
        ":**\n",
        "Learn how to analyze data using Python. ... It includes following parts: Data Analysis libraries:will learn to use Pandas, Numpy and Scipy libraries to work with a sample dataset. We willintroduce you to pandas, an open-source library, and we will use it to load, manipulate, analyze,and visualize cool datasets.\n",
        "\n",
        "**SciPy**\n",
        "is a free and open-source Python library used for scientifi c computing and technicalcomputing. It is a collection of mathematical algorithms and convenience functions built on theNumPy extension of Python\n",
        "\n",
        "**NumPy**\n",
        "is the fundamental package for scientifi c computing in Python. ... NumPy arraysfacilitate advanced mathematical and other types of operations on large numbers of data.\n",
        "\n",
        "**Matplotlib**\n",
        "is a plotting library for the Python programming language and its numericalmathematics extension NumPy. It provides an object-oriented API for embedding plots intoapplications using general-purpose GUI toolkits like Tkinter, wxPython, Qt, or GTK\n",
        "\n",
        "**Pandas**\n",
        "is an open source Python package that is most widely used for data science/dataanalysis and machine learning tasks. It is built on top of another package named Numpy, whichprovides support for multi-dimensional arrays.\n",
        "\n",
        "Scikit-learn is probably the most useful library for machine learning in Python. The sklearn librarycontains a lot of effi cient tools for machine learning and statistical modeling includingclassifi cation, regression, clustering and dimensionality reduction\n",
        "\n",
        "Seaborn is a library in Python predominantly used for making statistical graphics. Seaborn is adata visualization library built on top of matplotlib and closely integrated with pandas datastructures in Python\n",
        "\n",
        "**PROGRAM:**"
      ]
    },
    {
      "cell_type": "code",
      "metadata": {
        "id": "yYi_5ejTvRHa",
        "colab": {
          "base_uri": "https://localhost:8080/"
        },
        "outputId": "2de0bc3f-7f5e-4890-b66a-860db5a3cdb8"
      },
      "source": [
        "#python version \n",
        "import sys\n",
        " \n",
        "print('Python:{}'.format(sys.version))\n",
        " \n",
        "#scipy\n",
        " \n",
        "import scipy\n",
        "print('scipy: {}'.format(scipy.__version__))\n",
        " \n",
        "#numpy \n",
        " \n",
        "import numpy\n",
        "print('numpy:{}'.format(numpy.__version__))\n",
        " \n",
        "#matplotlib \n",
        " \n",
        "import matplotlib\n",
        "print('matplotlib:{}'.format(matplotlib.__version__))\n",
        " \n",
        "#pandas \n",
        " \n",
        "import pandas\n",
        "print('pandas:{}'.format(pandas. __version__))\n",
        " \n",
        "#scikit-learn\n",
        " \n",
        "import sklearn\n",
        "print('sklearn:{}'.format(sklearn.__version__))\n",
        " \n",
        "import seaborn\n",
        "print('seaborn: {}'.format(seaborn.__version__)) \n",
        " \n",
        "import urllib\n",
        "print('urlib:{}'.format(urllib.__name__)) \n",
        " \n",
        "import csv\n",
        "print('csv: {}'.format(csv.__version__))"
      ],
      "execution_count": null,
      "outputs": [
        {
          "output_type": "stream",
          "text": [
            "Python:3.7.11 (default, Jul  3 2021, 18:01:19) \n",
            "[GCC 7.5.0]\n",
            "scipy: 1.4.1\n",
            "numpy:1.19.5\n",
            "matplotlib:3.2.2\n",
            "pandas:1.1.5\n",
            "sklearn:0.22.2.post1\n",
            "seaborn: 0.11.1\n",
            "urlib:urllib\n",
            "csv: 1.0\n"
          ],
          "name": "stdout"
        }
      ]
    },
    {
      "cell_type": "markdown",
      "metadata": {
        "id": "yntr54SyW1gC"
      },
      "source": [
        "**NumPy**"
      ]
    },
    {
      "cell_type": "code",
      "metadata": {
        "colab": {
          "base_uri": "https://localhost:8080/"
        },
        "id": "MFxQjHuUW4La",
        "outputId": "e05143fc-847a-4809-83a2-c5f09c21fd7c"
      },
      "source": [
        "import numpy as np\n",
        "a=np.array([0,1,2])\n",
        "print(type(a))\n",
        "print(a.shape)\n",
        "print(a[0])\n",
        "print(a[1])\n",
        "print(a[2])\n",
        "a[0]=5\n",
        "print(a)"
      ],
      "execution_count": null,
      "outputs": [
        {
          "output_type": "stream",
          "name": "stdout",
          "text": [
            "<class 'numpy.ndarray'>\n",
            "(3,)\n",
            "0\n",
            "1\n",
            "2\n",
            "[5 1 2]\n"
          ]
        }
      ]
    },
    {
      "cell_type": "code",
      "metadata": {
        "colab": {
          "base_uri": "https://localhost:8080/"
        },
        "id": "fopro8WwXCsM",
        "outputId": "d573f24e-a144-46ad-b33e-4e3c01dc86d3"
      },
      "source": [
        "import numpy as np\n",
        "b=np.array([[0,1,2],[3,4,5]])\n",
        "print(b.shape)\n",
        "print(b)\n",
        "print(b[0,0],b[0,1],b[1,0])"
      ],
      "execution_count": null,
      "outputs": [
        {
          "output_type": "stream",
          "name": "stdout",
          "text": [
            "(2, 3)\n",
            "[[0 1 2]\n",
            " [3 4 5]]\n",
            "0 1 3\n"
          ]
        }
      ]
    },
    {
      "cell_type": "code",
      "metadata": {
        "colab": {
          "base_uri": "https://localhost:8080/"
        },
        "id": "8ltksLViXESD",
        "outputId": "727b4677-b2b3-432d-d915-10c2888a8177"
      },
      "source": [
        "import numpy as np\n",
        "a=np.zeros((3,3))\n",
        "print(a)"
      ],
      "execution_count": null,
      "outputs": [
        {
          "output_type": "stream",
          "name": "stdout",
          "text": [
            "[[0. 0. 0.]\n",
            " [0. 0. 0.]\n",
            " [0. 0. 0.]]\n"
          ]
        }
      ]
    },
    {
      "cell_type": "code",
      "metadata": {
        "colab": {
          "base_uri": "https://localhost:8080/"
        },
        "id": "ibCxqG0TXJEg",
        "outputId": "51a25cd0-cea9-452d-f00f-d92694ffb0ab"
      },
      "source": [
        "import numpy as np\n",
        "b=np.ones((2,2))\n",
        "print(b)"
      ],
      "execution_count": null,
      "outputs": [
        {
          "output_type": "stream",
          "name": "stdout",
          "text": [
            "[[1. 1.]\n",
            " [1. 1.]]\n"
          ]
        }
      ]
    },
    {
      "cell_type": "code",
      "metadata": {
        "colab": {
          "base_uri": "https://localhost:8080/"
        },
        "id": "Vx-tkpy0XL8z",
        "outputId": "9bdad8bc-08e2-4f5e-d27d-dff918513269"
      },
      "source": [
        "import numpy as np\n",
        "c=np.full((3,3),7)\n",
        "print(c)"
      ],
      "execution_count": null,
      "outputs": [
        {
          "output_type": "stream",
          "name": "stdout",
          "text": [
            "[[7 7 7]\n",
            " [7 7 7]\n",
            " [7 7 7]]\n"
          ]
        }
      ]
    },
    {
      "cell_type": "code",
      "metadata": {
        "colab": {
          "base_uri": "https://localhost:8080/"
        },
        "id": "uxAjSofxXblD",
        "outputId": "2f678668-73f1-471b-c3fe-26745af3d54d"
      },
      "source": [
        "import numpy as np\n",
        "d=np.random.random((3,3))\n",
        "print(d)"
      ],
      "execution_count": null,
      "outputs": [
        {
          "output_type": "stream",
          "name": "stdout",
          "text": [
            "[[0.67242076 0.59516533 0.18434951]\n",
            " [0.22974517 0.92594932 0.34781941]\n",
            " [0.49536045 0.00180083 0.32352867]]\n"
          ]
        }
      ]
    },
    {
      "cell_type": "code",
      "metadata": {
        "colab": {
          "base_uri": "https://localhost:8080/"
        },
        "id": "jWvVccOeXk1Z",
        "outputId": "5b84d130-f698-402e-aa6f-b169bfc72d29"
      },
      "source": [
        "import numpy as np\n",
        "e=np.eye(3)\n",
        "print(e)"
      ],
      "execution_count": null,
      "outputs": [
        {
          "output_type": "stream",
          "name": "stdout",
          "text": [
            "[[1. 0. 0.]\n",
            " [0. 1. 0.]\n",
            " [0. 0. 1.]]\n"
          ]
        }
      ]
    },
    {
      "cell_type": "code",
      "metadata": {
        "colab": {
          "base_uri": "https://localhost:8080/"
        },
        "id": "7ijax7FiXmgJ",
        "outputId": "a7568140-7321-435a-f926-bd12c47351c5"
      },
      "source": [
        "import numpy as np\n",
        "f=np.array([2,3,1,0])\n",
        "print(f)"
      ],
      "execution_count": null,
      "outputs": [
        {
          "output_type": "stream",
          "name": "stdout",
          "text": [
            "[2 3 1 0]\n"
          ]
        }
      ]
    },
    {
      "cell_type": "code",
      "metadata": {
        "colab": {
          "base_uri": "https://localhost:8080/"
        },
        "id": "6umv8St9Xr-p",
        "outputId": "ea9203cf-74ea-4835-d1a7-431e944650ad"
      },
      "source": [
        "import numpy as np\n",
        "g=np.arange(2,10)\n",
        "print(g)"
      ],
      "execution_count": null,
      "outputs": [
        {
          "output_type": "stream",
          "name": "stdout",
          "text": [
            "[2 3 4 5 6 7 8 9]\n"
          ]
        }
      ]
    },
    {
      "cell_type": "code",
      "metadata": {
        "colab": {
          "base_uri": "https://localhost:8080/"
        },
        "id": "ccLFBYaqXuTv",
        "outputId": "f98ec301-f211-480f-f2b5-74daf274e0ed"
      },
      "source": [
        "import numpy as np\n",
        "h=np.array([[0,1,2.0],[0,0,0],(1+1j,3.,2.)])\n",
        "print(h)"
      ],
      "execution_count": null,
      "outputs": [
        {
          "output_type": "stream",
          "name": "stdout",
          "text": [
            "[[0.+0.j 1.+0.j 2.+0.j]\n",
            " [0.+0.j 0.+0.j 0.+0.j]\n",
            " [1.+1.j 3.+0.j 2.+0.j]]\n"
          ]
        }
      ]
    },
    {
      "cell_type": "code",
      "metadata": {
        "colab": {
          "base_uri": "https://localhost:8080/"
        },
        "id": "TqKgwvuvXyXV",
        "outputId": "e8eb5606-7d43-4c22-9982-b39f1efb4f16"
      },
      "source": [
        "import numpy as np\n",
        "i=np.arange(1,8,dtype=np.float)\n",
        "print(i)"
      ],
      "execution_count": null,
      "outputs": [
        {
          "output_type": "stream",
          "name": "stdout",
          "text": [
            "[1. 2. 3. 4. 5. 6. 7.]\n"
          ]
        }
      ]
    },
    {
      "cell_type": "code",
      "metadata": {
        "colab": {
          "base_uri": "https://localhost:8080/"
        },
        "id": "ml0yFHitX2nM",
        "outputId": "c3eba498-1574-48ea-c05f-99286cd2f1f6"
      },
      "source": [
        "import numpy as np\n",
        "j=np.linspace(2.,4., 5)\n",
        "print(j)"
      ],
      "execution_count": null,
      "outputs": [
        {
          "output_type": "stream",
          "name": "stdout",
          "text": [
            "[2.  2.5 3.  3.5 4. ]\n"
          ]
        }
      ]
    },
    {
      "cell_type": "code",
      "metadata": {
        "colab": {
          "base_uri": "https://localhost:8080/"
        },
        "id": "E0U03yQiX5_d",
        "outputId": "dacda0a3-78f6-430a-f5be-f694bd48f5c2"
      },
      "source": [
        "import numpy as np\n",
        "k=np.indices((3,3))\n",
        "print(k)"
      ],
      "execution_count": null,
      "outputs": [
        {
          "output_type": "stream",
          "name": "stdout",
          "text": [
            "[[[0 0 0]\n",
            "  [1 1 1]\n",
            "  [2 2 2]]\n",
            "\n",
            " [[0 1 2]\n",
            "  [0 1 2]\n",
            "  [0 1 2]]]\n"
          ]
        }
      ]
    },
    {
      "cell_type": "code",
      "metadata": {
        "colab": {
          "base_uri": "https://localhost:8080/"
        },
        "id": "qGbNkZRkX-6p",
        "outputId": "15eb6e7e-339a-4233-f5fe-191e0420cb6f"
      },
      "source": [
        "import numpy as np\n",
        "x=np.array([0,1])\n",
        "y=np.array([2.0,3.0])\n",
        "z=np.array([5,6], dtype=np.int64)\n",
        "print(x.dtype,y.dtype,z.dtype)"
      ],
      "execution_count": null,
      "outputs": [
        {
          "output_type": "stream",
          "name": "stdout",
          "text": [
            "int64 float64 int64\n"
          ]
        }
      ]
    },
    {
      "cell_type": "code",
      "metadata": {
        "colab": {
          "base_uri": "https://localhost:8080/"
        },
        "id": "g3rhLu7ZYCgi",
        "outputId": "0aa5fb89-fc69-4107-a56b-d5508fd0d982"
      },
      "source": [
        "import numpy as np\n",
        "x=np.array([5,6,7,8,9])\n",
        "print(x[1:7:2])\n",
        "print(x[-2:5])\n",
        "print(x[-1:1:-1])"
      ],
      "execution_count": null,
      "outputs": [
        {
          "output_type": "stream",
          "name": "stdout",
          "text": [
            "[6 8]\n",
            "[8 9]\n",
            "[9 8 7]\n"
          ]
        }
      ]
    },
    {
      "cell_type": "code",
      "metadata": {
        "colab": {
          "base_uri": "https://localhost:8080/"
        },
        "id": "k3lb9w4LYFwL",
        "outputId": "af88e292-a456-4809-d294-460f02aaccc7"
      },
      "source": [
        "import numpy as np\n",
        "a=np.array([[1,2],[3,4],[5,6]])\n",
        "print(a>2)\n",
        "print(a[a>2])"
      ],
      "execution_count": null,
      "outputs": [
        {
          "output_type": "stream",
          "name": "stdout",
          "text": [
            "[[False False]\n",
            " [ True  True]\n",
            " [ True  True]]\n",
            "[3 4 5 6]\n"
          ]
        }
      ]
    },
    {
      "cell_type": "code",
      "metadata": {
        "colab": {
          "base_uri": "https://localhost:8080/"
        },
        "id": "HpDdjHMnYJeV",
        "outputId": "83d4e902-413c-4b35-8443-6fb442ac5fe4"
      },
      "source": [
        "import numpy as np\n",
        "x=np.array([[1,2],[3,4],[5,6]])\n",
        "y=np.array([[7,8],[9,10],[11,12]])\n",
        "print(x+y)\n",
        "print(np.add(x,y))\n",
        "print(x-y)\n",
        "print(np.subtract(x,y))"
      ],
      "execution_count": null,
      "outputs": [
        {
          "output_type": "stream",
          "name": "stdout",
          "text": [
            "[[ 8 10]\n",
            " [12 14]\n",
            " [16 18]]\n",
            "[[ 8 10]\n",
            " [12 14]\n",
            " [16 18]]\n",
            "[[-6 -6]\n",
            " [-6 -6]\n",
            " [-6 -6]]\n",
            "[[-6 -6]\n",
            " [-6 -6]\n",
            " [-6 -6]]\n"
          ]
        }
      ]
    },
    {
      "cell_type": "code",
      "metadata": {
        "colab": {
          "base_uri": "https://localhost:8080/"
        },
        "id": "Z_HgTkY8YNRl",
        "outputId": "7c1e6b67-ab24-4008-aafb-75c9ffcd665e"
      },
      "source": [
        "import numpy as np\n",
        "x=np.array([[1,2],[3,4],[5,6]])\n",
        "y=np.array([[7,8],[9,10],[11,12]])\n",
        "print(np.multiply(x,y))\n",
        "print(x*y)"
      ],
      "execution_count": null,
      "outputs": [
        {
          "output_type": "stream",
          "name": "stdout",
          "text": [
            "[[ 7 16]\n",
            " [27 40]\n",
            " [55 72]]\n",
            "[[ 7 16]\n",
            " [27 40]\n",
            " [55 72]]\n"
          ]
        }
      ]
    },
    {
      "cell_type": "code",
      "metadata": {
        "colab": {
          "base_uri": "https://localhost:8080/"
        },
        "id": "4lpDLO-OYRf7",
        "outputId": "07b68082-0e4a-4a18-8316-11823f15a28d"
      },
      "source": [
        "import numpy as np\n",
        "x=np.array([[1,2],[3,4],[5,6]])\n",
        "y=np.array([[7,8],[9,10],[11,12]])\n",
        "print(np.divide(x,y))\n",
        "print(x/y)"
      ],
      "execution_count": null,
      "outputs": [
        {
          "output_type": "stream",
          "name": "stdout",
          "text": [
            "[[0.14285714 0.25      ]\n",
            " [0.33333333 0.4       ]\n",
            " [0.45454545 0.5       ]]\n",
            "[[0.14285714 0.25      ]\n",
            " [0.33333333 0.4       ]\n",
            " [0.45454545 0.5       ]]\n"
          ]
        }
      ]
    },
    {
      "cell_type": "code",
      "metadata": {
        "colab": {
          "base_uri": "https://localhost:8080/"
        },
        "id": "No_dHs7AYV2x",
        "outputId": "652ac840-b712-4ba5-e163-8b9f3a0291d4"
      },
      "source": [
        "import numpy as np\n",
        "x=np.array([[1,2],[3,4],[5,6]])\n",
        "print(np.sqrt(x))"
      ],
      "execution_count": null,
      "outputs": [
        {
          "output_type": "stream",
          "name": "stdout",
          "text": [
            "[[1.         1.41421356]\n",
            " [1.73205081 2.        ]\n",
            " [2.23606798 2.44948974]]\n"
          ]
        }
      ]
    },
    {
      "cell_type": "code",
      "metadata": {
        "colab": {
          "base_uri": "https://localhost:8080/"
        },
        "id": "KsPTR2rgYZyW",
        "outputId": "6d26b2db-747b-4f7b-b16d-434e8873dddb"
      },
      "source": [
        "import numpy as np\n",
        "a=np.array([9,10])\n",
        "b=np.array([11,12])\n",
        "print(a.dot(b))\n",
        "print(np.dot(a,b))"
      ],
      "execution_count": null,
      "outputs": [
        {
          "output_type": "stream",
          "name": "stdout",
          "text": [
            "219\n",
            "219\n"
          ]
        }
      ]
    },
    {
      "cell_type": "code",
      "metadata": {
        "colab": {
          "base_uri": "https://localhost:8080/"
        },
        "id": "rYbteOyGYelI",
        "outputId": "5200d13c-8129-471f-c414-9d737e2316c8"
      },
      "source": [
        "a=np.array([9,10])\n",
        "x=np.array([[1,2],[3,4]])\n",
        "print(x.dot(a))\n",
        "print(np.dot(x,a))"
      ],
      "execution_count": null,
      "outputs": [
        {
          "output_type": "stream",
          "name": "stdout",
          "text": [
            "[29 67]\n",
            "[29 67]\n"
          ]
        }
      ]
    },
    {
      "cell_type": "code",
      "metadata": {
        "colab": {
          "base_uri": "https://localhost:8080/"
        },
        "id": "F6wG4oACYh_v",
        "outputId": "a8bf5168-9a07-4a5d-ebd4-9377e2e038db"
      },
      "source": [
        "import numpy as np\n",
        "x=np.array([[1,2],[3,4]])\n",
        "y=np.array([[5,6],[7,8]])\n",
        "print(x.dot(y))\n",
        "print(np.dot(x,y))"
      ],
      "execution_count": null,
      "outputs": [
        {
          "output_type": "stream",
          "name": "stdout",
          "text": [
            "[[19 22]\n",
            " [43 50]]\n",
            "[[19 22]\n",
            " [43 50]]\n"
          ]
        }
      ]
    },
    {
      "cell_type": "code",
      "metadata": {
        "colab": {
          "base_uri": "https://localhost:8080/"
        },
        "id": "6_ZBzdZZYlf5",
        "outputId": "550ad008-5799-41c8-8f1d-a932ca2ff2e4"
      },
      "source": [
        "import numpy as np\n",
        "x=np.array([[1,2],[3,4]])\n",
        "print(np.sum(x))\n",
        "print(np.sum(x,axis=0))\n",
        "print(np.sum(x,axis=1))"
      ],
      "execution_count": null,
      "outputs": [
        {
          "output_type": "stream",
          "name": "stdout",
          "text": [
            "10\n",
            "[4 6]\n",
            "[3 7]\n"
          ]
        }
      ]
    },
    {
      "cell_type": "code",
      "metadata": {
        "colab": {
          "base_uri": "https://localhost:8080/"
        },
        "id": "8jC2ZN3AYo1Z",
        "outputId": "e1bad504-681e-49a3-f4f9-e6acf52ec11c"
      },
      "source": [
        "import numpy as np\n",
        "x=np.array([[1,2],[3,4]])\n",
        "print(x)\n",
        "print(x.T)"
      ],
      "execution_count": null,
      "outputs": [
        {
          "output_type": "stream",
          "name": "stdout",
          "text": [
            "[[1 2]\n",
            " [3 4]]\n",
            "[[1 3]\n",
            " [2 4]]\n"
          ]
        }
      ]
    },
    {
      "cell_type": "code",
      "metadata": {
        "colab": {
          "base_uri": "https://localhost:8080/"
        },
        "id": "MXZjcN-gYtOO",
        "outputId": "a3de8977-d930-4ea2-90b8-c66c32f1e069"
      },
      "source": [
        "import numpy as np\n",
        "v=np.array([1,2,3])\n",
        "print(v)\n",
        "print(v.T)"
      ],
      "execution_count": null,
      "outputs": [
        {
          "output_type": "stream",
          "name": "stdout",
          "text": [
            "[1 2 3]\n",
            "[1 2 3]\n"
          ]
        }
      ]
    },
    {
      "cell_type": "code",
      "metadata": {
        "colab": {
          "base_uri": "https://localhost:8080/"
        },
        "id": "EMQnZIV6YyWW",
        "outputId": "3c12d5a7-f3f9-4a7e-8841-71558f47ddb5"
      },
      "source": [
        "import numpy as np\n",
        "a=np.array([[1,2,3],[4,5,6],[7,8,9]])\n",
        "v=np.array([1,0,1])\n",
        "b=a+v\n",
        "print(b)"
      ],
      "execution_count": null,
      "outputs": [
        {
          "output_type": "stream",
          "name": "stdout",
          "text": [
            "[[ 2  2  4]\n",
            " [ 5  5  7]\n",
            " [ 8  8 10]]\n"
          ]
        }
      ]
    },
    {
      "cell_type": "code",
      "metadata": {
        "colab": {
          "base_uri": "https://localhost:8080/"
        },
        "id": "hjOXfsocY5dc",
        "outputId": "6c6f2592-a57f-4ebf-d8a4-5c40620e5ba3"
      },
      "source": [
        "import numpy as np\n",
        "x=np.array([[1,2,1],[3,4,1]])\n",
        "print(\"X.T:\\n\",x.T)\n",
        "w=np.array([1,1])\n",
        "print(\"W:\\n\",w)\n",
        "print(\"Final :\\n\",(x.T+w).T)"
      ],
      "execution_count": null,
      "outputs": [
        {
          "output_type": "stream",
          "name": "stdout",
          "text": [
            "X.T:\n",
            " [[1 3]\n",
            " [2 4]\n",
            " [1 1]]\n",
            "W:\n",
            " [1 1]\n",
            "Final :\n",
            " [[2 3 2]\n",
            " [4 5 2]]\n"
          ]
        }
      ]
    },
    {
      "cell_type": "code",
      "metadata": {
        "colab": {
          "base_uri": "https://localhost:8080/"
        },
        "id": "R8IEJTXrZF7d",
        "outputId": "ac7a43cd-65e4-444e-fe05-f41d8d70ed5c"
      },
      "source": [
        "import numpy as np\n",
        "x=np.array([[1,2,1],[3,4,1]])\n",
        "print(x*2)"
      ],
      "execution_count": null,
      "outputs": [
        {
          "output_type": "stream",
          "name": "stdout",
          "text": [
            "[[2 4 2]\n",
            " [6 8 2]]\n"
          ]
        }
      ]
    },
    {
      "cell_type": "code",
      "metadata": {
        "colab": {
          "base_uri": "https://localhost:8080/"
        },
        "id": "U688YSN5ZKHj",
        "outputId": "69f1a90f-07ae-4130-df34-f9d6cac7d2ab"
      },
      "source": [
        "import numpy as np\n",
        "np.random.rand(3,2)"
      ],
      "execution_count": null,
      "outputs": [
        {
          "output_type": "execute_result",
          "data": {
            "text/plain": [
              "array([[0.36022355, 0.66284388],\n",
              "       [0.02967491, 0.66799049],\n",
              "       [0.95623205, 0.77162077]])"
            ]
          },
          "metadata": {},
          "execution_count": 31
        }
      ]
    },
    {
      "cell_type": "code",
      "metadata": {
        "colab": {
          "base_uri": "https://localhost:8080/"
        },
        "id": "76kFU9aXZNQM",
        "outputId": "f69224cc-b2c3-43a0-8c22-791a599a97b0"
      },
      "source": [
        "import numpy as np\n",
        "np.random.rand(10)"
      ],
      "execution_count": null,
      "outputs": [
        {
          "output_type": "execute_result",
          "data": {
            "text/plain": [
              "array([0.10609185, 0.41760614, 0.37811162, 0.37098515, 0.34637024,\n",
              "       0.6893038 , 0.70682498, 0.99186018, 0.87162434, 0.53644842])"
            ]
          },
          "metadata": {},
          "execution_count": 32
        }
      ]
    },
    {
      "cell_type": "code",
      "metadata": {
        "colab": {
          "base_uri": "https://localhost:8080/"
        },
        "id": "SYmnxSxGZRKN",
        "outputId": "148f6a92-d5fd-4ea3-d5bd-b5f4f5546e9d"
      },
      "source": [
        "import random\n",
        "print (random.randint(0,9))"
      ],
      "execution_count": null,
      "outputs": [
        {
          "output_type": "stream",
          "name": "stdout",
          "text": [
            "9\n"
          ]
        }
      ]
    },
    {
      "cell_type": "markdown",
      "metadata": {
        "id": "oVHmh5OTZeNK"
      },
      "source": [
        "**Pandas**\n",
        "\n",
        "\n",
        "**1.Creating Series**"
      ]
    },
    {
      "cell_type": "code",
      "metadata": {
        "colab": {
          "base_uri": "https://localhost:8080/"
        },
        "id": "4D-ePyeRZikA",
        "outputId": "693f40f3-6604-41bc-ecdf-41ed2b6bfda0"
      },
      "source": [
        "import pandas as pd\n",
        "s=pd.Series([1,2,3,4,5],index=['A','B','C','D','E'])\n",
        "s"
      ],
      "execution_count": null,
      "outputs": [
        {
          "output_type": "execute_result",
          "data": {
            "text/plain": [
              "A    1\n",
              "B    2\n",
              "C    3\n",
              "D    4\n",
              "E    5\n",
              "dtype: int64"
            ]
          },
          "metadata": {},
          "execution_count": 36
        }
      ]
    },
    {
      "cell_type": "markdown",
      "metadata": {
        "id": "gdg5dePnZpXh"
      },
      "source": [
        "**2.Data Frames**"
      ]
    },
    {
      "cell_type": "code",
      "metadata": {
        "colab": {
          "base_uri": "https://localhost:8080/"
        },
        "id": "MBXDPaGRZq7f",
        "outputId": "f6bc8254-a6f7-464d-e9a9-cb2baeaa3774"
      },
      "source": [
        "import pandas as pd\n",
        "data={'Gen':['F','M','M'],'EiD':['E01','E02','E03'],'Age':[25,45,38]}\n",
        "df=pd.DataFrame(data,columns=['EiD','Age','Gen'])\n",
        "print(df)"
      ],
      "execution_count": null,
      "outputs": [
        {
          "output_type": "stream",
          "name": "stdout",
          "text": [
            "   EiD  Age Gen\n",
            "0  E01   25   F\n",
            "1  E02   45   M\n",
            "2  E03   38   M\n"
          ]
        }
      ]
    },
    {
      "cell_type": "code",
      "metadata": {
        "colab": {
          "base_uri": "https://localhost:8080/"
        },
        "id": "3Kc0ttodpV_h",
        "outputId": "ad534279-68ef-4711-d92b-73a760c5d346"
      },
      "source": [
        "import pandas as pd\n",
        "from numpy import loadtxt\n",
        "from urllib.request import urlopen\n",
        "\n",
        "url='https://raw.githubusercontent.com/jbrownlee/datasets/master/pima-indians-diabetes.data.csv'\n",
        "\n",
        "raw_data=pd.read_csv(urlopen(url))\n",
        "raw_data.shape\n"
      ],
      "execution_count": null,
      "outputs": [
        {
          "output_type": "execute_result",
          "data": {
            "text/plain": [
              "(767, 9)"
            ]
          },
          "metadata": {},
          "execution_count": 1
        }
      ]
    },
    {
      "cell_type": "code",
      "metadata": {
        "colab": {
          "base_uri": "https://localhost:8080/",
          "height": 205
        },
        "id": "Q1LcloKnqNMn",
        "outputId": "20461b21-a2d7-400a-8e71-0ab1605220e2"
      },
      "source": [
        "raw_data.head()"
      ],
      "execution_count": null,
      "outputs": [
        {
          "output_type": "execute_result",
          "data": {
            "text/html": [
              "<div>\n",
              "<style scoped>\n",
              "    .dataframe tbody tr th:only-of-type {\n",
              "        vertical-align: middle;\n",
              "    }\n",
              "\n",
              "    .dataframe tbody tr th {\n",
              "        vertical-align: top;\n",
              "    }\n",
              "\n",
              "    .dataframe thead th {\n",
              "        text-align: right;\n",
              "    }\n",
              "</style>\n",
              "<table border=\"1\" class=\"dataframe\">\n",
              "  <thead>\n",
              "    <tr style=\"text-align: right;\">\n",
              "      <th></th>\n",
              "      <th>6</th>\n",
              "      <th>148</th>\n",
              "      <th>72</th>\n",
              "      <th>35</th>\n",
              "      <th>0</th>\n",
              "      <th>33.6</th>\n",
              "      <th>0.627</th>\n",
              "      <th>50</th>\n",
              "      <th>1</th>\n",
              "    </tr>\n",
              "  </thead>\n",
              "  <tbody>\n",
              "    <tr>\n",
              "      <th>0</th>\n",
              "      <td>1</td>\n",
              "      <td>85</td>\n",
              "      <td>66</td>\n",
              "      <td>29</td>\n",
              "      <td>0</td>\n",
              "      <td>26.6</td>\n",
              "      <td>0.351</td>\n",
              "      <td>31</td>\n",
              "      <td>0</td>\n",
              "    </tr>\n",
              "    <tr>\n",
              "      <th>1</th>\n",
              "      <td>8</td>\n",
              "      <td>183</td>\n",
              "      <td>64</td>\n",
              "      <td>0</td>\n",
              "      <td>0</td>\n",
              "      <td>23.3</td>\n",
              "      <td>0.672</td>\n",
              "      <td>32</td>\n",
              "      <td>1</td>\n",
              "    </tr>\n",
              "    <tr>\n",
              "      <th>2</th>\n",
              "      <td>1</td>\n",
              "      <td>89</td>\n",
              "      <td>66</td>\n",
              "      <td>23</td>\n",
              "      <td>94</td>\n",
              "      <td>28.1</td>\n",
              "      <td>0.167</td>\n",
              "      <td>21</td>\n",
              "      <td>0</td>\n",
              "    </tr>\n",
              "    <tr>\n",
              "      <th>3</th>\n",
              "      <td>0</td>\n",
              "      <td>137</td>\n",
              "      <td>40</td>\n",
              "      <td>35</td>\n",
              "      <td>168</td>\n",
              "      <td>43.1</td>\n",
              "      <td>2.288</td>\n",
              "      <td>33</td>\n",
              "      <td>1</td>\n",
              "    </tr>\n",
              "    <tr>\n",
              "      <th>4</th>\n",
              "      <td>5</td>\n",
              "      <td>116</td>\n",
              "      <td>74</td>\n",
              "      <td>0</td>\n",
              "      <td>0</td>\n",
              "      <td>25.6</td>\n",
              "      <td>0.201</td>\n",
              "      <td>30</td>\n",
              "      <td>0</td>\n",
              "    </tr>\n",
              "  </tbody>\n",
              "</table>\n",
              "</div>"
            ],
            "text/plain": [
              "   6  148  72  35    0  33.6  0.627  50  1\n",
              "0  1   85  66  29    0  26.6  0.351  31  0\n",
              "1  8  183  64   0    0  23.3  0.672  32  1\n",
              "2  1   89  66  23   94  28.1  0.167  21  0\n",
              "3  0  137  40  35  168  43.1  2.288  33  1\n",
              "4  5  116  74   0    0  25.6  0.201  30  0"
            ]
          },
          "metadata": {},
          "execution_count": 2
        }
      ]
    },
    {
      "cell_type": "code",
      "metadata": {
        "id": "DjGtmQGjqhlt",
        "colab": {
          "base_uri": "https://localhost:8080/",
          "height": 205
        },
        "outputId": "4e1af124-ef0c-472e-d04c-4fa8295cb0a4"
      },
      "source": [
        "raw_data.tail()"
      ],
      "execution_count": null,
      "outputs": [
        {
          "output_type": "execute_result",
          "data": {
            "text/html": [
              "<div>\n",
              "<style scoped>\n",
              "    .dataframe tbody tr th:only-of-type {\n",
              "        vertical-align: middle;\n",
              "    }\n",
              "\n",
              "    .dataframe tbody tr th {\n",
              "        vertical-align: top;\n",
              "    }\n",
              "\n",
              "    .dataframe thead th {\n",
              "        text-align: right;\n",
              "    }\n",
              "</style>\n",
              "<table border=\"1\" class=\"dataframe\">\n",
              "  <thead>\n",
              "    <tr style=\"text-align: right;\">\n",
              "      <th></th>\n",
              "      <th>6</th>\n",
              "      <th>148</th>\n",
              "      <th>72</th>\n",
              "      <th>35</th>\n",
              "      <th>0</th>\n",
              "      <th>33.6</th>\n",
              "      <th>0.627</th>\n",
              "      <th>50</th>\n",
              "      <th>1</th>\n",
              "    </tr>\n",
              "  </thead>\n",
              "  <tbody>\n",
              "    <tr>\n",
              "      <th>762</th>\n",
              "      <td>10</td>\n",
              "      <td>101</td>\n",
              "      <td>76</td>\n",
              "      <td>48</td>\n",
              "      <td>180</td>\n",
              "      <td>32.9</td>\n",
              "      <td>0.171</td>\n",
              "      <td>63</td>\n",
              "      <td>0</td>\n",
              "    </tr>\n",
              "    <tr>\n",
              "      <th>763</th>\n",
              "      <td>2</td>\n",
              "      <td>122</td>\n",
              "      <td>70</td>\n",
              "      <td>27</td>\n",
              "      <td>0</td>\n",
              "      <td>36.8</td>\n",
              "      <td>0.340</td>\n",
              "      <td>27</td>\n",
              "      <td>0</td>\n",
              "    </tr>\n",
              "    <tr>\n",
              "      <th>764</th>\n",
              "      <td>5</td>\n",
              "      <td>121</td>\n",
              "      <td>72</td>\n",
              "      <td>23</td>\n",
              "      <td>112</td>\n",
              "      <td>26.2</td>\n",
              "      <td>0.245</td>\n",
              "      <td>30</td>\n",
              "      <td>0</td>\n",
              "    </tr>\n",
              "    <tr>\n",
              "      <th>765</th>\n",
              "      <td>1</td>\n",
              "      <td>126</td>\n",
              "      <td>60</td>\n",
              "      <td>0</td>\n",
              "      <td>0</td>\n",
              "      <td>30.1</td>\n",
              "      <td>0.349</td>\n",
              "      <td>47</td>\n",
              "      <td>1</td>\n",
              "    </tr>\n",
              "    <tr>\n",
              "      <th>766</th>\n",
              "      <td>1</td>\n",
              "      <td>93</td>\n",
              "      <td>70</td>\n",
              "      <td>31</td>\n",
              "      <td>0</td>\n",
              "      <td>30.4</td>\n",
              "      <td>0.315</td>\n",
              "      <td>23</td>\n",
              "      <td>0</td>\n",
              "    </tr>\n",
              "  </tbody>\n",
              "</table>\n",
              "</div>"
            ],
            "text/plain": [
              "      6  148  72  35    0  33.6  0.627  50  1\n",
              "762  10  101  76  48  180  32.9  0.171  63  0\n",
              "763   2  122  70  27    0  36.8  0.340  27  0\n",
              "764   5  121  72  23  112  26.2  0.245  30  0\n",
              "765   1  126  60   0    0  30.1  0.349  47  1\n",
              "766   1   93  70  31    0  30.4  0.315  23  0"
            ]
          },
          "metadata": {},
          "execution_count": 3
        }
      ]
    },
    {
      "cell_type": "code",
      "metadata": {
        "colab": {
          "base_uri": "https://localhost:8080/",
          "height": 828
        },
        "id": "wHoUYyw9t6Sh",
        "outputId": "9d60add4-0fba-4cb9-86e4-b674d7f5c316"
      },
      "source": [
        "raw_data.head(25)"
      ],
      "execution_count": null,
      "outputs": [
        {
          "output_type": "execute_result",
          "data": {
            "text/html": [
              "<div>\n",
              "<style scoped>\n",
              "    .dataframe tbody tr th:only-of-type {\n",
              "        vertical-align: middle;\n",
              "    }\n",
              "\n",
              "    .dataframe tbody tr th {\n",
              "        vertical-align: top;\n",
              "    }\n",
              "\n",
              "    .dataframe thead th {\n",
              "        text-align: right;\n",
              "    }\n",
              "</style>\n",
              "<table border=\"1\" class=\"dataframe\">\n",
              "  <thead>\n",
              "    <tr style=\"text-align: right;\">\n",
              "      <th></th>\n",
              "      <th>6</th>\n",
              "      <th>148</th>\n",
              "      <th>72</th>\n",
              "      <th>35</th>\n",
              "      <th>0</th>\n",
              "      <th>33.6</th>\n",
              "      <th>0.627</th>\n",
              "      <th>50</th>\n",
              "      <th>1</th>\n",
              "    </tr>\n",
              "  </thead>\n",
              "  <tbody>\n",
              "    <tr>\n",
              "      <th>0</th>\n",
              "      <td>1</td>\n",
              "      <td>85</td>\n",
              "      <td>66</td>\n",
              "      <td>29</td>\n",
              "      <td>0</td>\n",
              "      <td>26.6</td>\n",
              "      <td>0.351</td>\n",
              "      <td>31</td>\n",
              "      <td>0</td>\n",
              "    </tr>\n",
              "    <tr>\n",
              "      <th>1</th>\n",
              "      <td>8</td>\n",
              "      <td>183</td>\n",
              "      <td>64</td>\n",
              "      <td>0</td>\n",
              "      <td>0</td>\n",
              "      <td>23.3</td>\n",
              "      <td>0.672</td>\n",
              "      <td>32</td>\n",
              "      <td>1</td>\n",
              "    </tr>\n",
              "    <tr>\n",
              "      <th>2</th>\n",
              "      <td>1</td>\n",
              "      <td>89</td>\n",
              "      <td>66</td>\n",
              "      <td>23</td>\n",
              "      <td>94</td>\n",
              "      <td>28.1</td>\n",
              "      <td>0.167</td>\n",
              "      <td>21</td>\n",
              "      <td>0</td>\n",
              "    </tr>\n",
              "    <tr>\n",
              "      <th>3</th>\n",
              "      <td>0</td>\n",
              "      <td>137</td>\n",
              "      <td>40</td>\n",
              "      <td>35</td>\n",
              "      <td>168</td>\n",
              "      <td>43.1</td>\n",
              "      <td>2.288</td>\n",
              "      <td>33</td>\n",
              "      <td>1</td>\n",
              "    </tr>\n",
              "    <tr>\n",
              "      <th>4</th>\n",
              "      <td>5</td>\n",
              "      <td>116</td>\n",
              "      <td>74</td>\n",
              "      <td>0</td>\n",
              "      <td>0</td>\n",
              "      <td>25.6</td>\n",
              "      <td>0.201</td>\n",
              "      <td>30</td>\n",
              "      <td>0</td>\n",
              "    </tr>\n",
              "    <tr>\n",
              "      <th>5</th>\n",
              "      <td>3</td>\n",
              "      <td>78</td>\n",
              "      <td>50</td>\n",
              "      <td>32</td>\n",
              "      <td>88</td>\n",
              "      <td>31.0</td>\n",
              "      <td>0.248</td>\n",
              "      <td>26</td>\n",
              "      <td>1</td>\n",
              "    </tr>\n",
              "    <tr>\n",
              "      <th>6</th>\n",
              "      <td>10</td>\n",
              "      <td>115</td>\n",
              "      <td>0</td>\n",
              "      <td>0</td>\n",
              "      <td>0</td>\n",
              "      <td>35.3</td>\n",
              "      <td>0.134</td>\n",
              "      <td>29</td>\n",
              "      <td>0</td>\n",
              "    </tr>\n",
              "    <tr>\n",
              "      <th>7</th>\n",
              "      <td>2</td>\n",
              "      <td>197</td>\n",
              "      <td>70</td>\n",
              "      <td>45</td>\n",
              "      <td>543</td>\n",
              "      <td>30.5</td>\n",
              "      <td>0.158</td>\n",
              "      <td>53</td>\n",
              "      <td>1</td>\n",
              "    </tr>\n",
              "    <tr>\n",
              "      <th>8</th>\n",
              "      <td>8</td>\n",
              "      <td>125</td>\n",
              "      <td>96</td>\n",
              "      <td>0</td>\n",
              "      <td>0</td>\n",
              "      <td>0.0</td>\n",
              "      <td>0.232</td>\n",
              "      <td>54</td>\n",
              "      <td>1</td>\n",
              "    </tr>\n",
              "    <tr>\n",
              "      <th>9</th>\n",
              "      <td>4</td>\n",
              "      <td>110</td>\n",
              "      <td>92</td>\n",
              "      <td>0</td>\n",
              "      <td>0</td>\n",
              "      <td>37.6</td>\n",
              "      <td>0.191</td>\n",
              "      <td>30</td>\n",
              "      <td>0</td>\n",
              "    </tr>\n",
              "    <tr>\n",
              "      <th>10</th>\n",
              "      <td>10</td>\n",
              "      <td>168</td>\n",
              "      <td>74</td>\n",
              "      <td>0</td>\n",
              "      <td>0</td>\n",
              "      <td>38.0</td>\n",
              "      <td>0.537</td>\n",
              "      <td>34</td>\n",
              "      <td>1</td>\n",
              "    </tr>\n",
              "    <tr>\n",
              "      <th>11</th>\n",
              "      <td>10</td>\n",
              "      <td>139</td>\n",
              "      <td>80</td>\n",
              "      <td>0</td>\n",
              "      <td>0</td>\n",
              "      <td>27.1</td>\n",
              "      <td>1.441</td>\n",
              "      <td>57</td>\n",
              "      <td>0</td>\n",
              "    </tr>\n",
              "    <tr>\n",
              "      <th>12</th>\n",
              "      <td>1</td>\n",
              "      <td>189</td>\n",
              "      <td>60</td>\n",
              "      <td>23</td>\n",
              "      <td>846</td>\n",
              "      <td>30.1</td>\n",
              "      <td>0.398</td>\n",
              "      <td>59</td>\n",
              "      <td>1</td>\n",
              "    </tr>\n",
              "    <tr>\n",
              "      <th>13</th>\n",
              "      <td>5</td>\n",
              "      <td>166</td>\n",
              "      <td>72</td>\n",
              "      <td>19</td>\n",
              "      <td>175</td>\n",
              "      <td>25.8</td>\n",
              "      <td>0.587</td>\n",
              "      <td>51</td>\n",
              "      <td>1</td>\n",
              "    </tr>\n",
              "    <tr>\n",
              "      <th>14</th>\n",
              "      <td>7</td>\n",
              "      <td>100</td>\n",
              "      <td>0</td>\n",
              "      <td>0</td>\n",
              "      <td>0</td>\n",
              "      <td>30.0</td>\n",
              "      <td>0.484</td>\n",
              "      <td>32</td>\n",
              "      <td>1</td>\n",
              "    </tr>\n",
              "    <tr>\n",
              "      <th>15</th>\n",
              "      <td>0</td>\n",
              "      <td>118</td>\n",
              "      <td>84</td>\n",
              "      <td>47</td>\n",
              "      <td>230</td>\n",
              "      <td>45.8</td>\n",
              "      <td>0.551</td>\n",
              "      <td>31</td>\n",
              "      <td>1</td>\n",
              "    </tr>\n",
              "    <tr>\n",
              "      <th>16</th>\n",
              "      <td>7</td>\n",
              "      <td>107</td>\n",
              "      <td>74</td>\n",
              "      <td>0</td>\n",
              "      <td>0</td>\n",
              "      <td>29.6</td>\n",
              "      <td>0.254</td>\n",
              "      <td>31</td>\n",
              "      <td>1</td>\n",
              "    </tr>\n",
              "    <tr>\n",
              "      <th>17</th>\n",
              "      <td>1</td>\n",
              "      <td>103</td>\n",
              "      <td>30</td>\n",
              "      <td>38</td>\n",
              "      <td>83</td>\n",
              "      <td>43.3</td>\n",
              "      <td>0.183</td>\n",
              "      <td>33</td>\n",
              "      <td>0</td>\n",
              "    </tr>\n",
              "    <tr>\n",
              "      <th>18</th>\n",
              "      <td>1</td>\n",
              "      <td>115</td>\n",
              "      <td>70</td>\n",
              "      <td>30</td>\n",
              "      <td>96</td>\n",
              "      <td>34.6</td>\n",
              "      <td>0.529</td>\n",
              "      <td>32</td>\n",
              "      <td>1</td>\n",
              "    </tr>\n",
              "    <tr>\n",
              "      <th>19</th>\n",
              "      <td>3</td>\n",
              "      <td>126</td>\n",
              "      <td>88</td>\n",
              "      <td>41</td>\n",
              "      <td>235</td>\n",
              "      <td>39.3</td>\n",
              "      <td>0.704</td>\n",
              "      <td>27</td>\n",
              "      <td>0</td>\n",
              "    </tr>\n",
              "    <tr>\n",
              "      <th>20</th>\n",
              "      <td>8</td>\n",
              "      <td>99</td>\n",
              "      <td>84</td>\n",
              "      <td>0</td>\n",
              "      <td>0</td>\n",
              "      <td>35.4</td>\n",
              "      <td>0.388</td>\n",
              "      <td>50</td>\n",
              "      <td>0</td>\n",
              "    </tr>\n",
              "    <tr>\n",
              "      <th>21</th>\n",
              "      <td>7</td>\n",
              "      <td>196</td>\n",
              "      <td>90</td>\n",
              "      <td>0</td>\n",
              "      <td>0</td>\n",
              "      <td>39.8</td>\n",
              "      <td>0.451</td>\n",
              "      <td>41</td>\n",
              "      <td>1</td>\n",
              "    </tr>\n",
              "    <tr>\n",
              "      <th>22</th>\n",
              "      <td>9</td>\n",
              "      <td>119</td>\n",
              "      <td>80</td>\n",
              "      <td>35</td>\n",
              "      <td>0</td>\n",
              "      <td>29.0</td>\n",
              "      <td>0.263</td>\n",
              "      <td>29</td>\n",
              "      <td>1</td>\n",
              "    </tr>\n",
              "    <tr>\n",
              "      <th>23</th>\n",
              "      <td>11</td>\n",
              "      <td>143</td>\n",
              "      <td>94</td>\n",
              "      <td>33</td>\n",
              "      <td>146</td>\n",
              "      <td>36.6</td>\n",
              "      <td>0.254</td>\n",
              "      <td>51</td>\n",
              "      <td>1</td>\n",
              "    </tr>\n",
              "    <tr>\n",
              "      <th>24</th>\n",
              "      <td>10</td>\n",
              "      <td>125</td>\n",
              "      <td>70</td>\n",
              "      <td>26</td>\n",
              "      <td>115</td>\n",
              "      <td>31.1</td>\n",
              "      <td>0.205</td>\n",
              "      <td>41</td>\n",
              "      <td>1</td>\n",
              "    </tr>\n",
              "  </tbody>\n",
              "</table>\n",
              "</div>"
            ],
            "text/plain": [
              "     6  148  72  35    0  33.6  0.627  50  1\n",
              "0    1   85  66  29    0  26.6  0.351  31  0\n",
              "1    8  183  64   0    0  23.3  0.672  32  1\n",
              "2    1   89  66  23   94  28.1  0.167  21  0\n",
              "3    0  137  40  35  168  43.1  2.288  33  1\n",
              "4    5  116  74   0    0  25.6  0.201  30  0\n",
              "5    3   78  50  32   88  31.0  0.248  26  1\n",
              "6   10  115   0   0    0  35.3  0.134  29  0\n",
              "7    2  197  70  45  543  30.5  0.158  53  1\n",
              "8    8  125  96   0    0   0.0  0.232  54  1\n",
              "9    4  110  92   0    0  37.6  0.191  30  0\n",
              "10  10  168  74   0    0  38.0  0.537  34  1\n",
              "11  10  139  80   0    0  27.1  1.441  57  0\n",
              "12   1  189  60  23  846  30.1  0.398  59  1\n",
              "13   5  166  72  19  175  25.8  0.587  51  1\n",
              "14   7  100   0   0    0  30.0  0.484  32  1\n",
              "15   0  118  84  47  230  45.8  0.551  31  1\n",
              "16   7  107  74   0    0  29.6  0.254  31  1\n",
              "17   1  103  30  38   83  43.3  0.183  33  0\n",
              "18   1  115  70  30   96  34.6  0.529  32  1\n",
              "19   3  126  88  41  235  39.3  0.704  27  0\n",
              "20   8   99  84   0    0  35.4  0.388  50  0\n",
              "21   7  196  90   0    0  39.8  0.451  41  1\n",
              "22   9  119  80  35    0  29.0  0.263  29  1\n",
              "23  11  143  94  33  146  36.6  0.254  51  1\n",
              "24  10  125  70  26  115  31.1  0.205  41  1"
            ]
          },
          "metadata": {},
          "execution_count": 4
        }
      ]
    },
    {
      "cell_type": "code",
      "metadata": {
        "colab": {
          "base_uri": "https://localhost:8080/",
          "height": 298
        },
        "id": "ZIOo165TuPkt",
        "outputId": "b1e19be3-291d-4ed8-c517-d6709dd1607e"
      },
      "source": [
        "raw_data.describe()"
      ],
      "execution_count": null,
      "outputs": [
        {
          "output_type": "execute_result",
          "data": {
            "text/html": [
              "<div>\n",
              "<style scoped>\n",
              "    .dataframe tbody tr th:only-of-type {\n",
              "        vertical-align: middle;\n",
              "    }\n",
              "\n",
              "    .dataframe tbody tr th {\n",
              "        vertical-align: top;\n",
              "    }\n",
              "\n",
              "    .dataframe thead th {\n",
              "        text-align: right;\n",
              "    }\n",
              "</style>\n",
              "<table border=\"1\" class=\"dataframe\">\n",
              "  <thead>\n",
              "    <tr style=\"text-align: right;\">\n",
              "      <th></th>\n",
              "      <th>6</th>\n",
              "      <th>148</th>\n",
              "      <th>72</th>\n",
              "      <th>35</th>\n",
              "      <th>0</th>\n",
              "      <th>33.6</th>\n",
              "      <th>0.627</th>\n",
              "      <th>50</th>\n",
              "      <th>1</th>\n",
              "    </tr>\n",
              "  </thead>\n",
              "  <tbody>\n",
              "    <tr>\n",
              "      <th>count</th>\n",
              "      <td>767.000000</td>\n",
              "      <td>767.000000</td>\n",
              "      <td>767.000000</td>\n",
              "      <td>767.000000</td>\n",
              "      <td>767.000000</td>\n",
              "      <td>767.000000</td>\n",
              "      <td>767.000000</td>\n",
              "      <td>767.000000</td>\n",
              "      <td>767.000000</td>\n",
              "    </tr>\n",
              "    <tr>\n",
              "      <th>mean</th>\n",
              "      <td>3.842243</td>\n",
              "      <td>120.859192</td>\n",
              "      <td>69.101695</td>\n",
              "      <td>20.517601</td>\n",
              "      <td>79.903520</td>\n",
              "      <td>31.990482</td>\n",
              "      <td>0.471674</td>\n",
              "      <td>33.219035</td>\n",
              "      <td>0.348110</td>\n",
              "    </tr>\n",
              "    <tr>\n",
              "      <th>std</th>\n",
              "      <td>3.370877</td>\n",
              "      <td>31.978468</td>\n",
              "      <td>19.368155</td>\n",
              "      <td>15.954059</td>\n",
              "      <td>115.283105</td>\n",
              "      <td>7.889091</td>\n",
              "      <td>0.331497</td>\n",
              "      <td>11.752296</td>\n",
              "      <td>0.476682</td>\n",
              "    </tr>\n",
              "    <tr>\n",
              "      <th>min</th>\n",
              "      <td>0.000000</td>\n",
              "      <td>0.000000</td>\n",
              "      <td>0.000000</td>\n",
              "      <td>0.000000</td>\n",
              "      <td>0.000000</td>\n",
              "      <td>0.000000</td>\n",
              "      <td>0.078000</td>\n",
              "      <td>21.000000</td>\n",
              "      <td>0.000000</td>\n",
              "    </tr>\n",
              "    <tr>\n",
              "      <th>25%</th>\n",
              "      <td>1.000000</td>\n",
              "      <td>99.000000</td>\n",
              "      <td>62.000000</td>\n",
              "      <td>0.000000</td>\n",
              "      <td>0.000000</td>\n",
              "      <td>27.300000</td>\n",
              "      <td>0.243500</td>\n",
              "      <td>24.000000</td>\n",
              "      <td>0.000000</td>\n",
              "    </tr>\n",
              "    <tr>\n",
              "      <th>50%</th>\n",
              "      <td>3.000000</td>\n",
              "      <td>117.000000</td>\n",
              "      <td>72.000000</td>\n",
              "      <td>23.000000</td>\n",
              "      <td>32.000000</td>\n",
              "      <td>32.000000</td>\n",
              "      <td>0.371000</td>\n",
              "      <td>29.000000</td>\n",
              "      <td>0.000000</td>\n",
              "    </tr>\n",
              "    <tr>\n",
              "      <th>75%</th>\n",
              "      <td>6.000000</td>\n",
              "      <td>140.000000</td>\n",
              "      <td>80.000000</td>\n",
              "      <td>32.000000</td>\n",
              "      <td>127.500000</td>\n",
              "      <td>36.600000</td>\n",
              "      <td>0.625000</td>\n",
              "      <td>41.000000</td>\n",
              "      <td>1.000000</td>\n",
              "    </tr>\n",
              "    <tr>\n",
              "      <th>max</th>\n",
              "      <td>17.000000</td>\n",
              "      <td>199.000000</td>\n",
              "      <td>122.000000</td>\n",
              "      <td>99.000000</td>\n",
              "      <td>846.000000</td>\n",
              "      <td>67.100000</td>\n",
              "      <td>2.420000</td>\n",
              "      <td>81.000000</td>\n",
              "      <td>1.000000</td>\n",
              "    </tr>\n",
              "  </tbody>\n",
              "</table>\n",
              "</div>"
            ],
            "text/plain": [
              "                6         148          72  ...       0.627          50           1\n",
              "count  767.000000  767.000000  767.000000  ...  767.000000  767.000000  767.000000\n",
              "mean     3.842243  120.859192   69.101695  ...    0.471674   33.219035    0.348110\n",
              "std      3.370877   31.978468   19.368155  ...    0.331497   11.752296    0.476682\n",
              "min      0.000000    0.000000    0.000000  ...    0.078000   21.000000    0.000000\n",
              "25%      1.000000   99.000000   62.000000  ...    0.243500   24.000000    0.000000\n",
              "50%      3.000000  117.000000   72.000000  ...    0.371000   29.000000    0.000000\n",
              "75%      6.000000  140.000000   80.000000  ...    0.625000   41.000000    1.000000\n",
              "max     17.000000  199.000000  122.000000  ...    2.420000   81.000000    1.000000\n",
              "\n",
              "[8 rows x 9 columns]"
            ]
          },
          "metadata": {},
          "execution_count": 5
        }
      ]
    },
    {
      "cell_type": "code",
      "metadata": {
        "colab": {
          "base_uri": "https://localhost:8080/",
          "height": 329
        },
        "id": "qNynNQYGujjs",
        "outputId": "7231f311-6db5-4079-afc6-78a86cffe4e9"
      },
      "source": [
        "raw_data.cov()"
      ],
      "execution_count": null,
      "outputs": [
        {
          "output_type": "execute_result",
          "data": {
            "text/html": [
              "<div>\n",
              "<style scoped>\n",
              "    .dataframe tbody tr th:only-of-type {\n",
              "        vertical-align: middle;\n",
              "    }\n",
              "\n",
              "    .dataframe tbody tr th {\n",
              "        vertical-align: top;\n",
              "    }\n",
              "\n",
              "    .dataframe thead th {\n",
              "        text-align: right;\n",
              "    }\n",
              "</style>\n",
              "<table border=\"1\" class=\"dataframe\">\n",
              "  <thead>\n",
              "    <tr style=\"text-align: right;\">\n",
              "      <th></th>\n",
              "      <th>6</th>\n",
              "      <th>148</th>\n",
              "      <th>72</th>\n",
              "      <th>35</th>\n",
              "      <th>0</th>\n",
              "      <th>33.6</th>\n",
              "      <th>0.627</th>\n",
              "      <th>50</th>\n",
              "      <th>1</th>\n",
              "    </tr>\n",
              "  </thead>\n",
              "  <tbody>\n",
              "    <tr>\n",
              "      <th>6</th>\n",
              "      <td>11.362809</td>\n",
              "      <td>13.888985</td>\n",
              "      <td>9.218414</td>\n",
              "      <td>-4.436515</td>\n",
              "      <td>-28.367721</td>\n",
              "      <td>0.465859</td>\n",
              "      <td>-0.037912</td>\n",
              "      <td>21.551571</td>\n",
              "      <td>0.355250</td>\n",
              "    </tr>\n",
              "    <tr>\n",
              "      <th>148</th>\n",
              "      <td>13.888985</td>\n",
              "      <td>1022.622445</td>\n",
              "      <td>94.451675</td>\n",
              "      <td>28.764884</td>\n",
              "      <td>1225.357154</td>\n",
              "      <td>55.742783</td>\n",
              "      <td>1.451278</td>\n",
              "      <td>98.618350</td>\n",
              "      <td>7.101300</td>\n",
              "    </tr>\n",
              "    <tr>\n",
              "      <th>72</th>\n",
              "      <td>9.218414</td>\n",
              "      <td>94.451675</td>\n",
              "      <td>375.125415</td>\n",
              "      <td>64.058260</td>\n",
              "      <td>198.939328</td>\n",
              "      <td>43.054755</td>\n",
              "      <td>0.264396</td>\n",
              "      <td>54.531221</td>\n",
              "      <td>0.599018</td>\n",
              "    </tr>\n",
              "    <tr>\n",
              "      <th>35</th>\n",
              "      <td>-4.436515</td>\n",
              "      <td>28.764884</td>\n",
              "      <td>64.058260</td>\n",
              "      <td>254.532001</td>\n",
              "      <td>805.536948</td>\n",
              "      <td>49.407935</td>\n",
              "      <td>0.970472</td>\n",
              "      <td>-21.725792</td>\n",
              "      <td>0.557181</td>\n",
              "    </tr>\n",
              "    <tr>\n",
              "      <th>0</th>\n",
              "      <td>-28.367721</td>\n",
              "      <td>1225.357154</td>\n",
              "      <td>198.939328</td>\n",
              "      <td>805.536948</td>\n",
              "      <td>13290.194335</td>\n",
              "      <td>180.177540</td>\n",
              "      <td>7.092087</td>\n",
              "      <td>-55.469702</td>\n",
              "      <td>7.252951</td>\n",
              "    </tr>\n",
              "    <tr>\n",
              "      <th>33.6</th>\n",
              "      <td>0.465859</td>\n",
              "      <td>55.742783</td>\n",
              "      <td>43.054755</td>\n",
              "      <td>49.407935</td>\n",
              "      <td>180.177540</td>\n",
              "      <td>62.237755</td>\n",
              "      <td>0.367558</td>\n",
              "      <td>3.329503</td>\n",
              "      <td>1.100707</td>\n",
              "    </tr>\n",
              "    <tr>\n",
              "      <th>0.627</th>\n",
              "      <td>-0.037912</td>\n",
              "      <td>1.451278</td>\n",
              "      <td>0.264396</td>\n",
              "      <td>0.970472</td>\n",
              "      <td>7.092087</td>\n",
              "      <td>0.367558</td>\n",
              "      <td>0.109890</td>\n",
              "      <td>0.127544</td>\n",
              "      <td>0.027376</td>\n",
              "    </tr>\n",
              "    <tr>\n",
              "      <th>50</th>\n",
              "      <td>21.551571</td>\n",
              "      <td>98.618350</td>\n",
              "      <td>54.531221</td>\n",
              "      <td>-21.725792</td>\n",
              "      <td>-55.469702</td>\n",
              "      <td>3.329503</td>\n",
              "      <td>0.127544</td>\n",
              "      <td>138.116452</td>\n",
              "      <td>1.324436</td>\n",
              "    </tr>\n",
              "    <tr>\n",
              "      <th>1</th>\n",
              "      <td>0.355250</td>\n",
              "      <td>7.101300</td>\n",
              "      <td>0.599018</td>\n",
              "      <td>0.557181</td>\n",
              "      <td>7.252951</td>\n",
              "      <td>1.100707</td>\n",
              "      <td>0.027376</td>\n",
              "      <td>1.324436</td>\n",
              "      <td>0.227226</td>\n",
              "    </tr>\n",
              "  </tbody>\n",
              "</table>\n",
              "</div>"
            ],
            "text/plain": [
              "               6          148          72  ...     0.627          50         1\n",
              "6      11.362809    13.888985    9.218414  ... -0.037912   21.551571  0.355250\n",
              "148    13.888985  1022.622445   94.451675  ...  1.451278   98.618350  7.101300\n",
              "72      9.218414    94.451675  375.125415  ...  0.264396   54.531221  0.599018\n",
              "35     -4.436515    28.764884   64.058260  ...  0.970472  -21.725792  0.557181\n",
              "0     -28.367721  1225.357154  198.939328  ...  7.092087  -55.469702  7.252951\n",
              "33.6    0.465859    55.742783   43.054755  ...  0.367558    3.329503  1.100707\n",
              "0.627  -0.037912     1.451278    0.264396  ...  0.109890    0.127544  0.027376\n",
              "50     21.551571    98.618350   54.531221  ...  0.127544  138.116452  1.324436\n",
              "1       0.355250     7.101300    0.599018  ...  0.027376    1.324436  0.227226\n",
              "\n",
              "[9 rows x 9 columns]"
            ]
          },
          "metadata": {},
          "execution_count": 6
        }
      ]
    },
    {
      "cell_type": "code",
      "metadata": {
        "colab": {
          "base_uri": "https://localhost:8080/",
          "height": 329
        },
        "id": "Wbj4tTvCuzBK",
        "outputId": "89ff7a57-01de-4f8a-f353-071232640478"
      },
      "source": [
        "raw_data.corr()"
      ],
      "execution_count": null,
      "outputs": [
        {
          "output_type": "execute_result",
          "data": {
            "text/html": [
              "<div>\n",
              "<style scoped>\n",
              "    .dataframe tbody tr th:only-of-type {\n",
              "        vertical-align: middle;\n",
              "    }\n",
              "\n",
              "    .dataframe tbody tr th {\n",
              "        vertical-align: top;\n",
              "    }\n",
              "\n",
              "    .dataframe thead th {\n",
              "        text-align: right;\n",
              "    }\n",
              "</style>\n",
              "<table border=\"1\" class=\"dataframe\">\n",
              "  <thead>\n",
              "    <tr style=\"text-align: right;\">\n",
              "      <th></th>\n",
              "      <th>6</th>\n",
              "      <th>148</th>\n",
              "      <th>72</th>\n",
              "      <th>35</th>\n",
              "      <th>0</th>\n",
              "      <th>33.6</th>\n",
              "      <th>0.627</th>\n",
              "      <th>50</th>\n",
              "      <th>1</th>\n",
              "    </tr>\n",
              "  </thead>\n",
              "  <tbody>\n",
              "    <tr>\n",
              "      <th>6</th>\n",
              "      <td>1.000000</td>\n",
              "      <td>0.128846</td>\n",
              "      <td>0.141197</td>\n",
              "      <td>-0.082495</td>\n",
              "      <td>-0.072999</td>\n",
              "      <td>0.017518</td>\n",
              "      <td>-0.033927</td>\n",
              "      <td>0.544018</td>\n",
              "      <td>0.221087</td>\n",
              "    </tr>\n",
              "    <tr>\n",
              "      <th>148</th>\n",
              "      <td>0.128846</td>\n",
              "      <td>1.000000</td>\n",
              "      <td>0.152498</td>\n",
              "      <td>0.056381</td>\n",
              "      <td>0.332383</td>\n",
              "      <td>0.220955</td>\n",
              "      <td>0.136903</td>\n",
              "      <td>0.262408</td>\n",
              "      <td>0.465856</td>\n",
              "    </tr>\n",
              "    <tr>\n",
              "      <th>72</th>\n",
              "      <td>0.141197</td>\n",
              "      <td>0.152498</td>\n",
              "      <td>1.000000</td>\n",
              "      <td>0.207308</td>\n",
              "      <td>0.089098</td>\n",
              "      <td>0.281777</td>\n",
              "      <td>0.041180</td>\n",
              "      <td>0.239571</td>\n",
              "      <td>0.064882</td>\n",
              "    </tr>\n",
              "    <tr>\n",
              "      <th>35</th>\n",
              "      <td>-0.082495</td>\n",
              "      <td>0.056381</td>\n",
              "      <td>0.207308</td>\n",
              "      <td>1.000000</td>\n",
              "      <td>0.437974</td>\n",
              "      <td>0.392553</td>\n",
              "      <td>0.183498</td>\n",
              "      <td>-0.115873</td>\n",
              "      <td>0.073265</td>\n",
              "    </tr>\n",
              "    <tr>\n",
              "      <th>0</th>\n",
              "      <td>-0.072999</td>\n",
              "      <td>0.332383</td>\n",
              "      <td>0.089098</td>\n",
              "      <td>0.437974</td>\n",
              "      <td>1.000000</td>\n",
              "      <td>0.198111</td>\n",
              "      <td>0.185579</td>\n",
              "      <td>-0.040942</td>\n",
              "      <td>0.131984</td>\n",
              "    </tr>\n",
              "    <tr>\n",
              "      <th>33.6</th>\n",
              "      <td>0.017518</td>\n",
              "      <td>0.220955</td>\n",
              "      <td>0.281777</td>\n",
              "      <td>0.392553</td>\n",
              "      <td>0.198111</td>\n",
              "      <td>1.000000</td>\n",
              "      <td>0.140546</td>\n",
              "      <td>0.035911</td>\n",
              "      <td>0.292695</td>\n",
              "    </tr>\n",
              "    <tr>\n",
              "      <th>0.627</th>\n",
              "      <td>-0.033927</td>\n",
              "      <td>0.136903</td>\n",
              "      <td>0.041180</td>\n",
              "      <td>0.183498</td>\n",
              "      <td>0.185579</td>\n",
              "      <td>0.140546</td>\n",
              "      <td>1.000000</td>\n",
              "      <td>0.032738</td>\n",
              "      <td>0.173245</td>\n",
              "    </tr>\n",
              "    <tr>\n",
              "      <th>50</th>\n",
              "      <td>0.544018</td>\n",
              "      <td>0.262408</td>\n",
              "      <td>0.239571</td>\n",
              "      <td>-0.115873</td>\n",
              "      <td>-0.040942</td>\n",
              "      <td>0.035911</td>\n",
              "      <td>0.032738</td>\n",
              "      <td>1.000000</td>\n",
              "      <td>0.236417</td>\n",
              "    </tr>\n",
              "    <tr>\n",
              "      <th>1</th>\n",
              "      <td>0.221087</td>\n",
              "      <td>0.465856</td>\n",
              "      <td>0.064882</td>\n",
              "      <td>0.073265</td>\n",
              "      <td>0.131984</td>\n",
              "      <td>0.292695</td>\n",
              "      <td>0.173245</td>\n",
              "      <td>0.236417</td>\n",
              "      <td>1.000000</td>\n",
              "    </tr>\n",
              "  </tbody>\n",
              "</table>\n",
              "</div>"
            ],
            "text/plain": [
              "              6       148        72  ...     0.627        50         1\n",
              "6      1.000000  0.128846  0.141197  ... -0.033927  0.544018  0.221087\n",
              "148    0.128846  1.000000  0.152498  ...  0.136903  0.262408  0.465856\n",
              "72     0.141197  0.152498  1.000000  ...  0.041180  0.239571  0.064882\n",
              "35    -0.082495  0.056381  0.207308  ...  0.183498 -0.115873  0.073265\n",
              "0     -0.072999  0.332383  0.089098  ...  0.185579 -0.040942  0.131984\n",
              "33.6   0.017518  0.220955  0.281777  ...  0.140546  0.035911  0.292695\n",
              "0.627 -0.033927  0.136903  0.041180  ...  1.000000  0.032738  0.173245\n",
              "50     0.544018  0.262408  0.239571  ...  0.032738  1.000000  0.236417\n",
              "1      0.221087  0.465856  0.064882  ...  0.173245  0.236417  1.000000\n",
              "\n",
              "[9 rows x 9 columns]"
            ]
          },
          "metadata": {},
          "execution_count": 7
        }
      ]
    },
    {
      "cell_type": "code",
      "metadata": {
        "colab": {
          "base_uri": "https://localhost:8080/"
        },
        "id": "40PV_CUtvCYG",
        "outputId": "7db47285-1589-4fb9-8ec0-4de8dad7870a"
      },
      "source": [
        "from sklearn.datasets import load_iris\n",
        "import numpy as np\n",
        "iris=load_iris()\n",
        "iris"
      ],
      "execution_count": null,
      "outputs": [
        {
          "output_type": "execute_result",
          "data": {
            "text/plain": [
              "{'DESCR': '.. _iris_dataset:\\n\\nIris plants dataset\\n--------------------\\n\\n**Data Set Characteristics:**\\n\\n    :Number of Instances: 150 (50 in each of three classes)\\n    :Number of Attributes: 4 numeric, predictive attributes and the class\\n    :Attribute Information:\\n        - sepal length in cm\\n        - sepal width in cm\\n        - petal length in cm\\n        - petal width in cm\\n        - class:\\n                - Iris-Setosa\\n                - Iris-Versicolour\\n                - Iris-Virginica\\n                \\n    :Summary Statistics:\\n\\n    ============== ==== ==== ======= ===== ====================\\n                    Min  Max   Mean    SD   Class Correlation\\n    ============== ==== ==== ======= ===== ====================\\n    sepal length:   4.3  7.9   5.84   0.83    0.7826\\n    sepal width:    2.0  4.4   3.05   0.43   -0.4194\\n    petal length:   1.0  6.9   3.76   1.76    0.9490  (high!)\\n    petal width:    0.1  2.5   1.20   0.76    0.9565  (high!)\\n    ============== ==== ==== ======= ===== ====================\\n\\n    :Missing Attribute Values: None\\n    :Class Distribution: 33.3% for each of 3 classes.\\n    :Creator: R.A. Fisher\\n    :Donor: Michael Marshall (MARSHALL%PLU@io.arc.nasa.gov)\\n    :Date: July, 1988\\n\\nThe famous Iris database, first used by Sir R.A. Fisher. The dataset is taken\\nfrom Fisher\\'s paper. Note that it\\'s the same as in R, but not as in the UCI\\nMachine Learning Repository, which has two wrong data points.\\n\\nThis is perhaps the best known database to be found in the\\npattern recognition literature.  Fisher\\'s paper is a classic in the field and\\nis referenced frequently to this day.  (See Duda & Hart, for example.)  The\\ndata set contains 3 classes of 50 instances each, where each class refers to a\\ntype of iris plant.  One class is linearly separable from the other 2; the\\nlatter are NOT linearly separable from each other.\\n\\n.. topic:: References\\n\\n   - Fisher, R.A. \"The use of multiple measurements in taxonomic problems\"\\n     Annual Eugenics, 7, Part II, 179-188 (1936); also in \"Contributions to\\n     Mathematical Statistics\" (John Wiley, NY, 1950).\\n   - Duda, R.O., & Hart, P.E. (1973) Pattern Classification and Scene Analysis.\\n     (Q327.D83) John Wiley & Sons.  ISBN 0-471-22361-1.  See page 218.\\n   - Dasarathy, B.V. (1980) \"Nosing Around the Neighborhood: A New System\\n     Structure and Classification Rule for Recognition in Partially Exposed\\n     Environments\".  IEEE Transactions on Pattern Analysis and Machine\\n     Intelligence, Vol. PAMI-2, No. 1, 67-71.\\n   - Gates, G.W. (1972) \"The Reduced Nearest Neighbor Rule\".  IEEE Transactions\\n     on Information Theory, May 1972, 431-433.\\n   - See also: 1988 MLC Proceedings, 54-64.  Cheeseman et al\"s AUTOCLASS II\\n     conceptual clustering system finds 3 classes in the data.\\n   - Many, many more ...',\n",
              " 'data': array([[5.1, 3.5, 1.4, 0.2],\n",
              "        [4.9, 3. , 1.4, 0.2],\n",
              "        [4.7, 3.2, 1.3, 0.2],\n",
              "        [4.6, 3.1, 1.5, 0.2],\n",
              "        [5. , 3.6, 1.4, 0.2],\n",
              "        [5.4, 3.9, 1.7, 0.4],\n",
              "        [4.6, 3.4, 1.4, 0.3],\n",
              "        [5. , 3.4, 1.5, 0.2],\n",
              "        [4.4, 2.9, 1.4, 0.2],\n",
              "        [4.9, 3.1, 1.5, 0.1],\n",
              "        [5.4, 3.7, 1.5, 0.2],\n",
              "        [4.8, 3.4, 1.6, 0.2],\n",
              "        [4.8, 3. , 1.4, 0.1],\n",
              "        [4.3, 3. , 1.1, 0.1],\n",
              "        [5.8, 4. , 1.2, 0.2],\n",
              "        [5.7, 4.4, 1.5, 0.4],\n",
              "        [5.4, 3.9, 1.3, 0.4],\n",
              "        [5.1, 3.5, 1.4, 0.3],\n",
              "        [5.7, 3.8, 1.7, 0.3],\n",
              "        [5.1, 3.8, 1.5, 0.3],\n",
              "        [5.4, 3.4, 1.7, 0.2],\n",
              "        [5.1, 3.7, 1.5, 0.4],\n",
              "        [4.6, 3.6, 1. , 0.2],\n",
              "        [5.1, 3.3, 1.7, 0.5],\n",
              "        [4.8, 3.4, 1.9, 0.2],\n",
              "        [5. , 3. , 1.6, 0.2],\n",
              "        [5. , 3.4, 1.6, 0.4],\n",
              "        [5.2, 3.5, 1.5, 0.2],\n",
              "        [5.2, 3.4, 1.4, 0.2],\n",
              "        [4.7, 3.2, 1.6, 0.2],\n",
              "        [4.8, 3.1, 1.6, 0.2],\n",
              "        [5.4, 3.4, 1.5, 0.4],\n",
              "        [5.2, 4.1, 1.5, 0.1],\n",
              "        [5.5, 4.2, 1.4, 0.2],\n",
              "        [4.9, 3.1, 1.5, 0.2],\n",
              "        [5. , 3.2, 1.2, 0.2],\n",
              "        [5.5, 3.5, 1.3, 0.2],\n",
              "        [4.9, 3.6, 1.4, 0.1],\n",
              "        [4.4, 3. , 1.3, 0.2],\n",
              "        [5.1, 3.4, 1.5, 0.2],\n",
              "        [5. , 3.5, 1.3, 0.3],\n",
              "        [4.5, 2.3, 1.3, 0.3],\n",
              "        [4.4, 3.2, 1.3, 0.2],\n",
              "        [5. , 3.5, 1.6, 0.6],\n",
              "        [5.1, 3.8, 1.9, 0.4],\n",
              "        [4.8, 3. , 1.4, 0.3],\n",
              "        [5.1, 3.8, 1.6, 0.2],\n",
              "        [4.6, 3.2, 1.4, 0.2],\n",
              "        [5.3, 3.7, 1.5, 0.2],\n",
              "        [5. , 3.3, 1.4, 0.2],\n",
              "        [7. , 3.2, 4.7, 1.4],\n",
              "        [6.4, 3.2, 4.5, 1.5],\n",
              "        [6.9, 3.1, 4.9, 1.5],\n",
              "        [5.5, 2.3, 4. , 1.3],\n",
              "        [6.5, 2.8, 4.6, 1.5],\n",
              "        [5.7, 2.8, 4.5, 1.3],\n",
              "        [6.3, 3.3, 4.7, 1.6],\n",
              "        [4.9, 2.4, 3.3, 1. ],\n",
              "        [6.6, 2.9, 4.6, 1.3],\n",
              "        [5.2, 2.7, 3.9, 1.4],\n",
              "        [5. , 2. , 3.5, 1. ],\n",
              "        [5.9, 3. , 4.2, 1.5],\n",
              "        [6. , 2.2, 4. , 1. ],\n",
              "        [6.1, 2.9, 4.7, 1.4],\n",
              "        [5.6, 2.9, 3.6, 1.3],\n",
              "        [6.7, 3.1, 4.4, 1.4],\n",
              "        [5.6, 3. , 4.5, 1.5],\n",
              "        [5.8, 2.7, 4.1, 1. ],\n",
              "        [6.2, 2.2, 4.5, 1.5],\n",
              "        [5.6, 2.5, 3.9, 1.1],\n",
              "        [5.9, 3.2, 4.8, 1.8],\n",
              "        [6.1, 2.8, 4. , 1.3],\n",
              "        [6.3, 2.5, 4.9, 1.5],\n",
              "        [6.1, 2.8, 4.7, 1.2],\n",
              "        [6.4, 2.9, 4.3, 1.3],\n",
              "        [6.6, 3. , 4.4, 1.4],\n",
              "        [6.8, 2.8, 4.8, 1.4],\n",
              "        [6.7, 3. , 5. , 1.7],\n",
              "        [6. , 2.9, 4.5, 1.5],\n",
              "        [5.7, 2.6, 3.5, 1. ],\n",
              "        [5.5, 2.4, 3.8, 1.1],\n",
              "        [5.5, 2.4, 3.7, 1. ],\n",
              "        [5.8, 2.7, 3.9, 1.2],\n",
              "        [6. , 2.7, 5.1, 1.6],\n",
              "        [5.4, 3. , 4.5, 1.5],\n",
              "        [6. , 3.4, 4.5, 1.6],\n",
              "        [6.7, 3.1, 4.7, 1.5],\n",
              "        [6.3, 2.3, 4.4, 1.3],\n",
              "        [5.6, 3. , 4.1, 1.3],\n",
              "        [5.5, 2.5, 4. , 1.3],\n",
              "        [5.5, 2.6, 4.4, 1.2],\n",
              "        [6.1, 3. , 4.6, 1.4],\n",
              "        [5.8, 2.6, 4. , 1.2],\n",
              "        [5. , 2.3, 3.3, 1. ],\n",
              "        [5.6, 2.7, 4.2, 1.3],\n",
              "        [5.7, 3. , 4.2, 1.2],\n",
              "        [5.7, 2.9, 4.2, 1.3],\n",
              "        [6.2, 2.9, 4.3, 1.3],\n",
              "        [5.1, 2.5, 3. , 1.1],\n",
              "        [5.7, 2.8, 4.1, 1.3],\n",
              "        [6.3, 3.3, 6. , 2.5],\n",
              "        [5.8, 2.7, 5.1, 1.9],\n",
              "        [7.1, 3. , 5.9, 2.1],\n",
              "        [6.3, 2.9, 5.6, 1.8],\n",
              "        [6.5, 3. , 5.8, 2.2],\n",
              "        [7.6, 3. , 6.6, 2.1],\n",
              "        [4.9, 2.5, 4.5, 1.7],\n",
              "        [7.3, 2.9, 6.3, 1.8],\n",
              "        [6.7, 2.5, 5.8, 1.8],\n",
              "        [7.2, 3.6, 6.1, 2.5],\n",
              "        [6.5, 3.2, 5.1, 2. ],\n",
              "        [6.4, 2.7, 5.3, 1.9],\n",
              "        [6.8, 3. , 5.5, 2.1],\n",
              "        [5.7, 2.5, 5. , 2. ],\n",
              "        [5.8, 2.8, 5.1, 2.4],\n",
              "        [6.4, 3.2, 5.3, 2.3],\n",
              "        [6.5, 3. , 5.5, 1.8],\n",
              "        [7.7, 3.8, 6.7, 2.2],\n",
              "        [7.7, 2.6, 6.9, 2.3],\n",
              "        [6. , 2.2, 5. , 1.5],\n",
              "        [6.9, 3.2, 5.7, 2.3],\n",
              "        [5.6, 2.8, 4.9, 2. ],\n",
              "        [7.7, 2.8, 6.7, 2. ],\n",
              "        [6.3, 2.7, 4.9, 1.8],\n",
              "        [6.7, 3.3, 5.7, 2.1],\n",
              "        [7.2, 3.2, 6. , 1.8],\n",
              "        [6.2, 2.8, 4.8, 1.8],\n",
              "        [6.1, 3. , 4.9, 1.8],\n",
              "        [6.4, 2.8, 5.6, 2.1],\n",
              "        [7.2, 3. , 5.8, 1.6],\n",
              "        [7.4, 2.8, 6.1, 1.9],\n",
              "        [7.9, 3.8, 6.4, 2. ],\n",
              "        [6.4, 2.8, 5.6, 2.2],\n",
              "        [6.3, 2.8, 5.1, 1.5],\n",
              "        [6.1, 2.6, 5.6, 1.4],\n",
              "        [7.7, 3. , 6.1, 2.3],\n",
              "        [6.3, 3.4, 5.6, 2.4],\n",
              "        [6.4, 3.1, 5.5, 1.8],\n",
              "        [6. , 3. , 4.8, 1.8],\n",
              "        [6.9, 3.1, 5.4, 2.1],\n",
              "        [6.7, 3.1, 5.6, 2.4],\n",
              "        [6.9, 3.1, 5.1, 2.3],\n",
              "        [5.8, 2.7, 5.1, 1.9],\n",
              "        [6.8, 3.2, 5.9, 2.3],\n",
              "        [6.7, 3.3, 5.7, 2.5],\n",
              "        [6.7, 3. , 5.2, 2.3],\n",
              "        [6.3, 2.5, 5. , 1.9],\n",
              "        [6.5, 3. , 5.2, 2. ],\n",
              "        [6.2, 3.4, 5.4, 2.3],\n",
              "        [5.9, 3. , 5.1, 1.8]]),\n",
              " 'feature_names': ['sepal length (cm)',\n",
              "  'sepal width (cm)',\n",
              "  'petal length (cm)',\n",
              "  'petal width (cm)'],\n",
              " 'filename': '/usr/local/lib/python3.7/dist-packages/sklearn/datasets/data/iris.csv',\n",
              " 'target': array([0, 0, 0, 0, 0, 0, 0, 0, 0, 0, 0, 0, 0, 0, 0, 0, 0, 0, 0, 0, 0, 0,\n",
              "        0, 0, 0, 0, 0, 0, 0, 0, 0, 0, 0, 0, 0, 0, 0, 0, 0, 0, 0, 0, 0, 0,\n",
              "        0, 0, 0, 0, 0, 0, 1, 1, 1, 1, 1, 1, 1, 1, 1, 1, 1, 1, 1, 1, 1, 1,\n",
              "        1, 1, 1, 1, 1, 1, 1, 1, 1, 1, 1, 1, 1, 1, 1, 1, 1, 1, 1, 1, 1, 1,\n",
              "        1, 1, 1, 1, 1, 1, 1, 1, 1, 1, 1, 1, 2, 2, 2, 2, 2, 2, 2, 2, 2, 2,\n",
              "        2, 2, 2, 2, 2, 2, 2, 2, 2, 2, 2, 2, 2, 2, 2, 2, 2, 2, 2, 2, 2, 2,\n",
              "        2, 2, 2, 2, 2, 2, 2, 2, 2, 2, 2, 2, 2, 2, 2, 2, 2, 2]),\n",
              " 'target_names': array(['setosa', 'versicolor', 'virginica'], dtype='<U10')}"
            ]
          },
          "metadata": {},
          "execution_count": 8
        }
      ]
    },
    {
      "cell_type": "code",
      "metadata": {
        "colab": {
          "base_uri": "https://localhost:8080/",
          "height": 421
        },
        "id": "VWwPxwzGvWkh",
        "outputId": "e5e2a8a2-dfd6-4496-f54f-cd040edd1b79"
      },
      "source": [
        "X=pd.DataFrame(iris.data)\n",
        "X"
      ],
      "execution_count": null,
      "outputs": [
        {
          "output_type": "execute_result",
          "data": {
            "text/html": [
              "<div>\n",
              "<style scoped>\n",
              "    .dataframe tbody tr th:only-of-type {\n",
              "        vertical-align: middle;\n",
              "    }\n",
              "\n",
              "    .dataframe tbody tr th {\n",
              "        vertical-align: top;\n",
              "    }\n",
              "\n",
              "    .dataframe thead th {\n",
              "        text-align: right;\n",
              "    }\n",
              "</style>\n",
              "<table border=\"1\" class=\"dataframe\">\n",
              "  <thead>\n",
              "    <tr style=\"text-align: right;\">\n",
              "      <th></th>\n",
              "      <th>0</th>\n",
              "      <th>1</th>\n",
              "      <th>2</th>\n",
              "      <th>3</th>\n",
              "    </tr>\n",
              "  </thead>\n",
              "  <tbody>\n",
              "    <tr>\n",
              "      <th>0</th>\n",
              "      <td>5.1</td>\n",
              "      <td>3.5</td>\n",
              "      <td>1.4</td>\n",
              "      <td>0.2</td>\n",
              "    </tr>\n",
              "    <tr>\n",
              "      <th>1</th>\n",
              "      <td>4.9</td>\n",
              "      <td>3.0</td>\n",
              "      <td>1.4</td>\n",
              "      <td>0.2</td>\n",
              "    </tr>\n",
              "    <tr>\n",
              "      <th>2</th>\n",
              "      <td>4.7</td>\n",
              "      <td>3.2</td>\n",
              "      <td>1.3</td>\n",
              "      <td>0.2</td>\n",
              "    </tr>\n",
              "    <tr>\n",
              "      <th>3</th>\n",
              "      <td>4.6</td>\n",
              "      <td>3.1</td>\n",
              "      <td>1.5</td>\n",
              "      <td>0.2</td>\n",
              "    </tr>\n",
              "    <tr>\n",
              "      <th>4</th>\n",
              "      <td>5.0</td>\n",
              "      <td>3.6</td>\n",
              "      <td>1.4</td>\n",
              "      <td>0.2</td>\n",
              "    </tr>\n",
              "    <tr>\n",
              "      <th>...</th>\n",
              "      <td>...</td>\n",
              "      <td>...</td>\n",
              "      <td>...</td>\n",
              "      <td>...</td>\n",
              "    </tr>\n",
              "    <tr>\n",
              "      <th>145</th>\n",
              "      <td>6.7</td>\n",
              "      <td>3.0</td>\n",
              "      <td>5.2</td>\n",
              "      <td>2.3</td>\n",
              "    </tr>\n",
              "    <tr>\n",
              "      <th>146</th>\n",
              "      <td>6.3</td>\n",
              "      <td>2.5</td>\n",
              "      <td>5.0</td>\n",
              "      <td>1.9</td>\n",
              "    </tr>\n",
              "    <tr>\n",
              "      <th>147</th>\n",
              "      <td>6.5</td>\n",
              "      <td>3.0</td>\n",
              "      <td>5.2</td>\n",
              "      <td>2.0</td>\n",
              "    </tr>\n",
              "    <tr>\n",
              "      <th>148</th>\n",
              "      <td>6.2</td>\n",
              "      <td>3.4</td>\n",
              "      <td>5.4</td>\n",
              "      <td>2.3</td>\n",
              "    </tr>\n",
              "    <tr>\n",
              "      <th>149</th>\n",
              "      <td>5.9</td>\n",
              "      <td>3.0</td>\n",
              "      <td>5.1</td>\n",
              "      <td>1.8</td>\n",
              "    </tr>\n",
              "  </tbody>\n",
              "</table>\n",
              "<p>150 rows × 4 columns</p>\n",
              "</div>"
            ],
            "text/plain": [
              "       0    1    2    3\n",
              "0    5.1  3.5  1.4  0.2\n",
              "1    4.9  3.0  1.4  0.2\n",
              "2    4.7  3.2  1.3  0.2\n",
              "3    4.6  3.1  1.5  0.2\n",
              "4    5.0  3.6  1.4  0.2\n",
              "..   ...  ...  ...  ...\n",
              "145  6.7  3.0  5.2  2.3\n",
              "146  6.3  2.5  5.0  1.9\n",
              "147  6.5  3.0  5.2  2.0\n",
              "148  6.2  3.4  5.4  2.3\n",
              "149  5.9  3.0  5.1  1.8\n",
              "\n",
              "[150 rows x 4 columns]"
            ]
          },
          "metadata": {},
          "execution_count": 9
        }
      ]
    },
    {
      "cell_type": "code",
      "metadata": {
        "colab": {
          "base_uri": "https://localhost:8080/",
          "height": 205
        },
        "id": "qD_3iioxvlPU",
        "outputId": "9639ecc8-1f55-41fd-9f7b-5914892c4a49"
      },
      "source": [
        "X.shape\n",
        "(150,4)\n",
        "X.columns=['Sepal_length','Sepal_width','petal_length','petal_width']\n",
        "X.head()"
      ],
      "execution_count": null,
      "outputs": [
        {
          "output_type": "execute_result",
          "data": {
            "text/html": [
              "<div>\n",
              "<style scoped>\n",
              "    .dataframe tbody tr th:only-of-type {\n",
              "        vertical-align: middle;\n",
              "    }\n",
              "\n",
              "    .dataframe tbody tr th {\n",
              "        vertical-align: top;\n",
              "    }\n",
              "\n",
              "    .dataframe thead th {\n",
              "        text-align: right;\n",
              "    }\n",
              "</style>\n",
              "<table border=\"1\" class=\"dataframe\">\n",
              "  <thead>\n",
              "    <tr style=\"text-align: right;\">\n",
              "      <th></th>\n",
              "      <th>Sepal_length</th>\n",
              "      <th>Sepal_width</th>\n",
              "      <th>petal_length</th>\n",
              "      <th>petal_width</th>\n",
              "    </tr>\n",
              "  </thead>\n",
              "  <tbody>\n",
              "    <tr>\n",
              "      <th>0</th>\n",
              "      <td>5.1</td>\n",
              "      <td>3.5</td>\n",
              "      <td>1.4</td>\n",
              "      <td>0.2</td>\n",
              "    </tr>\n",
              "    <tr>\n",
              "      <th>1</th>\n",
              "      <td>4.9</td>\n",
              "      <td>3.0</td>\n",
              "      <td>1.4</td>\n",
              "      <td>0.2</td>\n",
              "    </tr>\n",
              "    <tr>\n",
              "      <th>2</th>\n",
              "      <td>4.7</td>\n",
              "      <td>3.2</td>\n",
              "      <td>1.3</td>\n",
              "      <td>0.2</td>\n",
              "    </tr>\n",
              "    <tr>\n",
              "      <th>3</th>\n",
              "      <td>4.6</td>\n",
              "      <td>3.1</td>\n",
              "      <td>1.5</td>\n",
              "      <td>0.2</td>\n",
              "    </tr>\n",
              "    <tr>\n",
              "      <th>4</th>\n",
              "      <td>5.0</td>\n",
              "      <td>3.6</td>\n",
              "      <td>1.4</td>\n",
              "      <td>0.2</td>\n",
              "    </tr>\n",
              "  </tbody>\n",
              "</table>\n",
              "</div>"
            ],
            "text/plain": [
              "   Sepal_length  Sepal_width  petal_length  petal_width\n",
              "0           5.1          3.5           1.4          0.2\n",
              "1           4.9          3.0           1.4          0.2\n",
              "2           4.7          3.2           1.3          0.2\n",
              "3           4.6          3.1           1.5          0.2\n",
              "4           5.0          3.6           1.4          0.2"
            ]
          },
          "metadata": {},
          "execution_count": 10
        }
      ]
    },
    {
      "cell_type": "code",
      "metadata": {
        "colab": {
          "base_uri": "https://localhost:8080/",
          "height": 205
        },
        "id": "UHAo5Bn-wJax",
        "outputId": "bf5c2c80-fdf3-4b3d-98ed-2503506ce452"
      },
      "source": [
        "X.tail()"
      ],
      "execution_count": null,
      "outputs": [
        {
          "output_type": "execute_result",
          "data": {
            "text/html": [
              "<div>\n",
              "<style scoped>\n",
              "    .dataframe tbody tr th:only-of-type {\n",
              "        vertical-align: middle;\n",
              "    }\n",
              "\n",
              "    .dataframe tbody tr th {\n",
              "        vertical-align: top;\n",
              "    }\n",
              "\n",
              "    .dataframe thead th {\n",
              "        text-align: right;\n",
              "    }\n",
              "</style>\n",
              "<table border=\"1\" class=\"dataframe\">\n",
              "  <thead>\n",
              "    <tr style=\"text-align: right;\">\n",
              "      <th></th>\n",
              "      <th>Sepal_length</th>\n",
              "      <th>Sepal_width</th>\n",
              "      <th>petal_length</th>\n",
              "      <th>petal_width</th>\n",
              "    </tr>\n",
              "  </thead>\n",
              "  <tbody>\n",
              "    <tr>\n",
              "      <th>145</th>\n",
              "      <td>6.7</td>\n",
              "      <td>3.0</td>\n",
              "      <td>5.2</td>\n",
              "      <td>2.3</td>\n",
              "    </tr>\n",
              "    <tr>\n",
              "      <th>146</th>\n",
              "      <td>6.3</td>\n",
              "      <td>2.5</td>\n",
              "      <td>5.0</td>\n",
              "      <td>1.9</td>\n",
              "    </tr>\n",
              "    <tr>\n",
              "      <th>147</th>\n",
              "      <td>6.5</td>\n",
              "      <td>3.0</td>\n",
              "      <td>5.2</td>\n",
              "      <td>2.0</td>\n",
              "    </tr>\n",
              "    <tr>\n",
              "      <th>148</th>\n",
              "      <td>6.2</td>\n",
              "      <td>3.4</td>\n",
              "      <td>5.4</td>\n",
              "      <td>2.3</td>\n",
              "    </tr>\n",
              "    <tr>\n",
              "      <th>149</th>\n",
              "      <td>5.9</td>\n",
              "      <td>3.0</td>\n",
              "      <td>5.1</td>\n",
              "      <td>1.8</td>\n",
              "    </tr>\n",
              "  </tbody>\n",
              "</table>\n",
              "</div>"
            ],
            "text/plain": [
              "     Sepal_length  Sepal_width  petal_length  petal_width\n",
              "145           6.7          3.0           5.2          2.3\n",
              "146           6.3          2.5           5.0          1.9\n",
              "147           6.5          3.0           5.2          2.0\n",
              "148           6.2          3.4           5.4          2.3\n",
              "149           5.9          3.0           5.1          1.8"
            ]
          },
          "metadata": {},
          "execution_count": 11
        }
      ]
    },
    {
      "cell_type": "code",
      "metadata": {
        "colab": {
          "base_uri": "https://localhost:8080/",
          "height": 298
        },
        "id": "67P0fVsXwON9",
        "outputId": "21d85ab9-40bf-4120-b24c-2a05c4554483"
      },
      "source": [
        "X.describe()"
      ],
      "execution_count": null,
      "outputs": [
        {
          "output_type": "execute_result",
          "data": {
            "text/html": [
              "<div>\n",
              "<style scoped>\n",
              "    .dataframe tbody tr th:only-of-type {\n",
              "        vertical-align: middle;\n",
              "    }\n",
              "\n",
              "    .dataframe tbody tr th {\n",
              "        vertical-align: top;\n",
              "    }\n",
              "\n",
              "    .dataframe thead th {\n",
              "        text-align: right;\n",
              "    }\n",
              "</style>\n",
              "<table border=\"1\" class=\"dataframe\">\n",
              "  <thead>\n",
              "    <tr style=\"text-align: right;\">\n",
              "      <th></th>\n",
              "      <th>Sepal_length</th>\n",
              "      <th>Sepal_width</th>\n",
              "      <th>petal_length</th>\n",
              "      <th>petal_width</th>\n",
              "    </tr>\n",
              "  </thead>\n",
              "  <tbody>\n",
              "    <tr>\n",
              "      <th>count</th>\n",
              "      <td>150.000000</td>\n",
              "      <td>150.000000</td>\n",
              "      <td>150.000000</td>\n",
              "      <td>150.000000</td>\n",
              "    </tr>\n",
              "    <tr>\n",
              "      <th>mean</th>\n",
              "      <td>5.843333</td>\n",
              "      <td>3.057333</td>\n",
              "      <td>3.758000</td>\n",
              "      <td>1.199333</td>\n",
              "    </tr>\n",
              "    <tr>\n",
              "      <th>std</th>\n",
              "      <td>0.828066</td>\n",
              "      <td>0.435866</td>\n",
              "      <td>1.765298</td>\n",
              "      <td>0.762238</td>\n",
              "    </tr>\n",
              "    <tr>\n",
              "      <th>min</th>\n",
              "      <td>4.300000</td>\n",
              "      <td>2.000000</td>\n",
              "      <td>1.000000</td>\n",
              "      <td>0.100000</td>\n",
              "    </tr>\n",
              "    <tr>\n",
              "      <th>25%</th>\n",
              "      <td>5.100000</td>\n",
              "      <td>2.800000</td>\n",
              "      <td>1.600000</td>\n",
              "      <td>0.300000</td>\n",
              "    </tr>\n",
              "    <tr>\n",
              "      <th>50%</th>\n",
              "      <td>5.800000</td>\n",
              "      <td>3.000000</td>\n",
              "      <td>4.350000</td>\n",
              "      <td>1.300000</td>\n",
              "    </tr>\n",
              "    <tr>\n",
              "      <th>75%</th>\n",
              "      <td>6.400000</td>\n",
              "      <td>3.300000</td>\n",
              "      <td>5.100000</td>\n",
              "      <td>1.800000</td>\n",
              "    </tr>\n",
              "    <tr>\n",
              "      <th>max</th>\n",
              "      <td>7.900000</td>\n",
              "      <td>4.400000</td>\n",
              "      <td>6.900000</td>\n",
              "      <td>2.500000</td>\n",
              "    </tr>\n",
              "  </tbody>\n",
              "</table>\n",
              "</div>"
            ],
            "text/plain": [
              "       Sepal_length  Sepal_width  petal_length  petal_width\n",
              "count    150.000000   150.000000    150.000000   150.000000\n",
              "mean       5.843333     3.057333      3.758000     1.199333\n",
              "std        0.828066     0.435866      1.765298     0.762238\n",
              "min        4.300000     2.000000      1.000000     0.100000\n",
              "25%        5.100000     2.800000      1.600000     0.300000\n",
              "50%        5.800000     3.000000      4.350000     1.300000\n",
              "75%        6.400000     3.300000      5.100000     1.800000\n",
              "max        7.900000     4.400000      6.900000     2.500000"
            ]
          },
          "metadata": {},
          "execution_count": 12
        }
      ]
    },
    {
      "cell_type": "code",
      "metadata": {
        "colab": {
          "base_uri": "https://localhost:8080/",
          "height": 173
        },
        "id": "dI7rdWjcwfir",
        "outputId": "c5e02455-fdfc-4e21-b047-4cd73b2787f4"
      },
      "source": [
        "X.cov()"
      ],
      "execution_count": null,
      "outputs": [
        {
          "output_type": "execute_result",
          "data": {
            "text/html": [
              "<div>\n",
              "<style scoped>\n",
              "    .dataframe tbody tr th:only-of-type {\n",
              "        vertical-align: middle;\n",
              "    }\n",
              "\n",
              "    .dataframe tbody tr th {\n",
              "        vertical-align: top;\n",
              "    }\n",
              "\n",
              "    .dataframe thead th {\n",
              "        text-align: right;\n",
              "    }\n",
              "</style>\n",
              "<table border=\"1\" class=\"dataframe\">\n",
              "  <thead>\n",
              "    <tr style=\"text-align: right;\">\n",
              "      <th></th>\n",
              "      <th>Sepal_length</th>\n",
              "      <th>Sepal_width</th>\n",
              "      <th>petal_length</th>\n",
              "      <th>petal_width</th>\n",
              "    </tr>\n",
              "  </thead>\n",
              "  <tbody>\n",
              "    <tr>\n",
              "      <th>Sepal_length</th>\n",
              "      <td>0.685694</td>\n",
              "      <td>-0.042434</td>\n",
              "      <td>1.274315</td>\n",
              "      <td>0.516271</td>\n",
              "    </tr>\n",
              "    <tr>\n",
              "      <th>Sepal_width</th>\n",
              "      <td>-0.042434</td>\n",
              "      <td>0.189979</td>\n",
              "      <td>-0.329656</td>\n",
              "      <td>-0.121639</td>\n",
              "    </tr>\n",
              "    <tr>\n",
              "      <th>petal_length</th>\n",
              "      <td>1.274315</td>\n",
              "      <td>-0.329656</td>\n",
              "      <td>3.116278</td>\n",
              "      <td>1.295609</td>\n",
              "    </tr>\n",
              "    <tr>\n",
              "      <th>petal_width</th>\n",
              "      <td>0.516271</td>\n",
              "      <td>-0.121639</td>\n",
              "      <td>1.295609</td>\n",
              "      <td>0.581006</td>\n",
              "    </tr>\n",
              "  </tbody>\n",
              "</table>\n",
              "</div>"
            ],
            "text/plain": [
              "              Sepal_length  Sepal_width  petal_length  petal_width\n",
              "Sepal_length      0.685694    -0.042434      1.274315     0.516271\n",
              "Sepal_width      -0.042434     0.189979     -0.329656    -0.121639\n",
              "petal_length      1.274315    -0.329656      3.116278     1.295609\n",
              "petal_width       0.516271    -0.121639      1.295609     0.581006"
            ]
          },
          "metadata": {},
          "execution_count": 13
        }
      ]
    },
    {
      "cell_type": "code",
      "metadata": {
        "colab": {
          "base_uri": "https://localhost:8080/",
          "height": 173
        },
        "id": "BNabTIh8wr6P",
        "outputId": "02881ac5-2de1-43b8-ec66-c1f88d95b17c"
      },
      "source": [
        "X.corr()"
      ],
      "execution_count": null,
      "outputs": [
        {
          "output_type": "execute_result",
          "data": {
            "text/html": [
              "<div>\n",
              "<style scoped>\n",
              "    .dataframe tbody tr th:only-of-type {\n",
              "        vertical-align: middle;\n",
              "    }\n",
              "\n",
              "    .dataframe tbody tr th {\n",
              "        vertical-align: top;\n",
              "    }\n",
              "\n",
              "    .dataframe thead th {\n",
              "        text-align: right;\n",
              "    }\n",
              "</style>\n",
              "<table border=\"1\" class=\"dataframe\">\n",
              "  <thead>\n",
              "    <tr style=\"text-align: right;\">\n",
              "      <th></th>\n",
              "      <th>Sepal_length</th>\n",
              "      <th>Sepal_width</th>\n",
              "      <th>petal_length</th>\n",
              "      <th>petal_width</th>\n",
              "    </tr>\n",
              "  </thead>\n",
              "  <tbody>\n",
              "    <tr>\n",
              "      <th>Sepal_length</th>\n",
              "      <td>1.000000</td>\n",
              "      <td>-0.117570</td>\n",
              "      <td>0.871754</td>\n",
              "      <td>0.817941</td>\n",
              "    </tr>\n",
              "    <tr>\n",
              "      <th>Sepal_width</th>\n",
              "      <td>-0.117570</td>\n",
              "      <td>1.000000</td>\n",
              "      <td>-0.428440</td>\n",
              "      <td>-0.366126</td>\n",
              "    </tr>\n",
              "    <tr>\n",
              "      <th>petal_length</th>\n",
              "      <td>0.871754</td>\n",
              "      <td>-0.428440</td>\n",
              "      <td>1.000000</td>\n",
              "      <td>0.962865</td>\n",
              "    </tr>\n",
              "    <tr>\n",
              "      <th>petal_width</th>\n",
              "      <td>0.817941</td>\n",
              "      <td>-0.366126</td>\n",
              "      <td>0.962865</td>\n",
              "      <td>1.000000</td>\n",
              "    </tr>\n",
              "  </tbody>\n",
              "</table>\n",
              "</div>"
            ],
            "text/plain": [
              "              Sepal_length  Sepal_width  petal_length  petal_width\n",
              "Sepal_length      1.000000    -0.117570      0.871754     0.817941\n",
              "Sepal_width      -0.117570     1.000000     -0.428440    -0.366126\n",
              "petal_length      0.871754    -0.428440      1.000000     0.962865\n",
              "petal_width       0.817941    -0.366126      0.962865     1.000000"
            ]
          },
          "metadata": {},
          "execution_count": 14
        }
      ]
    },
    {
      "cell_type": "code",
      "metadata": {
        "colab": {
          "base_uri": "https://localhost:8080/"
        },
        "id": "sQW_WWNOw7iC",
        "outputId": "28a8df79-e6cb-427d-fc10-522567f787ba"
      },
      "source": [
        "import numpy as np\n",
        "df=pd.DataFrame({'Name':['Pooji','Nani','Chinni','Chikki'],'state':['IND','USA','UK','USSR'],'Grade':['A','A','B','C'],'Age':np.random.uniform(24,35,size=4),'salary':np.random.uniform(3000,5000,size=4),})\n",
        "print(df)"
      ],
      "execution_count": null,
      "outputs": [
        {
          "output_type": "stream",
          "name": "stdout",
          "text": [
            "     Name state Grade        Age       salary\n",
            "0   Pooji   IND     A  26.264551  3899.680713\n",
            "1    Nani   USA     A  25.544974  4203.149560\n",
            "2  Chinni    UK     B  28.515929  4747.714343\n",
            "3  Chikki  USSR     C  30.385172  4727.967529\n"
          ]
        }
      ]
    },
    {
      "cell_type": "code",
      "metadata": {
        "colab": {
          "base_uri": "https://localhost:8080/",
          "height": 205
        },
        "id": "vbJJxrEGxVB0",
        "outputId": "b616eeaa-aea1-47a7-d696-eb9f6dccd75d"
      },
      "source": [
        "import numpy as np\n",
        "import pandas as pd\n",
        "df=pd.DataFrame({'Name':['Pooji','Nani','Chinni','Chikki'],'state':['IND','USA','UK','USSR'],'Grade':['A','A','B','C'],'Age':np.random.uniform(24,35,size=4),'salary':np.random.uniform(3000,5000,size=4),})\n",
        "df.groupby(['Name','state']).max()"
      ],
      "execution_count": null,
      "outputs": [
        {
          "output_type": "execute_result",
          "data": {
            "text/html": [
              "<div>\n",
              "<style scoped>\n",
              "    .dataframe tbody tr th:only-of-type {\n",
              "        vertical-align: middle;\n",
              "    }\n",
              "\n",
              "    .dataframe tbody tr th {\n",
              "        vertical-align: top;\n",
              "    }\n",
              "\n",
              "    .dataframe thead th {\n",
              "        text-align: right;\n",
              "    }\n",
              "</style>\n",
              "<table border=\"1\" class=\"dataframe\">\n",
              "  <thead>\n",
              "    <tr style=\"text-align: right;\">\n",
              "      <th></th>\n",
              "      <th></th>\n",
              "      <th>Grade</th>\n",
              "      <th>Age</th>\n",
              "      <th>salary</th>\n",
              "    </tr>\n",
              "    <tr>\n",
              "      <th>Name</th>\n",
              "      <th>state</th>\n",
              "      <th></th>\n",
              "      <th></th>\n",
              "      <th></th>\n",
              "    </tr>\n",
              "  </thead>\n",
              "  <tbody>\n",
              "    <tr>\n",
              "      <th>Chikki</th>\n",
              "      <th>USSR</th>\n",
              "      <td>C</td>\n",
              "      <td>25.203361</td>\n",
              "      <td>4909.809176</td>\n",
              "    </tr>\n",
              "    <tr>\n",
              "      <th>Chinni</th>\n",
              "      <th>UK</th>\n",
              "      <td>B</td>\n",
              "      <td>28.919410</td>\n",
              "      <td>3945.694426</td>\n",
              "    </tr>\n",
              "    <tr>\n",
              "      <th>Nani</th>\n",
              "      <th>USA</th>\n",
              "      <td>A</td>\n",
              "      <td>26.508960</td>\n",
              "      <td>3402.907756</td>\n",
              "    </tr>\n",
              "    <tr>\n",
              "      <th>Pooji</th>\n",
              "      <th>IND</th>\n",
              "      <td>A</td>\n",
              "      <td>28.653262</td>\n",
              "      <td>3678.957131</td>\n",
              "    </tr>\n",
              "  </tbody>\n",
              "</table>\n",
              "</div>"
            ],
            "text/plain": [
              "             Grade        Age       salary\n",
              "Name   state                              \n",
              "Chikki USSR      C  25.203361  4909.809176\n",
              "Chinni UK        B  28.919410  3945.694426\n",
              "Nani   USA       A  26.508960  3402.907756\n",
              "Pooji  IND       A  28.653262  3678.957131"
            ]
          },
          "metadata": {},
          "execution_count": 16
        }
      ]
    },
    {
      "cell_type": "markdown",
      "metadata": {
        "id": "hULFamT8x1Kd"
      },
      "source": [
        "**Scipy**"
      ]
    },
    {
      "cell_type": "code",
      "metadata": {
        "colab": {
          "base_uri": "https://localhost:8080/"
        },
        "id": "Z1OXQtpfyTUN",
        "outputId": "9f69de77-388c-4dc1-b6ff-e20cb8627b22"
      },
      "source": [
        "import numpy as np\n",
        "np.linspace(1.,4.,6)"
      ],
      "execution_count": null,
      "outputs": [
        {
          "output_type": "execute_result",
          "data": {
            "text/plain": [
              "array([1. , 1.6, 2.2, 2.8, 3.4, 4. ])"
            ]
          },
          "metadata": {},
          "execution_count": 17
        }
      ]
    },
    {
      "cell_type": "code",
      "metadata": {
        "colab": {
          "base_uri": "https://localhost:8080/"
        },
        "id": "MaIupdg8yhwy",
        "outputId": "503643c2-3755-4eb6-d7a6-c1b9ad3aa7c5"
      },
      "source": [
        "from scipy.cluster.vq import kmeans,vq,whiten\n",
        "from numpy import vstack,array\n",
        "from numpy.random import rand\n",
        "\n",
        "data=vstack((rand(100,3)+array([.5,.5,.5]),rand(100,3)))\n",
        "data"
      ],
      "execution_count": null,
      "outputs": [
        {
          "output_type": "execute_result",
          "data": {
            "text/plain": [
              "array([[9.48349512e-01, 8.20190704e-01, 8.73645846e-01],\n",
              "       [5.14047097e-01, 6.33423486e-01, 6.31630410e-01],\n",
              "       [9.72526396e-01, 7.41491562e-01, 7.59496121e-01],\n",
              "       [8.55553911e-01, 1.34871854e+00, 8.98443525e-01],\n",
              "       [1.25087309e+00, 5.56135642e-01, 7.26634137e-01],\n",
              "       [8.97434737e-01, 9.84435952e-01, 5.84513775e-01],\n",
              "       [1.18756343e+00, 5.54072166e-01, 8.75842633e-01],\n",
              "       [1.21009411e+00, 1.15044906e+00, 1.40522137e+00],\n",
              "       [9.22357399e-01, 1.06979606e+00, 1.28390450e+00],\n",
              "       [1.46373303e+00, 5.21550886e-01, 8.21221269e-01],\n",
              "       [9.38943812e-01, 6.75049961e-01, 1.08210200e+00],\n",
              "       [5.58138194e-01, 5.02820865e-01, 1.06662355e+00],\n",
              "       [5.21657504e-01, 5.35682164e-01, 1.29731904e+00],\n",
              "       [1.23535711e+00, 1.22822915e+00, 1.28474261e+00],\n",
              "       [1.20517536e+00, 6.16108702e-01, 1.32383283e+00],\n",
              "       [1.33055484e+00, 1.18500395e+00, 6.43178948e-01],\n",
              "       [1.30779946e+00, 6.30594144e-01, 8.14793548e-01],\n",
              "       [9.87752473e-01, 1.26795329e+00, 6.45927205e-01],\n",
              "       [8.18116058e-01, 1.13097289e+00, 1.23657965e+00],\n",
              "       [7.11850850e-01, 1.19688201e+00, 5.18349410e-01],\n",
              "       [9.79187351e-01, 1.22279094e+00, 1.42437976e+00],\n",
              "       [9.02025129e-01, 1.01230549e+00, 9.17824667e-01],\n",
              "       [6.57661644e-01, 6.10703175e-01, 5.99881041e-01],\n",
              "       [1.23777021e+00, 1.33631975e+00, 8.88040301e-01],\n",
              "       [6.83958060e-01, 9.87996426e-01, 7.02617259e-01],\n",
              "       [1.15701953e+00, 1.24127264e+00, 1.10705290e+00],\n",
              "       [1.41011812e+00, 8.74258783e-01, 1.42659316e+00],\n",
              "       [1.04762035e+00, 7.01456681e-01, 5.08506443e-01],\n",
              "       [1.45801830e+00, 1.41117837e+00, 9.88639525e-01],\n",
              "       [6.82257363e-01, 9.72234243e-01, 1.28537801e+00],\n",
              "       [6.65617027e-01, 9.44088579e-01, 9.34408964e-01],\n",
              "       [1.45503066e+00, 8.66520155e-01, 9.88969843e-01],\n",
              "       [1.28885690e+00, 1.37424081e+00, 1.19940473e+00],\n",
              "       [1.46065993e+00, 6.11739944e-01, 9.52341037e-01],\n",
              "       [1.18515704e+00, 5.96919344e-01, 8.63565737e-01],\n",
              "       [1.25492514e+00, 1.16797603e+00, 1.49643704e+00],\n",
              "       [8.94828264e-01, 1.04596140e+00, 1.29917370e+00],\n",
              "       [6.56299304e-01, 5.76716431e-01, 9.50229504e-01],\n",
              "       [6.80623078e-01, 7.33360954e-01, 1.48669900e+00],\n",
              "       [7.95275267e-01, 5.85751914e-01, 7.22124846e-01],\n",
              "       [1.02953694e+00, 9.53783094e-01, 9.04471806e-01],\n",
              "       [1.31749344e+00, 1.18143364e+00, 7.43486388e-01],\n",
              "       [9.28941828e-01, 6.98301164e-01, 1.18357187e+00],\n",
              "       [9.04120280e-01, 6.17512445e-01, 1.04914419e+00],\n",
              "       [1.01860513e+00, 7.53607046e-01, 7.52137251e-01],\n",
              "       [9.45400084e-01, 9.63582851e-01, 1.40109289e+00],\n",
              "       [1.07478338e+00, 8.66637933e-01, 1.45617534e+00],\n",
              "       [7.49117280e-01, 1.21966286e+00, 1.32129652e+00],\n",
              "       [6.09274176e-01, 1.23627818e+00, 5.60253315e-01],\n",
              "       [5.51740129e-01, 8.18859919e-01, 1.10053684e+00],\n",
              "       [8.21991234e-01, 1.38236715e+00, 5.56269754e-01],\n",
              "       [1.17297953e+00, 5.88123046e-01, 1.18902818e+00],\n",
              "       [1.31830468e+00, 7.33724327e-01, 1.11590866e+00],\n",
              "       [1.37294577e+00, 1.09085561e+00, 7.85868382e-01],\n",
              "       [6.54868746e-01, 1.42960085e+00, 8.20619722e-01],\n",
              "       [1.38364372e+00, 1.35149058e+00, 7.13923394e-01],\n",
              "       [6.61578251e-01, 6.73342363e-01, 5.09715917e-01],\n",
              "       [9.48764468e-01, 1.03298487e+00, 1.45737854e+00],\n",
              "       [6.32036592e-01, 1.49589397e+00, 1.11504139e+00],\n",
              "       [6.19094891e-01, 1.12204214e+00, 1.06649487e+00],\n",
              "       [1.04898480e+00, 5.04527282e-01, 1.37240882e+00],\n",
              "       [1.22634584e+00, 1.17623802e+00, 1.36676257e+00],\n",
              "       [1.12500542e+00, 1.22735305e+00, 9.87914862e-01],\n",
              "       [1.10964741e+00, 1.42674956e+00, 1.19353123e+00],\n",
              "       [1.36243683e+00, 6.94104646e-01, 8.13823439e-01],\n",
              "       [1.45318149e+00, 1.13895573e+00, 5.86017100e-01],\n",
              "       [6.09389630e-01, 1.11829318e+00, 7.54417542e-01],\n",
              "       [6.32274693e-01, 5.13467107e-01, 1.32955091e+00],\n",
              "       [1.18126936e+00, 9.80336376e-01, 1.35624524e+00],\n",
              "       [9.76023642e-01, 7.36671046e-01, 7.44430143e-01],\n",
              "       [1.08564200e+00, 5.05364940e-01, 1.01725329e+00],\n",
              "       [7.75796779e-01, 7.21464449e-01, 7.15975887e-01],\n",
              "       [1.29392744e+00, 9.44334652e-01, 9.45669159e-01],\n",
              "       [1.48687663e+00, 7.12203090e-01, 1.41690519e+00],\n",
              "       [9.73087574e-01, 7.56953183e-01, 7.06242506e-01],\n",
              "       [9.66034148e-01, 1.49271638e+00, 1.33352514e+00],\n",
              "       [1.44778823e+00, 1.40441281e+00, 8.44144858e-01],\n",
              "       [8.52287150e-01, 1.30394051e+00, 1.00409486e+00],\n",
              "       [1.21947636e+00, 1.38263056e+00, 1.17374534e+00],\n",
              "       [1.05847346e+00, 1.31215274e+00, 1.14346250e+00],\n",
              "       [1.18216251e+00, 1.21613543e+00, 1.42750054e+00],\n",
              "       [1.13241347e+00, 6.07659915e-01, 9.80987450e-01],\n",
              "       [6.14071643e-01, 1.09397662e+00, 1.30452260e+00],\n",
              "       [1.25471745e+00, 1.35743953e+00, 6.54141037e-01],\n",
              "       [8.39352341e-01, 5.37627404e-01, 8.34528993e-01],\n",
              "       [7.81362183e-01, 1.36389201e+00, 8.98306022e-01],\n",
              "       [1.20159658e+00, 1.02108924e+00, 1.19579369e+00],\n",
              "       [5.15704211e-01, 8.22866715e-01, 1.37186388e+00],\n",
              "       [1.10399727e+00, 5.88171271e-01, 1.33506874e+00],\n",
              "       [1.46073964e+00, 1.38668676e+00, 1.37196125e+00],\n",
              "       [1.15580797e+00, 1.36097650e+00, 1.05960110e+00],\n",
              "       [1.24299143e+00, 8.82126454e-01, 6.06425869e-01],\n",
              "       [9.47445724e-01, 6.25400867e-01, 5.33611389e-01],\n",
              "       [6.05697616e-01, 1.36335969e+00, 8.24620907e-01],\n",
              "       [1.44591375e+00, 8.91563879e-01, 1.02049751e+00],\n",
              "       [1.16328943e+00, 7.51428374e-01, 7.75873515e-01],\n",
              "       [6.43645063e-01, 5.17634109e-01, 8.75567087e-01],\n",
              "       [1.47156627e+00, 8.94029774e-01, 1.02947132e+00],\n",
              "       [1.47979605e+00, 1.41889570e+00, 6.76344059e-01],\n",
              "       [9.77268697e-01, 1.30765059e+00, 7.73801196e-01],\n",
              "       [7.15143396e-01, 5.92138408e-01, 6.13342314e-01],\n",
              "       [9.52741122e-01, 7.49215411e-01, 8.84011013e-01],\n",
              "       [7.94270492e-01, 1.04652979e-01, 3.71479582e-01],\n",
              "       [3.47619944e-01, 8.84842311e-02, 9.45084651e-02],\n",
              "       [5.44033086e-01, 7.43083783e-01, 4.83509603e-01],\n",
              "       [2.81292232e-01, 7.78800624e-01, 6.96114598e-01],\n",
              "       [5.93831262e-01, 4.44822748e-01, 5.73414002e-01],\n",
              "       [2.76277537e-01, 3.67242712e-01, 3.30637490e-01],\n",
              "       [5.95182238e-02, 4.78463987e-01, 7.92701228e-01],\n",
              "       [1.58809141e-01, 5.31638812e-01, 6.19064892e-03],\n",
              "       [6.47314128e-01, 3.37301736e-01, 8.01185618e-01],\n",
              "       [1.20299533e-01, 5.10109754e-01, 7.83183521e-01],\n",
              "       [9.74286170e-02, 9.68426888e-01, 2.46369160e-01],\n",
              "       [6.40029527e-01, 4.88878843e-02, 4.61896451e-01],\n",
              "       [1.99473468e-01, 9.40897810e-01, 5.70193441e-01],\n",
              "       [2.97504339e-01, 9.07067707e-01, 5.69465415e-01],\n",
              "       [4.20059805e-01, 5.18244128e-01, 5.22182132e-01],\n",
              "       [1.89813043e-01, 6.82757371e-01, 2.29338423e-01],\n",
              "       [1.11180683e-01, 9.24916228e-01, 9.90672498e-01],\n",
              "       [2.55220615e-01, 1.94300842e-01, 4.19175768e-01],\n",
              "       [9.69152271e-01, 9.97135474e-01, 1.53926179e-01],\n",
              "       [4.01554195e-01, 2.38746047e-01, 4.23719249e-01],\n",
              "       [3.05618207e-01, 3.89837483e-01, 2.94631244e-01],\n",
              "       [1.59803712e-02, 2.60482581e-01, 2.18854638e-01],\n",
              "       [3.60552736e-01, 5.47981215e-01, 8.18403055e-01],\n",
              "       [9.04229306e-01, 4.36398662e-01, 1.78288865e-01],\n",
              "       [6.29800510e-01, 7.20461417e-01, 8.79405502e-01],\n",
              "       [9.40524970e-01, 8.22076765e-01, 9.72055117e-01],\n",
              "       [2.08549216e-01, 7.83704412e-01, 5.51048754e-02],\n",
              "       [4.74128800e-01, 1.27439184e-01, 4.56723820e-01],\n",
              "       [4.09326458e-02, 1.34540736e-01, 6.79618081e-01],\n",
              "       [9.86980689e-01, 6.84590712e-01, 7.09730979e-01],\n",
              "       [4.33325793e-01, 6.40439779e-01, 6.92623606e-01],\n",
              "       [1.64877890e-01, 9.09481883e-01, 4.68626201e-01],\n",
              "       [4.48222007e-01, 9.03904184e-01, 5.58388321e-02],\n",
              "       [3.96918758e-01, 5.94164470e-01, 2.50492047e-01],\n",
              "       [2.76029398e-01, 2.71767801e-03, 3.02886590e-01],\n",
              "       [7.64911504e-01, 9.31475575e-01, 6.96135939e-01],\n",
              "       [6.01589850e-01, 8.99783054e-01, 8.75456274e-01],\n",
              "       [4.17892230e-01, 3.97210800e-01, 8.49858702e-02],\n",
              "       [8.52531941e-01, 4.42502112e-01, 2.18052750e-01],\n",
              "       [3.97160771e-01, 8.47056364e-01, 3.03991789e-01],\n",
              "       [7.14101791e-01, 6.03866931e-01, 3.15014052e-01],\n",
              "       [1.76434420e-01, 9.08971951e-01, 5.16374055e-01],\n",
              "       [4.45504254e-01, 5.99877062e-01, 9.26409965e-02],\n",
              "       [7.86715807e-01, 5.77802365e-01, 4.67316637e-03],\n",
              "       [7.81725150e-01, 5.55910137e-01, 1.84837330e-01],\n",
              "       [2.35262818e-02, 9.77099318e-01, 4.95173668e-01],\n",
              "       [7.57574109e-01, 9.64734655e-01, 9.52675904e-01],\n",
              "       [2.57763969e-01, 2.56678179e-01, 5.79401205e-01],\n",
              "       [5.36931003e-01, 8.09059956e-01, 9.97002426e-01],\n",
              "       [1.63395521e-01, 7.54886766e-01, 2.15224533e-01],\n",
              "       [8.45144951e-01, 4.36344679e-01, 8.54349860e-01],\n",
              "       [4.64003596e-01, 5.74188364e-02, 4.72518806e-02],\n",
              "       [9.63216962e-01, 8.87807237e-01, 5.29240166e-01],\n",
              "       [8.10455374e-01, 7.12971157e-02, 8.25999674e-01],\n",
              "       [2.84995626e-01, 7.11755427e-01, 6.92605210e-01],\n",
              "       [1.26417072e-01, 3.45384554e-02, 2.12446826e-01],\n",
              "       [8.64851498e-01, 1.96001380e-01, 4.81159569e-01],\n",
              "       [4.66747804e-01, 3.47867338e-01, 3.93069751e-01],\n",
              "       [4.33925554e-01, 4.97277306e-01, 8.64945197e-01],\n",
              "       [2.06401040e-02, 7.44345999e-01, 7.64022285e-01],\n",
              "       [5.78055252e-02, 3.57386743e-01, 7.42710144e-01],\n",
              "       [8.82986173e-01, 4.62752482e-02, 1.26113401e-01],\n",
              "       [8.51835483e-01, 5.22834448e-01, 2.97277685e-01],\n",
              "       [1.83795522e-01, 2.27193364e-02, 8.20534893e-01],\n",
              "       [4.14477050e-01, 6.75623098e-01, 3.17891637e-01],\n",
              "       [8.34793813e-01, 4.17078015e-01, 5.73434228e-01],\n",
              "       [2.67552817e-01, 1.42085948e-01, 9.51191688e-01],\n",
              "       [5.27532454e-01, 5.75254959e-01, 6.13999344e-01],\n",
              "       [8.14811018e-01, 2.57051500e-01, 2.90554619e-01],\n",
              "       [1.11269511e-01, 2.95979745e-01, 7.77763081e-01],\n",
              "       [5.13406341e-01, 7.92465512e-01, 1.30379797e-01],\n",
              "       [6.97737182e-01, 5.23221389e-01, 3.10927256e-04],\n",
              "       [5.96637764e-02, 3.07942908e-01, 6.67615470e-02],\n",
              "       [1.94340843e-01, 7.93174472e-01, 3.51625025e-01],\n",
              "       [7.85099545e-02, 8.42872896e-01, 2.93607597e-01],\n",
              "       [2.65088660e-01, 5.14937266e-01, 2.79366438e-01],\n",
              "       [7.23120901e-01, 4.24856630e-01, 9.53019433e-01],\n",
              "       [5.17714047e-01, 2.24285905e-01, 8.28914680e-01],\n",
              "       [1.82093056e-01, 5.74915729e-02, 1.20088629e-01],\n",
              "       [7.74486839e-01, 7.43173989e-01, 1.65695057e-01],\n",
              "       [3.96773327e-01, 3.52073231e-01, 8.95483731e-01],\n",
              "       [9.56172607e-01, 2.28964831e-01, 6.23460119e-01],\n",
              "       [7.98562567e-01, 6.96006047e-02, 9.41710863e-01],\n",
              "       [7.00457237e-01, 3.08067508e-01, 2.19719636e-01],\n",
              "       [8.80013957e-01, 5.60028484e-01, 9.90884293e-02],\n",
              "       [3.14691905e-01, 6.76905728e-01, 4.03605238e-01],\n",
              "       [7.78097266e-01, 7.03018071e-01, 7.54563445e-02],\n",
              "       [1.54837976e-01, 3.42358216e-01, 5.12366491e-01],\n",
              "       [8.54315373e-01, 3.32240813e-01, 4.26361901e-03],\n",
              "       [4.60847363e-01, 6.80069449e-01, 8.41850539e-01],\n",
              "       [8.72355834e-01, 6.66624330e-01, 9.31991927e-01],\n",
              "       [9.58819975e-02, 6.60050838e-01, 5.28836708e-01],\n",
              "       [1.73554704e-01, 4.62000856e-01, 9.20249132e-01],\n",
              "       [5.62050174e-01, 4.31601735e-01, 1.45712720e-01],\n",
              "       [5.79071539e-02, 3.95617078e-01, 5.80767470e-02],\n",
              "       [4.18524592e-01, 8.74290642e-01, 1.49775926e-01],\n",
              "       [3.38633231e-01, 7.81543519e-01, 1.39175580e-01],\n",
              "       [5.69952200e-01, 7.55681808e-01, 6.54562477e-01]])"
            ]
          },
          "metadata": {},
          "execution_count": 18
        }
      ]
    },
    {
      "cell_type": "code",
      "metadata": {
        "colab": {
          "base_uri": "https://localhost:8080/"
        },
        "id": "aSVvXHTgyvAI",
        "outputId": "8b69d4a2-2c3f-410f-9612-51ffae75bf40"
      },
      "source": [
        "data=whiten(data)\n",
        "data"
      ],
      "execution_count": null,
      "outputs": [
        {
          "output_type": "execute_result",
          "data": {
            "text/plain": [
              "array([[2.38541582e+00, 2.24601916e+00, 2.22539354e+00],\n",
              "       [1.29300017e+00, 1.73457377e+00, 1.60891996e+00],\n",
              "       [2.44622876e+00, 2.03050857e+00, 1.93462576e+00],\n",
              "       [2.15200389e+00, 3.69334555e+00, 2.28855941e+00],\n",
              "       [3.14636367e+00, 1.52292790e+00, 1.85091811e+00],\n",
              "       [2.25734816e+00, 2.69579014e+00, 1.48890215e+00],\n",
              "       [2.98711874e+00, 1.51727726e+00, 2.23098931e+00],\n",
              "       [3.04379093e+00, 3.15040223e+00, 3.57944878e+00],\n",
              "       [2.32003698e+00, 2.92954118e+00, 3.27042450e+00],\n",
              "       [3.68177753e+00, 1.42822063e+00, 2.09185509e+00],\n",
              "       [2.36175735e+00, 1.84856417e+00, 2.75638329e+00],\n",
              "       [1.40390401e+00, 1.37693013e+00, 2.71695581e+00],\n",
              "       [1.31214289e+00, 1.46691788e+00, 3.30459469e+00],\n",
              "       [3.10733581e+00, 3.36339609e+00, 3.27255939e+00],\n",
              "       [3.03141862e+00, 1.68715878e+00, 3.37213189e+00],\n",
              "       [3.34678990e+00, 3.24502773e+00, 1.63833696e+00],\n",
              "       [3.28955252e+00, 1.72682588e+00, 2.07548208e+00],\n",
              "       [2.48452743e+00, 3.47217711e+00, 1.64533745e+00],\n",
              "       [2.05783518e+00, 3.09706848e+00, 3.14987632e+00],\n",
              "       [1.79054269e+00, 3.27755472e+00, 1.32036504e+00],\n",
              "       [2.46298329e+00, 3.34850402e+00, 3.62824997e+00],\n",
              "       [2.26889453e+00, 2.77210838e+00, 2.33792800e+00],\n",
              "       [1.65423873e+00, 1.67235623e+00, 1.52804641e+00],\n",
              "       [3.11340556e+00, 3.65939256e+00, 2.26205981e+00],\n",
              "       [1.72038300e+00, 2.70554018e+00, 1.78974114e+00],\n",
              "       [2.91029062e+00, 3.39911452e+00, 2.81993945e+00],\n",
              "       [3.54691813e+00, 2.39407978e+00, 3.63388805e+00],\n",
              "       [2.63511515e+00, 1.92087662e+00, 1.29529255e+00],\n",
              "       [3.66740309e+00, 3.86438623e+00, 2.51831108e+00],\n",
              "       [1.71610518e+00, 2.66237685e+00, 3.27417789e+00],\n",
              "       [1.67424918e+00, 2.58530245e+00, 2.38017234e+00],\n",
              "       [3.65988818e+00, 2.37288823e+00, 2.51915249e+00],\n",
              "       [3.24190566e+00, 3.76323601e+00, 3.05518254e+00],\n",
              "       [3.67404768e+00, 1.67519533e+00, 2.42584979e+00],\n",
              "       [2.98106585e+00, 1.63461044e+00, 2.19971699e+00],\n",
              "       [3.15655593e+00, 3.19839830e+00, 3.81179780e+00],\n",
              "       [2.25079201e+00, 2.86427211e+00, 3.30931896e+00],\n",
              "       [1.65081199e+00, 1.57928656e+00, 2.42047119e+00],\n",
              "       [1.71199441e+00, 2.00824363e+00, 3.78699261e+00],\n",
              "       [2.00038296e+00, 1.60402942e+00, 1.83943182e+00],\n",
              "       [2.58962932e+00, 2.61185002e+00, 2.30391494e+00],\n",
              "       [3.31393612e+00, 3.23525075e+00, 1.89384499e+00],\n",
              "       [2.33659902e+00, 1.91223552e+00, 3.01485232e+00],\n",
              "       [2.27416453e+00, 1.69100281e+00, 2.67243154e+00],\n",
              "       [2.56213217e+00, 2.06368575e+00, 1.91588089e+00],\n",
              "       [2.37799703e+00, 2.63868578e+00, 3.56893252e+00],\n",
              "       [2.70343924e+00, 2.37321076e+00, 3.70924124e+00],\n",
              "       [1.88428021e+00, 3.33993807e+00, 3.36567130e+00],\n",
              "       [1.53252808e+00, 3.38543764e+00, 1.42710472e+00],\n",
              "       [1.38781074e+00, 2.24237492e+00, 2.80334141e+00],\n",
              "       [2.06758254e+00, 3.78548928e+00, 1.41695760e+00],\n",
              "       [2.95043535e+00, 1.61052256e+00, 3.02875089e+00],\n",
              "       [3.31597666e+00, 2.00923869e+00, 2.84249725e+00],\n",
              "       [3.45341725e+00, 2.98721089e+00, 2.00180248e+00],\n",
              "       [1.64721366e+00, 3.91483455e+00, 2.09032280e+00],\n",
              "       [3.48032618e+00, 3.70093654e+00, 1.81854068e+00],\n",
              "       [1.66409031e+00, 1.84388806e+00, 1.29837338e+00],\n",
              "       [2.38645958e+00, 2.82873704e+00, 3.71230608e+00],\n",
              "       [1.58978316e+00, 4.09637234e+00, 2.84028811e+00],\n",
              "       [1.55723046e+00, 3.07261242e+00, 2.71662803e+00],\n",
              "       [2.63854719e+00, 1.38160301e+00, 3.49586704e+00],\n",
              "       [3.08466947e+00, 3.22102301e+00, 3.48148465e+00],\n",
              "       [2.82976446e+00, 3.36099698e+00, 2.51646518e+00],\n",
              "       [2.79113393e+00, 3.90702655e+00, 3.04022128e+00],\n",
              "       [3.42698375e+00, 1.90074373e+00, 2.07301097e+00],\n",
              "       [3.65523688e+00, 3.11892878e+00, 1.49273150e+00],\n",
              "       [1.53281849e+00, 3.06234623e+00, 1.92168936e+00],\n",
              "       [1.59038207e+00, 1.40608392e+00, 3.38669729e+00],\n",
              "       [2.97128704e+00, 2.68456381e+00, 3.45469440e+00],\n",
              "       [2.45502551e+00, 2.01730802e+00, 1.89624897e+00],\n",
              "       [2.73075228e+00, 1.38389686e+00, 2.59119746e+00],\n",
              "       [1.95138806e+00, 1.97566611e+00, 1.82376889e+00],\n",
              "       [3.25465975e+00, 2.58597630e+00, 2.40885486e+00],\n",
              "       [3.73999142e+00, 1.95030470e+00, 3.60921039e+00],\n",
              "       [2.44764031e+00, 2.07284884e+00, 1.79897555e+00],\n",
              "       [2.42989859e+00, 4.08767080e+00, 3.39682064e+00],\n",
              "       [3.64167103e+00, 3.84585933e+00, 2.15024718e+00],\n",
              "       [2.14378689e+00, 3.57072490e+00, 2.55767968e+00],\n",
              "       [3.06739043e+00, 3.78621060e+00, 2.98982169e+00],\n",
              "       [2.66241435e+00, 3.59321337e+00, 2.91268374e+00],\n",
              "       [2.97353361e+00, 3.33027852e+00, 3.63619938e+00],\n",
              "       [2.84839818e+00, 1.66402253e+00, 2.49881934e+00],\n",
              "       [1.54459532e+00, 2.99575750e+00, 3.32294395e+00],\n",
              "       [3.15603353e+00, 3.71722721e+00, 1.66626013e+00],\n",
              "       [2.11125153e+00, 1.47224474e+00, 2.12575318e+00],\n",
              "       [1.96538691e+00, 3.73489675e+00, 2.28820915e+00],\n",
              "       [3.02241680e+00, 2.79616189e+00, 3.04598433e+00],\n",
              "       [1.29716837e+00, 2.25334718e+00, 3.49447895e+00],\n",
              "       [2.77692193e+00, 1.61065462e+00, 3.40075256e+00],\n",
              "       [3.67424815e+00, 3.79731814e+00, 3.49472698e+00],\n",
              "       [2.90724315e+00, 3.72691288e+00, 2.69906788e+00],\n",
              "       [3.12653868e+00, 2.41562469e+00, 1.54471771e+00],\n",
              "       [2.38314250e+00, 1.71260455e+00, 1.35924110e+00],\n",
              "       [1.52353184e+00, 3.73343904e+00, 2.10051481e+00],\n",
              "       [3.63695610e+00, 2.44146824e+00, 2.59946129e+00],\n",
              "       [2.92606151e+00, 2.05771965e+00, 1.97634307e+00],\n",
              "       [1.61898235e+00, 1.41749488e+00, 2.23028742e+00],\n",
              "       [3.70148075e+00, 2.44822088e+00, 2.62231984e+00],\n",
              "       [3.72218140e+00, 3.88551946e+00, 1.72281676e+00],\n",
              "       [2.45815724e+00, 3.58088463e+00, 1.97106435e+00],\n",
              "       [1.79882454e+00, 1.62151827e+00, 1.56233562e+00],\n",
              "       [2.39646219e+00, 2.05165964e+00, 2.25179620e+00],\n",
              "       [1.99785562e+00, 2.86582857e-01, 9.46251008e-01],\n",
              "       [8.74380285e-01, 2.42306183e-01, 2.40736597e-01],\n",
              "       [1.36842495e+00, 2.03486873e+00, 1.23161937e+00],\n",
              "       [7.07543932e-01, 2.13267611e+00, 1.77317724e+00],\n",
              "       [1.49368400e+00, 1.21810746e+00, 1.46062827e+00],\n",
              "       [6.94930298e-01, 1.00566145e+00, 8.42216029e-01],\n",
              "       [1.49708215e-01, 1.31023099e+00, 2.01920744e+00],\n",
              "       [3.99458040e-01, 1.45584551e+00, 1.57691245e-02],\n",
              "       [1.62821127e+00, 9.23670748e-01, 2.04081930e+00],\n",
              "       [3.02593512e-01, 1.39689011e+00, 1.99496347e+00],\n",
              "       [2.45065518e-01, 2.65195074e+00, 6.27563605e-01],\n",
              "       [1.60988807e+00, 1.33875115e-01, 1.17656529e+00],\n",
              "       [5.01742407e-01, 2.57656482e+00, 1.45242470e+00],\n",
              "       [7.48322795e-01, 2.48392409e+00, 1.45057023e+00],\n",
              "       [1.05659073e+00, 1.41916537e+00, 1.33012794e+00],\n",
              "       [4.77443212e-01, 1.86967022e+00, 5.84182078e-01],\n",
              "       [2.79656558e-01, 2.53280068e+00, 2.52348957e+00],\n",
              "       [6.41965106e-01, 5.32075543e-01, 1.06774507e+00],\n",
              "       [2.43774171e+00, 2.73056665e+00, 3.92088311e-01],\n",
              "       [1.01004294e+00, 6.53784775e-01, 1.07931845e+00],\n",
              "       [7.68731886e-01, 1.06753521e+00, 7.50499153e-01],\n",
              "       [4.01959720e-02, 7.13308339e-01, 5.57477267e-01],\n",
              "       [9.06910575e-01, 1.50059773e+00, 2.08467640e+00],\n",
              "       [2.27443877e+00, 1.19503885e+00, 4.54146141e-01],\n",
              "       [1.58415867e+00, 1.97291939e+00, 2.24006482e+00],\n",
              "       [2.36573449e+00, 2.25118397e+00, 2.47606647e+00],\n",
              "       [5.24570945e-01, 2.14610470e+00, 1.40365841e-01],\n",
              "       [1.19259232e+00, 3.48980851e-01, 1.16338931e+00],\n",
              "       [1.02959278e-01, 3.68427816e-01, 1.73115650e+00],\n",
              "       [2.48258614e+00, 1.87469066e+00, 1.80786155e+00],\n",
              "       [1.08995912e+00, 1.75378727e+00, 1.76428481e+00],\n",
              "       [4.14722971e-01, 2.49053510e+00, 1.19370764e+00],\n",
              "       [1.12742808e+00, 2.47526107e+00, 1.42235412e-01],\n",
              "       [9.98383270e-01, 1.62706646e+00, 6.38065625e-01],\n",
              "       [6.94306146e-01, 7.44211907e-03, 7.71527577e-01],\n",
              "       [1.92400795e+00, 2.55076286e+00, 1.77323160e+00],\n",
              "       [1.51319944e+00, 2.46397572e+00, 2.23000515e+00],\n",
              "       [1.05113856e+00, 1.08772638e+00, 2.16480176e-01],\n",
              "       [2.14440262e+00, 1.21175261e+00, 5.55434657e-01],\n",
              "       [9.98992013e-01, 2.31958838e+00, 7.74342792e-01],\n",
              "       [1.79620455e+00, 1.65363578e+00, 8.02419242e-01],\n",
              "       [4.43791504e-01, 2.48913870e+00, 1.31533332e+00],\n",
              "       [1.12059202e+00, 1.64270988e+00, 2.35979689e-01],\n",
              "       [1.97885306e+00, 1.58226029e+00, 1.19037185e-02],\n",
              "       [1.96629989e+00, 1.52231038e+00, 4.70826711e-01],\n",
              "       [5.91764577e-02, 2.67569942e+00, 1.26133065e+00],\n",
              "       [1.90555196e+00, 2.64183989e+00, 2.42670278e+00],\n",
              "       [6.48362491e-01, 7.02890321e-01, 1.47587916e+00],\n",
              "       [1.35056084e+00, 2.21553860e+00, 2.53961347e+00],\n",
              "       [4.10994319e-01, 2.06719015e+00, 5.48230486e-01],\n",
              "       [2.12582188e+00, 1.19489102e+00, 2.17624186e+00],\n",
              "       [1.16712405e+00, 1.57236367e-01, 1.20362308e-01],\n",
              "       [2.42281243e+00, 2.43118101e+00, 1.34810650e+00],\n",
              "       [2.03856600e+00, 1.95240799e-01, 2.10402688e+00],\n",
              "       [7.16859203e-01, 1.94907882e+00, 1.76423796e+00],\n",
              "       [3.17981167e-01, 9.45804825e-02, 5.41154973e-01],\n",
              "       [2.17539043e+00, 5.36732313e-01, 1.22563325e+00],\n",
              "       [1.17402665e+00, 9.52603709e-01, 1.00124655e+00],\n",
              "       [1.09146772e+00, 1.36174959e+00, 2.20323082e+00],\n",
              "       [5.19167565e-02, 2.03832520e+00, 1.94615503e+00],\n",
              "       [1.45400206e-01, 9.78671752e-01, 1.89186770e+00],\n",
              "       [2.22100519e+00, 1.26720644e-01, 3.21242241e-01],\n",
              "       [2.14265080e+00, 1.43173555e+00, 7.57240298e-01],\n",
              "       [4.62307136e-01, 6.22148784e-02, 2.09010672e+00],\n",
              "       [1.04254824e+00, 1.85013365e+00, 8.09749168e-01],\n",
              "       [2.09978531e+00, 1.14213098e+00, 1.46067979e+00],\n",
              "       [6.72984711e-01, 3.89089707e-01, 2.42292212e+00],\n",
              "       [1.32692035e+00, 1.57528445e+00, 1.56400924e+00],\n",
              "       [2.04952190e+00, 7.03912629e-01, 7.40114974e-01],\n",
              "       [2.79879990e-01, 8.10514158e-01, 1.98115626e+00],\n",
              "       [1.29138845e+00, 2.17009619e+00, 3.32109813e-01],\n",
              "       [1.75504210e+00, 1.43279515e+00, 7.92009154e-04],\n",
              "       [1.50074329e-01, 8.43274215e-01, 1.70058287e-01],\n",
              "       [4.88832142e-01, 2.17203762e+00, 8.95676508e-01],\n",
              "       [1.97478762e-01, 2.30813232e+00, 7.47891669e-01],\n",
              "       [6.66786533e-01, 1.41010982e+00, 7.11615890e-01],\n",
              "       [1.81889063e+00, 1.16343202e+00, 2.42757784e+00],\n",
              "       [1.30222377e+00, 6.14186967e-01, 2.11145212e+00],\n",
              "       [4.58024865e-01, 1.57435550e-01, 3.05895646e-01],\n",
              "       [1.94809312e+00, 2.03511575e+00, 4.22066575e-01],\n",
              "       [9.98017462e-01, 9.64121171e-01, 2.28102008e+00],\n",
              "       [2.40509352e+00, 6.26999789e-01, 1.58810819e+00],\n",
              "       [2.00865162e+00, 1.90595054e-01, 2.39877209e+00],\n",
              "       [1.76188394e+00, 8.43615420e-01, 5.59680633e-01],\n",
              "       [2.21352908e+00, 1.53358810e+00, 2.52402906e-01],\n",
              "       [7.91555267e-01, 1.85364602e+00, 1.02808306e+00],\n",
              "       [1.95717455e+00, 1.92515234e+00, 1.92206101e-01],\n",
              "       [3.89469234e-01, 9.37517469e-01, 1.30512505e+00],\n",
              "       [2.14888855e+00, 9.09811861e-01, 1.08604994e-02],\n",
              "       [1.15918507e+00, 1.86230959e+00, 2.14440298e+00],\n",
              "       [2.19426634e+00, 1.82549133e+00, 2.37401554e+00],\n",
              "       [2.41175254e-01, 1.80749041e+00, 1.34707880e+00],\n",
              "       [4.36548058e-01, 1.26514818e+00, 2.34410372e+00],\n",
              "       [1.41374394e+00, 1.18190290e+00, 3.71166585e-01],\n",
              "       [1.45655836e-01, 1.08336212e+00, 1.47935938e-01],\n",
              "       [1.05272916e+00, 2.39416702e+00, 3.81516583e-01],\n",
              "       [8.51775699e-01, 2.14018729e+00, 3.54514863e-01],\n",
              "       [1.43362018e+00, 2.06936730e+00, 1.66733364e+00]])"
            ]
          },
          "metadata": {},
          "execution_count": 19
        }
      ]
    },
    {
      "cell_type": "code",
      "metadata": {
        "colab": {
          "base_uri": "https://localhost:8080/"
        },
        "id": "jepYdaM-zE7s",
        "outputId": "9b11b645-c7b3-4317-e9a3-d3b2e6f312a6"
      },
      "source": [
        "centroids,_=kmeans(data,3)\n",
        "centroids"
      ],
      "execution_count": null,
      "outputs": [
        {
          "output_type": "execute_result",
          "data": {
            "text/plain": [
              "array([[1.01778653, 1.40045474, 1.01219872],\n",
              "       [2.28355511, 1.77510475, 2.29712276],\n",
              "       [2.71881255, 3.25369766, 2.68952005]])"
            ]
          },
          "metadata": {},
          "execution_count": 20
        }
      ]
    },
    {
      "cell_type": "code",
      "metadata": {
        "colab": {
          "base_uri": "https://localhost:8080/"
        },
        "id": "BgEE0MjSzSuz",
        "outputId": "220c464a-f0a5-4945-a06c-512a107403da"
      },
      "source": [
        "clx,_=vq(data,centroids)\n",
        "clx"
      ],
      "execution_count": null,
      "outputs": [
        {
          "output_type": "execute_result",
          "data": {
            "text/plain": [
              "array([1, 0, 1, 2, 1, 1, 1, 2, 2, 1, 1, 1, 1, 2, 1, 2, 1, 2, 2, 2, 2, 2,\n",
              "       0, 2, 1, 2, 2, 1, 2, 2, 1, 2, 2, 1, 1, 2, 2, 1, 1, 1, 2, 2, 1, 1,\n",
              "       1, 2, 2, 2, 2, 1, 2, 1, 1, 2, 2, 2, 0, 2, 2, 2, 1, 2, 2, 2, 1, 2,\n",
              "       2, 1, 2, 1, 1, 1, 2, 2, 1, 2, 2, 2, 2, 2, 2, 1, 2, 2, 1, 2, 2, 1,\n",
              "       1, 2, 2, 1, 1, 2, 2, 1, 1, 2, 2, 2, 1, 1, 0, 0, 0, 0, 0, 0, 0, 0,\n",
              "       1, 0, 0, 0, 0, 0, 0, 0, 0, 0, 0, 0, 0, 0, 0, 0, 1, 1, 0, 0, 0, 1,\n",
              "       0, 0, 0, 0, 0, 1, 1, 0, 0, 0, 0, 0, 0, 0, 0, 0, 1, 0, 1, 0, 1, 0,\n",
              "       1, 1, 0, 0, 0, 0, 0, 0, 0, 0, 0, 0, 0, 1, 0, 0, 0, 0, 0, 0, 0, 0,\n",
              "       0, 0, 1, 0, 0, 0, 0, 1, 1, 0, 0, 0, 0, 0, 0, 1, 1, 0, 0, 0, 0, 0,\n",
              "       0, 0], dtype=int32)"
            ]
          },
          "metadata": {},
          "execution_count": 21
        }
      ]
    },
    {
      "cell_type": "code",
      "metadata": {
        "colab": {
          "base_uri": "https://localhost:8080/"
        },
        "id": "YwOsrjHWzcMA",
        "outputId": "2882c9d3-64b2-4534-d470-2544662b255c"
      },
      "source": [
        "from scipy.fftpack import fft\n",
        "\n",
        "x=np.array([1.0,2.0,1.0,-1.0,1.5])\n",
        "\n",
        "y=fft(x)\n",
        "print(\"FFT :\\n\",y)"
      ],
      "execution_count": null,
      "outputs": [
        {
          "output_type": "stream",
          "name": "stdout",
          "text": [
            "FFT :\n",
            " [ 4.5       -0.j          2.08155948-1.65109876j -1.83155948+1.60822041j\n",
            " -1.83155948-1.60822041j  2.08155948+1.65109876j]\n"
          ]
        }
      ]
    },
    {
      "cell_type": "code",
      "metadata": {
        "colab": {
          "base_uri": "https://localhost:8080/"
        },
        "id": "DY1Iv9idzvNZ",
        "outputId": "fb1227b7-3e14-4d9a-b0bf-ce3ee193321d"
      },
      "source": [
        "from scipy.fftpack import ifft\n",
        "yinv=ifft(y)\n",
        "print(\"FFT Inverse:\\n\",yinv)"
      ],
      "execution_count": null,
      "outputs": [
        {
          "output_type": "stream",
          "name": "stdout",
          "text": [
            "FFT Inverse:\n",
            " [ 1. +0.j  2. +0.j  1. +0.j -1. +0.j  1.5+0.j]\n"
          ]
        }
      ]
    },
    {
      "cell_type": "code",
      "metadata": {
        "colab": {
          "base_uri": "https://localhost:8080/"
        },
        "id": "gIqntCIDz9_V",
        "outputId": "06ddfa08-2c56-4f4e-ff2e-07acd6f4a660"
      },
      "source": [
        "from scipy.fftpack import dct\n",
        "print(\"DCT:\\n\",dct(np.array([4.,3.,5.,10.,5.,3.])))"
      ],
      "execution_count": null,
      "outputs": [
        {
          "output_type": "stream",
          "name": "stdout",
          "text": [
            "DCT:\n",
            " [ 60.          -3.48476592 -13.85640646  11.3137085    6.\n",
            "  -6.31319305]\n"
          ]
        }
      ]
    },
    {
      "cell_type": "code",
      "metadata": {
        "colab": {
          "base_uri": "https://localhost:8080/"
        },
        "id": "ZHcXlUuV0M_4",
        "outputId": "d01ef1e3-311c-4f09-c3a0-80a3cf1b9485"
      },
      "source": [
        "from scipy.fftpack import idct\n",
        "print(\"IDCT:\\n\",idct(np.array([4.,3.,5.,10.,5.,3.])))"
      ],
      "execution_count": null,
      "outputs": [
        {
          "output_type": "stream",
          "name": "stdout",
          "text": [
            "IDCT:\n",
            " [ 39.15085889 -20.14213562  -6.45392043   7.13341236   8.14213562\n",
            "  -3.83035081]\n"
          ]
        }
      ]
    },
    {
      "cell_type": "markdown",
      "metadata": {
        "id": "DwLQeCko0Zkr"
      },
      "source": [
        "# **SciPy-Integrated**"
      ]
    },
    {
      "cell_type": "markdown",
      "metadata": {
        "id": "SDHTOLGZ0mTH"
      },
      "source": [
        "The general form of quad is scipy.integrate.quad(f,a,b), Where 'f' is the name of the function to be integrated. Whereas, 'a' and 'b' are the lower and upper limits, respectively. Let us see an example of the Gaussian function, integrated over a range of 0 and 1                                "
      ]
    },
    {
      "cell_type": "markdown",
      "metadata": {
        "id": "oH8h65fM0xGp"
      },
      "source": [
        "  # **∫f(x)dx**"
      ]
    },
    {
      "cell_type": "code",
      "metadata": {
        "colab": {
          "base_uri": "https://localhost:8080/"
        },
        "id": "VCIcUbZg07y-",
        "outputId": "b268de90-4709-474a-8d60-8e44e0ae3196"
      },
      "source": [
        "import scipy.integrate\n",
        "from numpy import exp\n",
        "f=lambda x:exp(-x**2)\n",
        "i=scipy.integrate.quad(f,0,1)\n",
        "print(i)"
      ],
      "execution_count": null,
      "outputs": [
        {
          "output_type": "stream",
          "name": "stdout",
          "text": [
            "(0.7468241328124271, 8.291413475940725e-15)\n"
          ]
        }
      ]
    },
    {
      "cell_type": "markdown",
      "metadata": {
        "id": "gwcczFCZ1Ey5"
      },
      "source": [
        "# **Linear Algebra**"
      ]
    },
    {
      "cell_type": "markdown",
      "metadata": {
        "id": "AsjWdu1w1R8B"
      },
      "source": [
        "**x+3y+5z=10**\n",
        "\n",
        "**2x+5y+z=8**\n",
        "\n",
        "**2x+3y+8z=3**"
      ]
    },
    {
      "cell_type": "code",
      "metadata": {
        "colab": {
          "base_uri": "https://localhost:8080/"
        },
        "id": "fMlVOCn71knz",
        "outputId": "d8f7e950-9478-43f4-88dd-347c1cd0d70c"
      },
      "source": [
        "from scipy import linalg\n",
        "import numpy as np\n",
        "\n",
        "a=np.array([[1,3,5],[2,5,1],[2,3,8]])\n",
        "b=np.array([10,8,3])\n",
        "\n",
        "X=linalg.solve(a,b)\n",
        "\n",
        "print(X)"
      ],
      "execution_count": null,
      "outputs": [
        {
          "output_type": "stream",
          "name": "stdout",
          "text": [
            "[-9.28  5.16  0.76]\n"
          ]
        }
      ]
    },
    {
      "cell_type": "markdown",
      "metadata": {
        "id": "uU7kjehZ1xeq"
      },
      "source": [
        "# **Finding an Determinant**"
      ]
    },
    {
      "cell_type": "code",
      "metadata": {
        "colab": {
          "base_uri": "https://localhost:8080/"
        },
        "id": "GVfhzO1F1_Ty",
        "outputId": "35854567-4b3d-4ac1-cbcc-fe569747f68b"
      },
      "source": [
        "from scipy import linalg\n",
        "import numpy as np\n",
        "\n",
        "A=np.array([[1,2],[3,4]])\n",
        "\n",
        "x=linalg.det(A)\n",
        "\n",
        "print(x)"
      ],
      "execution_count": null,
      "outputs": [
        {
          "output_type": "stream",
          "name": "stdout",
          "text": [
            "-2.0\n"
          ]
        }
      ]
    },
    {
      "cell_type": "markdown",
      "metadata": {
        "id": "5zNvM-dg2WMz"
      },
      "source": [
        "# **Eigen values and Eigen Vectors**"
      ]
    },
    {
      "cell_type": "code",
      "metadata": {
        "colab": {
          "base_uri": "https://localhost:8080/"
        },
        "id": "QDy6_1Ow2hRw",
        "outputId": "ffedd311-0405-4404-b1bc-ba8d7e8ad344"
      },
      "source": [
        "from scipy import linalg\n",
        "import numpy as np\n",
        "\n",
        "A=np.array([[1,2],[3,4]])\n",
        "\n",
        "l,v=linalg.eig(A)\n",
        "\n",
        "print(\"Eigen Values :\\n\",l)\n",
        "\n",
        "print(\"Eigen Vectors:\\n\",v)"
      ],
      "execution_count": null,
      "outputs": [
        {
          "output_type": "stream",
          "name": "stdout",
          "text": [
            "Eigen Values :\n",
            " [-0.37228132+0.j  5.37228132+0.j]\n",
            "Eigen Vectors:\n",
            " [[-0.82456484 -0.41597356]\n",
            " [ 0.56576746 -0.90937671]]\n"
          ]
        }
      ]
    },
    {
      "cell_type": "markdown",
      "metadata": {
        "id": "xzqzpk5-2t13"
      },
      "source": [
        "# **Matplot Library**"
      ]
    },
    {
      "cell_type": "code",
      "metadata": {
        "colab": {
          "base_uri": "https://localhost:8080/",
          "height": 265
        },
        "id": "2VVEMqE926fR",
        "outputId": "691e8ac8-a892-4e59-9710-a205a5cb9f7f"
      },
      "source": [
        "import matplotlib.pyplot as plt\n",
        "import numpy as np\n",
        "\n",
        "x=np.arange(5)\n",
        "y=(35,45,23,27,60)\n",
        "\n",
        "plt.bar(x,y)\n",
        "plt.show()"
      ],
      "execution_count": null,
      "outputs": [
        {
          "output_type": "display_data",
          "data": {
            "image/png": "[encoded data removed]",
            "text/plain": [
              "<Figure size 432x288 with 1 Axes>"
            ]
          },
          "metadata": {
            "needs_background": "light"
          }
        }
      ]
    },
    {
      "cell_type": "code",
      "metadata": {
        "colab": {
          "base_uri": "https://localhost:8080/",
          "height": 265
        },
        "id": "73W4vvS53L4K",
        "outputId": "4271905b-2849-4405-a6d3-d4863fd1e54a"
      },
      "source": [
        "plt.scatter(x,y)\n",
        "plt.show()"
      ],
      "execution_count": null,
      "outputs": [
        {
          "output_type": "display_data",
          "data": {
            "image/png": "[encoded data removed]",
            "text/plain": [
              "<Figure size 432x288 with 1 Axes>"
            ]
          },
          "metadata": {
            "needs_background": "light"
          }
        }
      ]
    },
    {
      "cell_type": "code",
      "metadata": {
        "colab": {
          "base_uri": "https://localhost:8080/",
          "height": 205
        },
        "id": "UY58e_tT3n_q",
        "outputId": "71bb8717-7ce2-4dd4-fdae-23561ac5beb7"
      },
      "source": [
        "import pandas as pd\n",
        "from sklearn.datasets import load_iris\n",
        "iris=load_iris()\n",
        "df=pd.DataFrame(iris.data)\n",
        "\n",
        "df.columns=['sepal_Length','sepal_Width','petal_Length','petal_Width']\n",
        "df.head()"
      ],
      "execution_count": null,
      "outputs": [
        {
          "output_type": "execute_result",
          "data": {
            "text/html": [
              "<div>\n",
              "<style scoped>\n",
              "    .dataframe tbody tr th:only-of-type {\n",
              "        vertical-align: middle;\n",
              "    }\n",
              "\n",
              "    .dataframe tbody tr th {\n",
              "        vertical-align: top;\n",
              "    }\n",
              "\n",
              "    .dataframe thead th {\n",
              "        text-align: right;\n",
              "    }\n",
              "</style>\n",
              "<table border=\"1\" class=\"dataframe\">\n",
              "  <thead>\n",
              "    <tr style=\"text-align: right;\">\n",
              "      <th></th>\n",
              "      <th>sepal_Length</th>\n",
              "      <th>sepal_Width</th>\n",
              "      <th>petal_Length</th>\n",
              "      <th>petal_Width</th>\n",
              "    </tr>\n",
              "  </thead>\n",
              "  <tbody>\n",
              "    <tr>\n",
              "      <th>0</th>\n",
              "      <td>5.1</td>\n",
              "      <td>3.5</td>\n",
              "      <td>1.4</td>\n",
              "      <td>0.2</td>\n",
              "    </tr>\n",
              "    <tr>\n",
              "      <th>1</th>\n",
              "      <td>4.9</td>\n",
              "      <td>3.0</td>\n",
              "      <td>1.4</td>\n",
              "      <td>0.2</td>\n",
              "    </tr>\n",
              "    <tr>\n",
              "      <th>2</th>\n",
              "      <td>4.7</td>\n",
              "      <td>3.2</td>\n",
              "      <td>1.3</td>\n",
              "      <td>0.2</td>\n",
              "    </tr>\n",
              "    <tr>\n",
              "      <th>3</th>\n",
              "      <td>4.6</td>\n",
              "      <td>3.1</td>\n",
              "      <td>1.5</td>\n",
              "      <td>0.2</td>\n",
              "    </tr>\n",
              "    <tr>\n",
              "      <th>4</th>\n",
              "      <td>5.0</td>\n",
              "      <td>3.6</td>\n",
              "      <td>1.4</td>\n",
              "      <td>0.2</td>\n",
              "    </tr>\n",
              "  </tbody>\n",
              "</table>\n",
              "</div>"
            ],
            "text/plain": [
              "   sepal_Length  sepal_Width  petal_Length  petal_Width\n",
              "0           5.1          3.5           1.4          0.2\n",
              "1           4.9          3.0           1.4          0.2\n",
              "2           4.7          3.2           1.3          0.2\n",
              "3           4.6          3.1           1.5          0.2\n",
              "4           5.0          3.6           1.4          0.2"
            ]
          },
          "metadata": {},
          "execution_count": 32
        }
      ]
    },
    {
      "cell_type": "code",
      "metadata": {
        "colab": {
          "base_uri": "https://localhost:8080/",
          "height": 281
        },
        "id": "_CtVDMKd38Bf",
        "outputId": "d1222b4e-8a07-4cf7-9235-3b0ecd4a4aff"
      },
      "source": [
        "df.hist()\n",
        "plt.show()"
      ],
      "execution_count": null,
      "outputs": [
        {
          "output_type": "display_data",
          "data": {
            "image/png": "[encoded data removed]",
            "text/plain": [
              "<Figure size 432x288 with 4 Axes>"
            ]
          },
          "metadata": {
            "needs_background": "light"
          }
        }
      ]
    },
    {
      "cell_type": "code",
      "metadata": {
        "colab": {
          "base_uri": "https://localhost:8080/",
          "height": 265
        },
        "id": "xK3psvD24Iw-",
        "outputId": "4970c81c-bbcb-445a-967c-0c49674d1c2a"
      },
      "source": [
        "df.plot()\n",
        "plt.show()"
      ],
      "execution_count": null,
      "outputs": [
        {
          "output_type": "display_data",
          "data": {
            "image/png": "[encoded data removed]",
            "text/plain": [
              "<Figure size 432x288 with 1 Axes>"
            ]
          },
          "metadata": {
            "needs_background": "light"
          }
        }
      ]
    },
    {
      "cell_type": "code",
      "metadata": {
        "colab": {
          "base_uri": "https://localhost:8080/",
          "height": 266
        },
        "id": "JOut3FhD5KKk",
        "outputId": "01471fd3-7dea-4fd0-9b2c-4c9dbf6cb9d0"
      },
      "source": [
        "df.boxplot()\n",
        "plt.show()"
      ],
      "execution_count": null,
      "outputs": [
        {
          "output_type": "display_data",
          "data": {
            "image/png": "[encoded data removed]",
            "text/plain": [
              "<Figure size 432x288 with 1 Axes>"
            ]
          },
          "metadata": {
            "needs_background": "light"
          }
        }
      ]
    },
    {
      "cell_type": "code",
      "metadata": {
        "colab": {
          "base_uri": "https://localhost:8080/",
          "height": 306
        },
        "id": "lwyCpb-c5ftN",
        "outputId": "8a93b256-e84a-46d7-bff8-dc0cecae0df5"
      },
      "source": [
        "import numpy as np\n",
        "x=np.linspace(0,20,1000)\n",
        "y=np.sin(x)\n",
        "\n",
        "plt.plot(x,y,label='sample Label')\n",
        "plt.title('sample plot title')\n",
        "plt.xlabel('x axis label')\n",
        "plt.ylabel('y axis label')\n",
        "plt.grid(True)\n",
        "\n",
        "plt.figtext(0.5,0.01,'Fig1:Sinusodial', ha='right',va='bottom')\n",
        "\n",
        "plt.legend(loc='best',framealpha=0.5,prop={'size':'small'})\n",
        "\n",
        "plt.tight_layout(pad=1)\n",
        "\n",
        "plt.show()"
      ],
      "execution_count": null,
      "outputs": [
        {
          "output_type": "display_data",
          "data": {
            "image/png": "[encoded data removed]",
            "text/plain": [
              "<Figure size 432x288 with 1 Axes>"
            ]
          },
          "metadata": {
            "needs_background": "light"
          }
        }
      ]
    }
  ]
}